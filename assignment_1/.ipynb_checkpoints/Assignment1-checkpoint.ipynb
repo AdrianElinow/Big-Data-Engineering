{
 "cells": [
  {
   "cell_type": "code",
   "execution_count": 1,
   "id": "4a610167",
   "metadata": {},
   "outputs": [],
   "source": [
    "# setup\n",
    "\n",
    "import os\n",
    "import sys\n",
    "\n",
    "spark_path = os.environ['SPARK_HOME']\n",
    "sys.path.append(spark_path + \"/bin\")\n",
    "sys.path.append(spark_path + \"/python\")\n",
    "sys.path.append(spark_path + \"/python/pyspark/\")\n",
    "sys.path.append(spark_path + \"/python/lib\")\n",
    "sys.path.append(spark_path + \"/python/lib/pyspark.zip\")\n",
    "sys.path.append(spark_path + \"/python/lib/py4j-0.10.9-src.zip\")\n",
    "\n",
    "import findspark\n",
    "findspark.init()\n",
    "\n",
    "import pyspark\n",
    "\n",
    "number_cores = 4\n",
    "memory_gb = 8\n",
    "\n",
    "conf = (pyspark.SparkConf().setMaster('local[{}]'.format(number_cores)).set('spark.driver.memory', '{}g'.format(memory_gb)))\n",
    "\n",
    "sc = pyspark.SparkContext(conf=conf)"
   ]
  },
  {
   "cell_type": "code",
   "execution_count": 2,
   "id": "8a9f0d54",
   "metadata": {},
   "outputs": [],
   "source": [
    "import re # for efficient parsing\n",
    "\n",
    "import requests, json # for ip lookup"
   ]
  },
  {
   "cell_type": "code",
   "execution_count": 3,
   "id": "1eed626f",
   "metadata": {},
   "outputs": [
    {
     "data": {
      "text/plain": [
       "['Dec 13 00:06:16 submitty sshd[19509]: pam_unix(sshd:auth): authentication failure; logname= uid=0 euid=0 tty=ssh ruser= rhost=218.92.0.184  user=root',\n",
       " 'Dec 13 00:06:17 submitty sshd[19509]: Failed password for root from 218.92.0.184 port 3753 ssh2',\n",
       " 'Dec 13 00:06:21 submitty sshd[19509]: Failed password for root from 218.92.0.184 port 3753 ssh2',\n",
       " 'Dec 13 00:07:01 submitty CRON[19523]: pam_unix(cron:session): session opened for user submitty_daemon by (uid=0)',\n",
       " 'Dec 13 00:07:02 submitty CRON[19523]: pam_unix(cron:session): session closed for user submitty_daemon']"
      ]
     },
     "execution_count": 3,
     "metadata": {},
     "output_type": "execute_result"
    }
   ],
   "source": [
    "# import all data\n",
    "\n",
    "#logfiles = [ sc.textFile( str(\"/Users/adrian/Development/CSC-467/assignment_1/auth_log/auth.log\"+(('.'+str(i)) if i > 0 else \"\"))) for i in range(5) ]\n",
    "\n",
    "logfile = sc.textFile( '/Users/adrian/Development/CSC-467/assignment_1/auth_log/auth.log*' )\n",
    "\n",
    "#dataset = logfiles[0]\n",
    "\n",
    "logfile.cache()\n",
    "\n",
    "logfile.take(5)\n"
   ]
  },
  {
   "cell_type": "code",
   "execution_count": 4,
   "id": "52bca953",
   "metadata": {},
   "outputs": [
    {
     "data": {
      "text/plain": [
       "('Dec',\n",
       " '3',\n",
       " '16:11:54',\n",
       " '22178',\n",
       " 'Failed password for root from 221.181.185.36 port 38772 ssh2')"
      ]
     },
     "execution_count": 4,
     "metadata": {},
     "output_type": "execute_result"
    }
   ],
   "source": [
    "def breakdown_re( entry ):\n",
    "    \n",
    "    ''' sample 'entry' examples:\n",
    "    Dec 3 16:11:54 submitty sshd[22178]: Failed password for root from 221.181.185.36 port 38772 ssh2\n",
    "    Dec 3 16:11:59 submitty sshd[22178]: message repeated 2 times: [ Failed password for root from 221.181.185.36 port 38772 ssh2]\n",
    "    Dec  6 19:19:42 submitty sshd[31862]: Failed password for invalid user pi from 188.27.33.153 port 36416 ssh2\n",
    "    Dec 14 20:40:44 submitty systemd: pam_unix(systemd-user:session): session opened for user lngo by (uid=0)\n",
    "    \n",
    "    output format ex:\n",
    "    { \n",
    "        'month': 'Dec',\n",
    "        'day': '7',\n",
    "        'time': '00:10:01',\n",
    "        'proc': '6806',\n",
    "        'msg': 'pam_unix(cron:session): session opened for user submitty_daemon by (uid=0)'\n",
    "    }\n",
    "    '''\n",
    "    extracts = re.search(r'(?P<month>\\w+) +(?P<day>\\d+) (?P<time>\\d+:\\d+:\\d+) \\S+ \\S+\\[(?P<proc>\\d+)\\]: ?(?P<msg>[\\S ]+)', entry)\n",
    "    return extracts.groups() if extracts else entry\n",
    "\n",
    "breakdown_re( 'Dec 3 16:11:54 submitty sshd[22178]: Failed password for root from 221.181.185.36 port 38772 ssh2') \n"
   ]
  },
  {
   "cell_type": "code",
   "execution_count": 31,
   "id": "f84d3297",
   "metadata": {},
   "outputs": [],
   "source": [
    "def extract_from_pwfail_attempt( entry ):\n",
    "    \n",
    "    ''' sample entry\n",
    "    ('Dec',\n",
    "     '3',\n",
    "     '16:11:54',\n",
    "     '22178',\n",
    "     'Failed password for root from 221.181.185.36 port 38772 ssh2')\n",
    "    '''\n",
    "    \n",
    "    # '... Failed ...'\n",
    "    extract = re.search(r'(?:for)?(?P<user>\\w+|) from (?P<ip>\\d+.\\d+.\\d+.\\d+) port (?P<port>\\d+)', entry[4])\n",
    "    \n",
    "    if extract:\n",
    "        return extract.groups(), entry[:4]\n",
    "    \n",
    "    # '... Invalid ...'\n",
    "    extract = re.search(r'(?P<user>\\S+)? from (?P<ip>\\d+.\\d+.\\d+.\\d+) (?:port )?(?P<port>\\d+)?', entry[4])\n",
    "    \n",
    "    if extract:\n",
    "        return extract.groups(), entry[:4]\n",
    "    \n",
    "    return ()"
   ]
  },
  {
   "cell_type": "code",
   "execution_count": 32,
   "id": "0a1ce7bb",
   "metadata": {},
   "outputs": [
    {
     "data": {
      "text/plain": [
       "[(('root', '218.92.0.184', '3753'), ('Dec', '13', '00:06:17', '19509')),\n",
       " (('root', '218.92.0.184', '3753'), ('Dec', '13', '00:06:21', '19509')),\n",
       " (('shalini', '27.128.173.81', '49454'), ('Dec', '13', '00:08:29', '19552')),\n",
       " (('shalini', '27.128.173.81', '49454'), ('Dec', '13', '00:08:32', '19552')),\n",
       " (('user5', '134.175.17.32', '44532'), ('Dec', '13', '00:08:40', '19560'))]"
      ]
     },
     "execution_count": 32,
     "metadata": {},
     "output_type": "execute_result"
    }
   ],
   "source": [
    "pruned_data = logfile.map(breakdown_re).map( extract_from_pwfail_attempt ).filter( lambda entry: entry)\n",
    "\n",
    "pruned_data.take(5)"
   ]
  },
  {
   "cell_type": "code",
   "execution_count": 13,
   "id": "24a97c93",
   "metadata": {},
   "outputs": [
    {
     "name": "stdout",
     "output_type": "stream",
     "text": [
      "failed root login attempts:     38287\n",
      "failed non-root login attempts: 47582\n"
     ]
    }
   ],
   "source": [
    "root_fails = pruned_data.filter(lambda entry: entry[0][0] == 'root')\n",
    "non_root_fails = pruned_data.filter(lambda entry: entry[0][0] != 'root')\n",
    "    \n",
    "print('failed root login attempts:    ',root_fails.count())\n",
    "print('failed non-root login attempts:', non_root_fails.count())    \n"
   ]
  },
  {
   "cell_type": "code",
   "execution_count": 10,
   "id": "f29552a7",
   "metadata": {},
   "outputs": [],
   "source": [
    "keyd = logfile.filter(lambda entry: entry and entry[0][0] != 'root')"
   ]
  },
  {
   "cell_type": "code",
   "execution_count": 15,
   "id": "46df5225",
   "metadata": {},
   "outputs": [],
   "source": [
    "def online_location_lookup( entry ):\n",
    "    \n",
    "    request_url = 'https://geolocation-db.com/jsonp/' + entry[0][1]\n",
    "    \n",
    "    try:\n",
    "        response = requests.get(request_url)\n",
    "        result = response.content.decode()\n",
    "        # Clean the returned string so it just contains the dictionary data for the IP address\n",
    "        result = result.split(\"(\")[0][1].strip(\")\")\n",
    "        # Convert this data into a dictionary\n",
    "        return json.loads(result)['country_name']\n",
    "    except:\n",
    "        return \"err: (\"+entry+\")\"\n",
    "    "
   ]
  },
  {
   "cell_type": "code",
   "execution_count": 12,
   "id": "f25c177a",
   "metadata": {},
   "outputs": [
    {
     "data": {
      "text/plain": [
       "[('root', '218.92.0.165', '8679'),\n",
       " ('root', '112.85.42.81', '13116'),\n",
       " ('disconnect', '49.234.62.183', '46408'),\n",
       " ('string', '164.68.112.178', '44449'),\n",
       " ('subida', '60.254.104.109', '54458'),\n",
       " ('root', '164.163.23.19', '57664'),\n",
       " ('root', '222.187.238.93', '46269'),\n",
       " ('nll', '157.245.100.56', '32988'),\n",
       " ('informix', '179.131.10.103', '8096'),\n",
       " ('root', '218.92.0.223', '28871')]"
      ]
     },
     "execution_count": 12,
     "metadata": {},
     "output_type": "execute_result"
    }
   ],
   "source": [
    "sample = pruned_data.takeSample(False, 100)\n",
    "sample[:10]"
   ]
  },
  {
   "cell_type": "code",
   "execution_count": null,
   "id": "65977ab0",
   "metadata": {},
   "outputs": [],
   "source": []
  },
  {
   "cell_type": "markdown",
   "id": "9de5073c",
   "metadata": {},
   "source": [
    "## Analysis Questions\n",
    "- How many failed attempts to access the server as root are there? List all countries from which these attempts where carried out.\n",
    "- How many failed attempts to access the server as non-root users are there? What are the attempted usernames? List all countries from which these attempts where carried out. \n",
    "- Through out the durations of the log files, which date has the highest number of attack attempts? Anything interesting ab?out that particular date?"
   ]
  },
  {
   "cell_type": "code",
   "execution_count": 21,
   "id": "cdbb578e",
   "metadata": {},
   "outputs": [
    {
     "name": "stdout",
     "output_type": "stream",
     "text": [
      "failed root login attempts:     38287\n",
      "Vietnam: 3%\n",
      "China: 69%\n",
      "United States: 5%\n",
      "Brazil: 2%\n",
      "Paraguay: 1%\n",
      "Russia: 1%\n",
      "Hong Kong: 1%\n",
      "Venezuela: 1%\n",
      "France: 3%\n",
      "Thailand: 1%\n",
      "Senegal: 1%\n",
      "Germany: 3%\n",
      "Argentina: 1%\n",
      "Singapore: 3%\n",
      "India: 2%\n",
      "Taiwan: 1%\n",
      "Netherlands: 1%\n",
      "Spain: 1%\n"
     ]
    }
   ],
   "source": [
    "# root accesses \n",
    "print('failed root login attempts:    ',root_fails.count())\n",
    "\n",
    "hist = {}\n",
    "root_fail_sample = root_fails.takeSample(False, 100)\n",
    "for entry in root_fail_sample:\n",
    "    resolve = online_location_lookup(entry)\n",
    "    if resolve in hist:\n",
    "        hist[resolve] += 1\n",
    "    else:\n",
    "        hist[resolve] = 1\n",
    "        \n",
    "for k,v in hist.items():\n",
    "    print(\"{0}: {1}%\".format(k, v))"
   ]
  },
  {
   "cell_type": "markdown",
   "id": "c6a1bd4d",
   "metadata": {},
   "source": [
    "failed root login attempts:     38287\n",
    "Vietnam: 3%\n",
    "China: 69%\n",
    "United States: 5%\n",
    "Brazil: 2%\n",
    "Paraguay: 1%\n",
    "Russia: 1%\n",
    "Hong Kong: 1%\n",
    "Venezuela: 1%\n",
    "France: 3%\n",
    "Thailand: 1%\n",
    "Senegal: 1%\n",
    "Germany: 3%\n",
    "Argentina: 1%\n",
    "Singapore: 3%\n",
    "India: 2%\n",
    "Taiwan: 1%\n",
    "Netherlands: 1%\n",
    "Spain: 1%"
   ]
  },
  {
   "cell_type": "code",
   "execution_count": 29,
   "id": "e586eb5a",
   "metadata": {},
   "outputs": [
    {
     "name": "stdout",
     "output_type": "stream",
     "text": [
      "failed root login attempts:     47582\n",
      "Vietnam: 3%\n",
      "China: 69%\n",
      "United States: 5%\n",
      "Brazil: 2%\n",
      "Paraguay: 1%\n",
      "Russia: 1%\n",
      "Hong Kong: 1%\n",
      "Venezuela: 1%\n",
      "France: 3%\n",
      "Thailand: 1%\n",
      "Senegal: 1%\n",
      "Germany: 3%\n",
      "Argentina: 1%\n",
      "Singapore: 3%\n",
      "India: 2%\n",
      "Taiwan: 1%\n",
      "Netherlands: 1%\n",
      "Spain: 1%\n"
     ]
    }
   ],
   "source": [
    "# non-root accesses \n",
    "print('failed root login attempts:    ',non_root_fails.count())\n",
    "\n",
    "hist_nr = {}\n",
    "non_root_fail_sample = non_root_fails.takeSample(False, 100)\n",
    "for entry in root_fail_sample:\n",
    "    resolve = online_location_lookup(entry)\n",
    "    if resolve in hist_nr:\n",
    "        hist_nr[resolve] += 1\n",
    "    else:\n",
    "        hist_nr[resolve] = 1\n",
    "        \n",
    "for k,v in hist_nr.items():\n",
    "    print(\"{0}: {1}%\".format(k, v))"
   ]
  },
  {
   "cell_type": "markdown",
   "id": "969ba77e",
   "metadata": {},
   "source": [
    "failed root login attempts:     47582\n",
    "Vietnam: 3%\n",
    "China: 69%\n",
    "United States: 5%\n",
    "Brazil: 2%\n",
    "Paraguay: 1%\n",
    "Russia: 1%\n",
    "Hong Kong: 1%\n",
    "Venezuela: 1%\n",
    "France: 3%\n",
    "Thailand: 1%\n",
    "Senegal: 1%\n",
    "Germany: 3%\n",
    "Argentina: 1%\n",
    "Singapore: 3%\n",
    "India: 2%\n",
    "Taiwan: 1%\n",
    "Netherlands: 1%\n",
    "Spain: 1%"
   ]
  },
  {
   "cell_type": "code",
   "execution_count": 83,
   "id": "f86f89f1",
   "metadata": {},
   "outputs": [
    {
     "data": {
      "text/plain": [
       "85869"
      ]
     },
     "execution_count": 83,
     "metadata": {},
     "output_type": "execute_result"
    }
   ],
   "source": [
    "# Most attacked date\n",
    "\n",
    "def dateonly(entry):\n",
    "    return entry[1][0], entry[1][1]\n",
    "\n",
    "date_hist = {'Dec':{},'Nov':{}}\n",
    "\n",
    "datesonly = pruned_data.map( dateonly )\n",
    "\n",
    "for m,d in datesonly.takeSample(False, 85000):\n",
    "    if m in date_hist and d in date_hist[m]:\n",
    "        date_hist[m][d] += 1\n",
    "    else:\n",
    "        date_hist[m][d] = 1\n",
    "\n",
    "datesonly.count()"
   ]
  },
  {
   "cell_type": "code",
   "execution_count": 85,
   "id": "b717af0e",
   "metadata": {},
   "outputs": [
    {
     "name": "stdout",
     "output_type": "stream",
     "text": [
      "Dec 3 : 2773\n",
      "Dec 8 : 4107\n",
      "Dec 4 : 2638\n",
      "Dec 14 : 2181\n",
      "Dec 10 : 2524\n",
      "Dec 12 : 2905\n",
      "Dec 6 : 3603\n",
      "Dec 13 : 3427\n",
      "Dec 15 : 2964\n",
      "Dec 2 : 2493\n",
      "Dec 7 : 3204\n",
      "Dec 1 : 2248\n",
      "Dec 11 : 3218\n",
      "Dec 5 : 2558\n",
      "Dec 9 : 2822\n",
      "Dec 16 : 2421\n",
      "Nov 16 : 2212\n",
      "Nov 29 : 2818\n",
      "Nov 30 : 2000\n",
      "Nov 27 : 3168\n",
      "Nov 17 : 2427\n",
      "Nov 20 : 2349\n",
      "Nov 15 : 1793\n",
      "Nov 24 : 3053\n",
      "Nov 18 : 1951\n",
      "Nov 28 : 2708\n",
      "Nov 25 : 2349\n",
      "Nov 22 : 2812\n",
      "Nov 19 : 2207\n",
      "Nov 21 : 2251\n",
      "Nov 23 : 2575\n",
      "Nov 26 : 2241\n"
     ]
    }
   ],
   "source": [
    "for k,v in date_hist.items():\n",
    "    for d,n in v.items():\n",
    "        print(k, d,':', n)"
   ]
  },
  {
   "cell_type": "code",
   "execution_count": null,
   "id": "ed8fd844",
   "metadata": {},
   "outputs": [],
   "source": []
  }
 ],
 "metadata": {
  "kernelspec": {
   "display_name": "Python 3",
   "language": "python",
   "name": "python3"
  },
  "language_info": {
   "codemirror_mode": {
    "name": "ipython",
    "version": 3
   },
   "file_extension": ".py",
   "mimetype": "text/x-python",
   "name": "python",
   "nbconvert_exporter": "python",
   "pygments_lexer": "ipython3",
   "version": "3.6.13"
  }
 },
 "nbformat": 4,
 "nbformat_minor": 5
}
