{
 "cells": [
  {
   "cell_type": "code",
   "execution_count": 8,
   "id": "4a610167",
   "metadata": {},
   "outputs": [],
   "source": [
    "# setup\n",
    "\n",
    "import os\n",
    "import sys\n",
    "\n",
    "spark_path = os.environ['SPARK_HOME']\n",
    "sys.path.append(spark_path + \"/bin\")\n",
    "sys.path.append(spark_path + \"/python\")\n",
    "sys.path.append(spark_path + \"/python/pyspark/\")\n",
    "sys.path.append(spark_path + \"/python/lib\")\n",
    "sys.path.append(spark_path + \"/python/lib/pyspark.zip\")\n",
    "sys.path.append(spark_path + \"/python/lib/py4j-0.10.9-src.zip\")\n",
    "\n",
    "import findspark\n",
    "findspark.init()\n",
    "\n",
    "import pyspark\n",
    "\n",
    "number_cores = 4\n",
    "memory_gb = 8\n",
    "\n",
    "conf = (pyspark.SparkConf().setMaster('local[{}]'.format(number_cores)).set('spark.driver.memory', '{}g'.format(memory_gb)))\n",
    "\n",
    "sc = pyspark.SparkContext(conf=conf)"
   ]
  },
  {
   "cell_type": "code",
   "execution_count": 9,
   "id": "8a9f0d54",
   "metadata": {},
   "outputs": [],
   "source": [
    "import re # for efficient parsing\n",
    "\n",
    "import requests, json # for ip lookup"
   ]
  },
  {
   "cell_type": "code",
   "execution_count": 10,
   "id": "1eed626f",
   "metadata": {},
   "outputs": [
    {
     "data": {
      "text/plain": [
       "['Dec 13 00:06:16 submitty sshd[19509]: pam_unix(sshd:auth): authentication failure; logname= uid=0 euid=0 tty=ssh ruser= rhost=218.92.0.184  user=root',\n",
       " 'Dec 13 00:06:17 submitty sshd[19509]: Failed password for root from 218.92.0.184 port 3753 ssh2',\n",
       " 'Dec 13 00:06:21 submitty sshd[19509]: Failed password for root from 218.92.0.184 port 3753 ssh2',\n",
       " 'Dec 13 00:07:01 submitty CRON[19523]: pam_unix(cron:session): session opened for user submitty_daemon by (uid=0)',\n",
       " 'Dec 13 00:07:02 submitty CRON[19523]: pam_unix(cron:session): session closed for user submitty_daemon']"
      ]
     },
     "execution_count": 10,
     "metadata": {},
     "output_type": "execute_result"
    }
   ],
   "source": [
    "# import all data\n",
    "\n",
    "#logfiles = [ sc.textFile( str(\"/Users/adrian/Development/CSC-467/assignment_1/auth_log/auth.log\"+(('.'+str(i)) if i > 0 else \"\"))) for i in range(5) ]\n",
    "\n",
    "logfile = sc.textFile( '/Users/adrian/Development/CSC-467/assignment_1/auth_log/auth.log*' )\n",
    "\n",
    "#dataset = logfiles[0]\n",
    "\n",
    "logfile.cache()\n",
    "\n",
    "logfile.take(5)\n"
   ]
  },
  {
   "cell_type": "code",
   "execution_count": 11,
   "id": "52bca953",
   "metadata": {},
   "outputs": [
    {
     "data": {
      "text/plain": [
       "('Dec',\n",
       " '3',\n",
       " '16:11:54',\n",
       " '22178',\n",
       " 'Failed password for root from 221.181.185.36 port 38772 ssh2')"
      ]
     },
     "execution_count": 11,
     "metadata": {},
     "output_type": "execute_result"
    }
   ],
   "source": [
    "def breakdown_re( entry ):\n",
    "    \n",
    "    ''' sample 'entry' examples:\n",
    "    Dec 3 16:11:54 submitty sshd[22178]: Failed password for root from 221.181.185.36 port 38772 ssh2\n",
    "    Dec 3 16:11:59 submitty sshd[22178]: message repeated 2 times: [ Failed password for root from 221.181.185.36 port 38772 ssh2]\n",
    "    Dec  6 19:19:42 submitty sshd[31862]: Failed password for invalid user pi from 188.27.33.153 port 36416 ssh2\n",
    "    Dec 14 20:40:44 submitty systemd: pam_unix(systemd-user:session): session opened for user lngo by (uid=0)\n",
    "    \n",
    "    output format ex:\n",
    "    { \n",
    "        'month': 'Dec',\n",
    "        'day': '7',\n",
    "        'time': '00:10:01',\n",
    "        'proc': '6806',\n",
    "        'msg': 'pam_unix(cron:session): session opened for user submitty_daemon by (uid=0)'\n",
    "    }\n",
    "    '''\n",
    "    extracts = re.search(r'(?P<month>\\w+) +(?P<day>\\d+) (?P<time>\\d+:\\d+:\\d+) \\S+ \\S+\\[(?P<proc>\\d+)\\]: ?(?P<msg>[\\S ]+)', entry)\n",
    "    return extracts.groups() if extracts else entry\n",
    "\n",
    "breakdown_re( 'Dec 3 16:11:54 submitty sshd[22178]: Failed password for root from 221.181.185.36 port 38772 ssh2') \n"
   ]
  },
  {
   "cell_type": "code",
   "execution_count": 12,
   "id": "f84d3297",
   "metadata": {},
   "outputs": [],
   "source": [
    "def extract_from_pwfail_attempt( entry ):\n",
    "    \n",
    "    ''' sample entry\n",
    "    ('Dec',\n",
    "     '3',\n",
    "     '16:11:54',\n",
    "     '22178',\n",
    "     'Failed password for root from 221.181.185.36 port 38772 ssh2')\n",
    "    '''\n",
    "    \n",
    "    # '... Failed ...'\n",
    "    extract = re.search(r'(?:for)?(?P<user>\\w+|) from (?P<ip>\\d+.\\d+.\\d+.\\d+) port (?P<port>\\d+)', entry[4])\n",
    "    \n",
    "    if extract:\n",
    "        return extract.groups(), entry[:4]\n",
    "    \n",
    "    # '... Invalid ...'\n",
    "    extract = re.search(r'(?P<user>\\S+)? from (?P<ip>\\d+.\\d+.\\d+.\\d+) (?:port )?(?P<port>\\d+)?', entry[4])\n",
    "    \n",
    "    if extract:\n",
    "        return extract.groups(), entry[:4]\n",
    "    \n",
    "    return ()"
   ]
  },
  {
   "cell_type": "code",
   "execution_count": 13,
   "id": "0a1ce7bb",
   "metadata": {},
   "outputs": [
    {
     "data": {
      "text/plain": [
       "[(('root', '218.92.0.184', '3753'), ('Dec', '13', '00:06:17', '19509')),\n",
       " (('root', '218.92.0.184', '3753'), ('Dec', '13', '00:06:21', '19509')),\n",
       " (('shalini', '27.128.173.81', '49454'), ('Dec', '13', '00:08:29', '19552')),\n",
       " (('shalini', '27.128.173.81', '49454'), ('Dec', '13', '00:08:32', '19552')),\n",
       " (('user5', '134.175.17.32', '44532'), ('Dec', '13', '00:08:40', '19560'))]"
      ]
     },
     "execution_count": 13,
     "metadata": {},
     "output_type": "execute_result"
    }
   ],
   "source": [
    "pruned_data = logfile.map(breakdown_re).map( extract_from_pwfail_attempt ).filter( lambda entry: entry)\n",
    "\n",
    "pruned_data.take(5)"
   ]
  },
  {
   "cell_type": "code",
   "execution_count": 14,
   "id": "24a97c93",
   "metadata": {},
   "outputs": [
    {
     "name": "stdout",
     "output_type": "stream",
     "text": [
      "failed root login attempts:     38287\n",
      "failed non-root login attempts: 47582\n"
     ]
    }
   ],
   "source": [
    "root_fails = pruned_data.filter(lambda entry: entry[0][0] == 'root')\n",
    "non_root_fails = pruned_data.filter(lambda entry: entry[0][0] != 'root')\n",
    "    \n",
    "print('failed root login attempts:    ',root_fails.count())\n",
    "print('failed non-root login attempts:', non_root_fails.count())    \n"
   ]
  },
  {
   "cell_type": "code",
   "execution_count": 15,
   "id": "46df5225",
   "metadata": {},
   "outputs": [],
   "source": [
    "def online_location_lookup( entry ):\n",
    "    \n",
    "    request_url = 'https://geolocation-db.com/jsonp/' + entry[0][1]\n",
    "    \n",
    "    try:\n",
    "        response = requests.get(request_url)\n",
    "        result = response.content.decode()\n",
    "        # Clean the returned string so it just contains the dictionary data for the IP address\n",
    "        result = result.split(\"(\")[1].strip(')')\n",
    "        # Convert this data into a dictionary\n",
    "        return json.loads(result)['country_name']\n",
    "    except:\n",
    "        return \"err: (\"+str(entry)+\")\"\n"
   ]
  },
  {
   "cell_type": "markdown",
   "id": "9de5073c",
   "metadata": {},
   "source": [
    "## Analysis Questions\n",
    "1. How many failed attempts to access the server as root are there? List all countries from which these attempts where carried out.\n",
    "2. How many failed attempts to access the server as non-root users are there? What are the attempted usernames? List all countries from which these attempts where carried out. \n",
    "3. Through out the durations of the log files, which date has the highest number of attack attempts? Anything interesting ab?out that particular date?"
   ]
  },
  {
   "cell_type": "markdown",
   "id": "7e28ae6a",
   "metadata": {},
   "source": [
    "## Analysis Questions 1 and 2 explanations\n",
    "\n",
    "- For the root-access fails and non-root access fails, I filtered my data by the username `root`\n",
    "- I then proceeded to take a sample of 100 (although larger sample sizes may be used) to use in the lookup process. This reduces the number of lookups that I have to perform, while still being representative of the data.\n",
    "\n",
    "- I found the online lookup to be more robust than using the poorly formatted ip2loc dataset: ipv4 addresses without '.'s is effectively unusable\n",
    "\n",
    "NOTE: In order to get my instance of jupyter and pyspark running I had to make some additional fixes. Some of the notebook may not work as it does on my machine, so I've included the outputs of each code block execution as reference for what it should look like and what data I used."
   ]
  },
  {
   "cell_type": "code",
   "execution_count": 16,
   "id": "cdbb578e",
   "metadata": {},
   "outputs": [
    {
     "name": "stdout",
     "output_type": "stream",
     "text": [
      "sample complete\n",
      "****************************************************************************************************\n",
      "Countries:\n",
      "China: 77%\n",
      "Russia: 1%\n",
      "Malaysia: 1%\n",
      "Ireland: 1%\n",
      "France: 1%\n",
      "United States: 8%\n",
      "Hong Kong: 1%\n",
      "United Kingdom: 1%\n",
      "Cyprus: 1%\n",
      "Brazil: 2%\n",
      "Italy: 1%\n",
      "Canada: 1%\n",
      "South Korea: 1%\n",
      "Hungary: 1%\n",
      "Germany: 1%\n",
      "South Africa: 1%\n"
     ]
    }
   ],
   "source": [
    "# root accesses \n",
    "\n",
    "root_fails = pruned_data.filter(lambda entry: entry[0][0] == 'root')\n",
    "\n",
    "hist = {}\n",
    "root_fail_sample = root_fails.takeSample(False, 100)\n",
    "\n",
    "print('sample complete')\n",
    "\n",
    "for entry in root_fail_sample:\n",
    "    resolve = online_location_lookup(entry)\n",
    "    print('*',end='')\n",
    "    if resolve in hist:\n",
    "        hist[resolve] += 1\n",
    "    else:\n",
    "        hist[resolve] = 1\n",
    "        \n",
    "        \n",
    "print('\\nCountries:')        \n",
    "for k,v in hist.items():\n",
    "    print(\"{0}: {1}%\".format(k, v))"
   ]
  },
  {
   "cell_type": "markdown",
   "id": "8b0ad128",
   "metadata": {},
   "source": [
    "`failed root login attempts:     38287\n",
    "Vietnam: 3%\n",
    "China: 69%\n",
    "United States: 5%\n",
    "Brazil: 2%\n",
    "Paraguay: 1%\n",
    "Russia: 1%\n",
    "Hong Kong: 1%\n",
    "Venezuela: 1%\n",
    "France: 3%\n",
    "Thailand: 1%\n",
    "Senegal: 1%\n",
    "Germany: 3%\n",
    "Argentina: 1%\n",
    "Singapore: 3%\n",
    "India: 2%\n",
    "Taiwan: 1%\n",
    "Netherlands: 1%\n",
    "Spain: 1%`"
   ]
  },
  {
   "cell_type": "code",
   "execution_count": 17,
   "id": "b3df7b0c",
   "metadata": {},
   "outputs": [
    {
     "name": "stdout",
     "output_type": "stream",
     "text": [
      "failed root login attempts:     47582\n",
      "China: 77%\n",
      "Russia: 1%\n",
      "Malaysia: 1%\n",
      "Ireland: 1%\n",
      "France: 1%\n",
      "United States: 8%\n",
      "Hong Kong: 1%\n",
      "United Kingdom: 1%\n",
      "Cyprus: 1%\n",
      "Brazil: 2%\n",
      "Italy: 1%\n",
      "Canada: 1%\n",
      "South Korea: 1%\n",
      "Hungary: 1%\n",
      "Germany: 1%\n",
      "South Africa: 1%\n"
     ]
    }
   ],
   "source": [
    "# non-root accesses \n",
    "\n",
    "non_root_fails = pruned_data.filter(lambda entry: entry[0][0] != 'root')\n",
    "\n",
    "print('failed root login attempts:    ',non_root_fails.count())\n",
    "\n",
    "hist_nr = {}\n",
    "non_root_fail_sample = non_root_fails.takeSample(False, 100)\n",
    "for entry in root_fail_sample:\n",
    "    resolve = online_location_lookup(entry)\n",
    "    if resolve in hist_nr:\n",
    "        hist_nr[resolve] += 1\n",
    "    else:\n",
    "        hist_nr[resolve] = 1\n",
    "        \n",
    "for k,v in hist_nr.items():\n",
    "    print(\"{0}: {1}%\".format(k, v))"
   ]
  },
  {
   "cell_type": "markdown",
   "id": "5d791c9d",
   "metadata": {},
   "source": [
    "`failed root login attempts:     47582\n",
    "Vietnam: 3%\n",
    "China: 69%\n",
    "United States: 5%\n",
    "Brazil: 2%\n",
    "Paraguay: 1%\n",
    "Russia: 1%\n",
    "Hong Kong: 1%\n",
    "Venezuela: 1%\n",
    "France: 3%\n",
    "Thailand: 1%\n",
    "Senegal: 1%\n",
    "Germany: 3%\n",
    "Argentina: 1%\n",
    "Singapore: 3%\n",
    "India: 2%\n",
    "Taiwan: 1%\n",
    "Netherlands: 1%\n",
    "Spain: 1%`"
   ]
  },
  {
   "cell_type": "markdown",
   "id": "1b53af6b",
   "metadata": {},
   "source": [
    "## Analysis Question 3 Explanation\n",
    "\n",
    "- To determine which date had the most access attempts, I took only the month and day values from each entry in the dataset and simply counted the number of access fail entries existed for each date. I found that December 8th had the most failed access attempts."
   ]
  },
  {
   "cell_type": "code",
   "execution_count": 18,
   "id": "35915237",
   "metadata": {},
   "outputs": [
    {
     "name": "stdout",
     "output_type": "stream",
     "text": [
      "Nov 15 : 1809\n",
      "Nov 16 : 2233\n",
      "Nov 17 : 2458\n",
      "Nov 18 : 1974\n",
      "Nov 19 : 2228\n",
      "Nov 20 : 2375\n",
      "Nov 21 : 2275\n",
      "Nov 22 : 2847\n",
      "Nov 23 : 2601\n",
      "Nov 24 : 3079\n",
      "Nov 25 : 2378\n",
      "Nov 26 : 2268\n",
      "Nov 27 : 3190\n",
      "Nov 28 : 2730\n",
      "Nov 29 : 2857\n",
      "Nov 30 : 2027\n",
      "Dec 1 : 2268\n",
      "Dec 2 : 2516\n",
      "Dec 3 : 2804\n",
      "Dec 4 : 2656\n",
      "Dec 5 : 2586\n",
      "Dec 6 : 3644\n",
      "Dec 7 : 3240\n",
      "Dec 8 : 4149\n",
      "Dec 9 : 2845\n",
      "Dec 10 : 2547\n",
      "Dec 11 : 3254\n",
      "Dec 12 : 2926\n",
      "Dec 13 : 3468\n",
      "Dec 14 : 2199\n",
      "Dec 15 : 2995\n",
      "Dec 16 : 2443\n"
     ]
    }
   ],
   "source": [
    "# Most attacked date\n",
    "\n",
    "def dateonly(entry):\n",
    "    return entry[1][0], entry[1][1]\n",
    "\n",
    "date_hist = {'Dec':{},'Nov':{}}\n",
    "\n",
    "datesonly = pruned_data.map( dateonly )\n",
    "\n",
    "highest = 0, (None, None)\n",
    "\n",
    "for m in ['Nov','Dec']:\n",
    "    for d in [ str(i) for i in (range(1,17) if m == 'Dec' else range(15,31)) ]:\n",
    "        \n",
    "        n = datesonly.filter(lambda entry: entry[0] == m and entry[1] == d).count()\n",
    "        \n",
    "        date_hist[m][d] = n\n",
    "        \n",
    "        if highest[0] < n:\n",
    "            highest = n, (m,d)\n",
    "        \n",
    "        print(m,d,':',n)\n"
   ]
  },
  {
   "cell_type": "code",
   "execution_count": 19,
   "id": "d115e9f5",
   "metadata": {},
   "outputs": [
    {
     "name": "stdout",
     "output_type": "stream",
     "text": [
      "highest attack day: [ Dec 8 ] with 4149 attempts\n"
     ]
    }
   ],
   "source": [
    "print('highest attack day: [',highest[1][0], highest[1][1],'] with', highest[0],'attempts')"
   ]
  },
  {
   "cell_type": "markdown",
   "id": "3ee3d072",
   "metadata": {},
   "source": [
    "`highest attack day: [ Dec 8 ] with 4149 attempts`\n",
    "\n",
    "On December 8th 2021: \n",
    "    President Biden met with Russian President Vladimir Putin in a secure video call on Tuesday and warned him that the United States and its allies would impose harsh sanctions if Russia invades Ukraine."
   ]
  }
 ],
 "metadata": {
  "kernelspec": {
   "display_name": "Python 3",
   "language": "python",
   "name": "python3"
  },
  "language_info": {
   "codemirror_mode": {
    "name": "ipython",
    "version": 3
   },
   "file_extension": ".py",
   "mimetype": "text/x-python",
   "name": "python",
   "nbconvert_exporter": "python",
   "pygments_lexer": "ipython3",
   "version": "3.6.13"
  }
 },
 "nbformat": 4,
 "nbformat_minor": 5
}
