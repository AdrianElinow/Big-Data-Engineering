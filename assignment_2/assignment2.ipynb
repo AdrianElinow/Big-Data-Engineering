{
 "cells": [
  {
   "cell_type": "markdown",
   "id": "54863a8d",
   "metadata": {},
   "source": [
    "- How many unique users are there in the dataset?\n",
    "- Identify the user(s) with the highest number of reviews. What is(are) the average/median review scores for these user(s)?"
   ]
  },
  {
   "cell_type": "code",
   "execution_count": 1,
   "id": "3b1bbcbe",
   "metadata": {},
   "outputs": [],
   "source": [
    "# setup\n",
    "\n",
    "import os, sys, findspark\n",
    "spark_path = os.environ['SPARK_HOME']\n",
    "sys.path.append(spark_path + \"/bin\")\n",
    "sys.path.append(spark_path + \"/python\")\n",
    "sys.path.append(spark_path + \"/python/pyspark/\")\n",
    "sys.path.append(spark_path + \"/python/lib\")\n",
    "sys.path.append(spark_path + \"/python/lib/pyspark.zip\")\n",
    "sys.path.append(spark_path + \"/python/lib/py4j-0.10.9-src.zip\")\n",
    "findspark.init()\n",
    "import pyspark\n",
    "number_cores = 4\n",
    "memory_gb = 8\n",
    "conf = (pyspark.SparkConf().setMaster('local[{}]'.format(number_cores)).set('spark.driver.memory', '{}g'.format(memory_gb)))\n",
    "sc = pyspark.SparkContext(conf=conf)"
   ]
  },
  {
   "cell_type": "code",
   "execution_count": 2,
   "id": "92f48564",
   "metadata": {},
   "outputs": [],
   "source": [
    "import json"
   ]
  },
  {
   "cell_type": "code",
   "execution_count": 47,
   "id": "fcaa3fb8",
   "metadata": {},
   "outputs": [
    {
     "data": {
      "text/plain": [
       "[{'user_id': 'ntlvfPzc8eglqvk92iDIAw',\n",
       "  'name': 'Rafael',\n",
       "  'review_count': 553,\n",
       "  'yelping_since': '2007-07-06 03:27:11',\n",
       "  'useful': 628,\n",
       "  'funny': 225,\n",
       "  'cool': 227,\n",
       "  'elite': '',\n",
       "  'friends': ['oeMvJh94PiGQnx_6GlndPQ',\n",
       "   'wm1z1PaJKvHgSDRKfwhfDg',\n",
       "   'IkRib6Xs91PPW7pon7VVig',\n",
       "   'A8Aq8f0-XvLBcyMk2GJdJQ',\n",
       "   'eEZM1kogR7eL4GOBZyPvBA',\n",
       "   'e1o1LN7ez5ckCpQeAab4iw',\n",
       "   '_HrJVzFaRFUhPva8cwBjpQ',\n",
       "   'pZeGZGzX-ROT_D5lam5uNg',\n",
       "   '0S6EI51ej5J7dgYz3-O0lA',\n",
       "   'woDt8raW-AorxQM_tIE2eA',\n",
       "   'hWUnSE5gKXNe7bDc8uAG9A',\n",
       "   'c_3LDSO2RHwZ94_Q6j_O7w',\n",
       "   '-uv1wDiaplY6eXXS0VwQiA',\n",
       "   'QFjqxXn3acDC7hckFGUKMg',\n",
       "   'ErOqapICmHPTN8YobZIcfQ',\n",
       "   'mJLRvqLOKhqEdkgt9iEaCQ',\n",
       "   'VKX7jlScJSA-ja5hYRw12Q',\n",
       "   'ijIC9w5PRcj3dWVlanjZeg',\n",
       "   'CIZGlEw-Bp0rmkP8M6yQ9Q',\n",
       "   'OC6fT5WZ8EU7tEVJ3bzPBQ',\n",
       "   'UZSDGTDpycDzrlfUlyw2dQ',\n",
       "   'deL6e_z9xqZTIODKqnvRXQ',\n",
       "   '5mG2ENw2PylIWElqHSMGqg',\n",
       "   'Uh5Kug2fvDd51RYmsNZkGg',\n",
       "   '4dI4uoShugD9z84fYupelQ',\n",
       "   'EQpFHqGT9Tk6YSwORTtwpg',\n",
       "   'o4EGL2-ICGmRJzJ3GxB-vw',\n",
       "   's8gK7sdVzJcYKcPv2dkZXw',\n",
       "   'vOYVZgb_GVe-kdtjQwSUHw',\n",
       "   'wBbjgHsrKr7BsPBrQwJf2w',\n",
       "   'p59u2EC_qcmCmLeX1jCi5Q',\n",
       "   'VSAZI1eHDrOPRWMK4Q2DIQ',\n",
       "   'efMfeI_dkhpeGykaRJqxfQ',\n",
       "   'x6qYcQ8_i0mMDzSLsFCbZg',\n",
       "   'K_zSmtNGw1fu-vmxyTVfCQ',\n",
       "   '5IM6YPQCK-NABkXmHhlRGQ',\n",
       "   'U_w8ZMD26vnkeeS1sD7s4Q',\n",
       "   'AbfS_oXF8H6HJb5jFqhrLw',\n",
       "   'hbcjX4_D4KIfonNnwrH-cg',\n",
       "   'UKf66_MPz0zHCP70mF6p1g',\n",
       "   'hK2gYbxZRTqcqlSiQQcrtQ',\n",
       "   '2Q45w_Twx_T9dXqlE16xtQ',\n",
       "   'BwRn8qcKSeA77HLaOTbfiQ',\n",
       "   'jouOn4VS_DtFPtMR2w8VDA',\n",
       "   'ESteyJabbfvqas6CEDs3pQ'],\n",
       "  'fans': 14,\n",
       "  'average_stars': 3.57,\n",
       "  'compliment_hot': 3,\n",
       "  'compliment_more': 2,\n",
       "  'compliment_profile': 1,\n",
       "  'compliment_cute': 0,\n",
       "  'compliment_list': 1,\n",
       "  'compliment_note': 11,\n",
       "  'compliment_plain': 15,\n",
       "  'compliment_cool': 22,\n",
       "  'compliment_funny': 22,\n",
       "  'compliment_writer': 10,\n",
       "  'compliment_photos': 0}]"
      ]
     },
     "execution_count": 47,
     "metadata": {},
     "output_type": "execute_result"
    }
   ],
   "source": [
    "#yelp_small_raw = sc.textFile( './yelp_small.json' )\n",
    "yelp_full_raw = sc.textFile('./yelp_academic_dataset_user.json')\n",
    "\n",
    "#yelp_data = yelp_small_raw.map( lambda entry: json.loads(entry) )\n",
    "yelp_data = yelp_full_raw.map( lambda entry: json.loads(entry) )\n",
    "\n",
    "def split_friends( entry ):\n",
    "    entry['friends'] = entry['friends'].split(', ')\n",
    "    return entry\n",
    "\n",
    "yelp_data = yelp_data.map( split_friends )\n",
    "yelp_data.take(1)"
   ]
  },
  {
   "cell_type": "code",
   "execution_count": 48,
   "id": "09ab3cf8",
   "metadata": {},
   "outputs": [
    {
     "data": {
      "text/plain": [
       "1968703"
      ]
     },
     "execution_count": 48,
     "metadata": {},
     "output_type": "execute_result"
    }
   ],
   "source": [
    "## number of users\n",
    "yelp_data.map( lambda entry: entry['user_id'] ).distinct().count()\n"
   ]
  },
  {
   "cell_type": "code",
   "execution_count": 49,
   "id": "f4806ceb",
   "metadata": {},
   "outputs": [
    {
     "data": {
      "text/plain": [
       "[('ntlvfPzc8eglqvk92iDIAw', 553, 3.57),\n",
       " ('FOBRPlBHa3WPHFB5qYDlVg', 564, 3.84),\n",
       " ('zZUnPeh2hEp0WydbAZEOOg', 60, 3.44),\n",
       " ('QaELAmRcDc5TfJEylaaP8g', 206, 3.08),\n",
       " ('xvu8G900tezTzbbfqmTKvA', 485, 4.37)]"
      ]
     },
     "execution_count": 49,
     "metadata": {},
     "output_type": "execute_result"
    }
   ],
   "source": [
    "user_scores = yelp_data.map( lambda entry: (entry['user_id'], entry['review_count'], entry['average_stars']) )\n",
    "\n",
    "user_scores.take(5)"
   ]
  },
  {
   "cell_type": "code",
   "execution_count": 50,
   "id": "9c8f1e31",
   "metadata": {},
   "outputs": [],
   "source": [
    "spark = pyspark.sql.SparkSession(sc)"
   ]
  },
  {
   "cell_type": "code",
   "execution_count": 51,
   "id": "01c6de46",
   "metadata": {},
   "outputs": [
    {
     "data": {
      "text/plain": [
       "['user_id',\n",
       " 'name',\n",
       " 'review_count',\n",
       " 'yelping_since',\n",
       " 'useful',\n",
       " 'funny',\n",
       " 'cool',\n",
       " 'elite',\n",
       " 'friends',\n",
       " 'fans',\n",
       " 'average_stars',\n",
       " 'compliment_hot',\n",
       " 'compliment_more',\n",
       " 'compliment_profile',\n",
       " 'compliment_cute',\n",
       " 'compliment_list',\n",
       " 'compliment_note',\n",
       " 'compliment_plain',\n",
       " 'compliment_cool',\n",
       " 'compliment_funny',\n",
       " 'compliment_writer',\n",
       " 'compliment_photos']"
      ]
     },
     "execution_count": 51,
     "metadata": {},
     "output_type": "execute_result"
    }
   ],
   "source": [
    "list(yelp_data.first().keys())"
   ]
  },
  {
   "cell_type": "code",
   "execution_count": 52,
   "id": "adebb37e",
   "metadata": {
    "scrolled": true
   },
   "outputs": [
    {
     "data": {
      "text/plain": [
       "[(45, 14),\n",
       " (213, 27),\n",
       " (35, 5),\n",
       " (173, 6),\n",
       " (895, 78),\n",
       " (90, 15),\n",
       " (54, 0),\n",
       " (755, 137),\n",
       " (85, 4),\n",
       " (344, 31),\n",
       " (27, 5),\n",
       " (210, 13),\n",
       " (1855, 197),\n",
       " (8, 0),\n",
       " (105, 4),\n",
       " (349, 31),\n",
       " (296, 11),\n",
       " (302, 1),\n",
       " (28, 7),\n",
       " (262, 26)]"
      ]
     },
     "execution_count": 52,
     "metadata": {},
     "output_type": "execute_result"
    }
   ],
   "source": [
    "yelp_data.map(lambda entry: (len(entry['friends']),entry['fans']) ).take(20)"
   ]
  },
  {
   "cell_type": "code",
   "execution_count": 54,
   "id": "59054c6f",
   "metadata": {},
   "outputs": [
    {
     "data": {
      "text/plain": [
       "[('8k3aO-mPeyhbR5HUucA5aA', 14455, 3.28)]"
      ]
     },
     "execution_count": 54,
     "metadata": {},
     "output_type": "execute_result"
    }
   ],
   "source": [
    "reviews = yelp_data.map(lambda line: (line['review_count'],line ))\n",
    "reviews.sortByKey(False).map(lambda line: (line[1]['user_id'],line[0],line[1]['average_stars'])).take(1)"
   ]
  },
  {
   "cell_type": "code",
   "execution_count": 55,
   "id": "d453855f",
   "metadata": {},
   "outputs": [
    {
     "data": {
      "text/plain": [
       "[{'user_id': 'ntlvfPzc8eglqvk92iDIAw',\n",
       "  'name': 'Rafael',\n",
       "  'review_count': 553,\n",
       "  'yelping_since': '2007-07-06 03:27:11',\n",
       "  'useful': 628,\n",
       "  'funny': 225,\n",
       "  'cool': 227,\n",
       "  'elite': '',\n",
       "  'friends': ['oeMvJh94PiGQnx_6GlndPQ',\n",
       "   'wm1z1PaJKvHgSDRKfwhfDg',\n",
       "   'IkRib6Xs91PPW7pon7VVig',\n",
       "   'A8Aq8f0-XvLBcyMk2GJdJQ',\n",
       "   'eEZM1kogR7eL4GOBZyPvBA',\n",
       "   'e1o1LN7ez5ckCpQeAab4iw',\n",
       "   '_HrJVzFaRFUhPva8cwBjpQ',\n",
       "   'pZeGZGzX-ROT_D5lam5uNg',\n",
       "   '0S6EI51ej5J7dgYz3-O0lA',\n",
       "   'woDt8raW-AorxQM_tIE2eA',\n",
       "   'hWUnSE5gKXNe7bDc8uAG9A',\n",
       "   'c_3LDSO2RHwZ94_Q6j_O7w',\n",
       "   '-uv1wDiaplY6eXXS0VwQiA',\n",
       "   'QFjqxXn3acDC7hckFGUKMg',\n",
       "   'ErOqapICmHPTN8YobZIcfQ',\n",
       "   'mJLRvqLOKhqEdkgt9iEaCQ',\n",
       "   'VKX7jlScJSA-ja5hYRw12Q',\n",
       "   'ijIC9w5PRcj3dWVlanjZeg',\n",
       "   'CIZGlEw-Bp0rmkP8M6yQ9Q',\n",
       "   'OC6fT5WZ8EU7tEVJ3bzPBQ',\n",
       "   'UZSDGTDpycDzrlfUlyw2dQ',\n",
       "   'deL6e_z9xqZTIODKqnvRXQ',\n",
       "   '5mG2ENw2PylIWElqHSMGqg',\n",
       "   'Uh5Kug2fvDd51RYmsNZkGg',\n",
       "   '4dI4uoShugD9z84fYupelQ',\n",
       "   'EQpFHqGT9Tk6YSwORTtwpg',\n",
       "   'o4EGL2-ICGmRJzJ3GxB-vw',\n",
       "   's8gK7sdVzJcYKcPv2dkZXw',\n",
       "   'vOYVZgb_GVe-kdtjQwSUHw',\n",
       "   'wBbjgHsrKr7BsPBrQwJf2w',\n",
       "   'p59u2EC_qcmCmLeX1jCi5Q',\n",
       "   'VSAZI1eHDrOPRWMK4Q2DIQ',\n",
       "   'efMfeI_dkhpeGykaRJqxfQ',\n",
       "   'x6qYcQ8_i0mMDzSLsFCbZg',\n",
       "   'K_zSmtNGw1fu-vmxyTVfCQ',\n",
       "   '5IM6YPQCK-NABkXmHhlRGQ',\n",
       "   'U_w8ZMD26vnkeeS1sD7s4Q',\n",
       "   'AbfS_oXF8H6HJb5jFqhrLw',\n",
       "   'hbcjX4_D4KIfonNnwrH-cg',\n",
       "   'UKf66_MPz0zHCP70mF6p1g',\n",
       "   'hK2gYbxZRTqcqlSiQQcrtQ',\n",
       "   '2Q45w_Twx_T9dXqlE16xtQ',\n",
       "   'BwRn8qcKSeA77HLaOTbfiQ',\n",
       "   'jouOn4VS_DtFPtMR2w8VDA',\n",
       "   'ESteyJabbfvqas6CEDs3pQ'],\n",
       "  'fans': 14,\n",
       "  'average_stars': 3.57,\n",
       "  'compliment_hot': 3,\n",
       "  'compliment_more': 2,\n",
       "  'compliment_profile': 1,\n",
       "  'compliment_cute': 0,\n",
       "  'compliment_list': 1,\n",
       "  'compliment_note': 11,\n",
       "  'compliment_plain': 15,\n",
       "  'compliment_cool': 22,\n",
       "  'compliment_funny': 22,\n",
       "  'compliment_writer': 10,\n",
       "  'compliment_photos': 0}]"
      ]
     },
     "execution_count": 55,
     "metadata": {},
     "output_type": "execute_result"
    }
   ],
   "source": [
    "yelp_data.take(1)"
   ]
  },
  {
   "cell_type": "code",
   "execution_count": 57,
   "id": "0bf2129a",
   "metadata": {},
   "outputs": [
    {
     "name": "stdout",
     "output_type": "stream",
     "text": [
      "+--------------------+-------+-------------------+---------+------------+\n",
      "|                  id|reviews|             joined|ave_stars|interactions|\n",
      "+--------------------+-------+-------------------+---------+------------+\n",
      "|ntlvfPzc8eglqvk92...|    553|2007-07-06 03:27:11|     3.57|        1166|\n",
      "|FOBRPlBHa3WPHFB5q...|    564|2008-04-28 01:29:25|     3.84|        1771|\n",
      "|zZUnPeh2hEp0WydbA...|     60|2008-08-28 23:40:05|     3.44|         444|\n",
      "|QaELAmRcDc5TfJEyl...|    206|2008-09-20 00:08:14|     3.08|         517|\n",
      "|xvu8G900tezTzbbfq...|    485|2008-08-09 00:30:27|     4.37|        2358|\n",
      "|z5_82komKV3mI4ASG...|    186|2007-02-27 07:09:40|     2.88|        1215|\n",
      "|ttumcu6hWshk_EJVW...|     12|2010-05-12 16:30:08|      4.0|          45|\n",
      "|f4_MRNHvN-yRn7EA8...|    822|2011-01-17 00:18:23|     3.63|       12519|\n",
      "|UYACF30806j2mfbB5...|     14|2007-07-24 23:55:21|     3.75|         136|\n",
      "|QG13XBbgHWydzThRB...|    218|2007-06-04 00:14:10|      4.1|        1575|\n",
      "|f6YuZP6iennHFVlnF...|      5|2008-08-10 12:57:20|      3.8|          30|\n",
      "|I_6wY8_RsewziNnKh...|    405|2010-08-05 18:42:29|     3.63|        1645|\n",
      "|q-v8elVPvKz0KvK69...|    666|2009-05-19 01:42:25|     3.37|        7003|\n",
      "|HwPGLzF_uXB3MF8bc...|      6|2009-01-02 19:09:32|      4.5|          43|\n",
      "|y4UuVowA9i3zj2hHy...|     51|2008-07-30 03:30:09|     4.17|         174|\n",
      "|1WBxJ2r3A2QYfRSEz...|    315|2009-10-30 15:05:44|     3.82|        1639|\n",
      "|-TT5e-YQU9xLb1JAG...|    180|2008-06-01 18:09:54|     3.91|         495|\n",
      "|6bbHSJ0PrgSxh7e5n...|     15|2011-04-04 01:57:51|     2.21|          27|\n",
      "|4VmuXuSRhv5UxYUy3...|    106|2008-10-26 03:13:07|     3.88|         515|\n",
      "|pVU2DdtBFppBAX5G5...|    193|2008-08-20 18:15:01|     3.79|         826|\n",
      "+--------------------+-------+-------------------+---------+------------+\n",
      "only showing top 20 rows\n",
      "\n"
     ]
    }
   ],
   "source": [
    "ready_to_df_data = yelp_data.map(lambda entry: (entry['user_id'], entry['review_count'], entry['yelping_since'], entry['average_stars'], \\\n",
    "                                            entry['useful'] + \\\n",
    "                                            entry['funny'] + \\\n",
    "                                            entry['cool'] + \\\n",
    "                                            entry['compliment_hot'] + \\\n",
    "                                            entry['compliment_more'] + \\\n",
    "                                            entry['compliment_cute'] + \\\n",
    "                                            entry['compliment_list'] + \\\n",
    "                                            entry['compliment_note'] + \\\n",
    "                                            entry['compliment_plain'] + \\\n",
    "                                            entry['compliment_cool'] + \\\n",
    "                                            entry['compliment_funny'] + \\\n",
    "                                            entry['compliment_writer'] + \\\n",
    "                                            entry['compliment_photos'] ) )\n",
    "\n",
    "df = spark.createDataFrame( ready_to_df_data , ['id','reviews','joined','ave_stars','interactions'] )\n",
    "df.show()"
   ]
  },
  {
   "cell_type": "code",
   "execution_count": 58,
   "id": "3747a7ff",
   "metadata": {},
   "outputs": [
    {
     "name": "stdout",
     "output_type": "stream",
     "text": [
      "+-------+--------------------+-----------------+-------------------+------------------+-----------------+\n",
      "|summary|                  id|          reviews|             joined|         ave_stars|     interactions|\n",
      "+-------+--------------------+-----------------+-------------------+------------------+-----------------+\n",
      "|  count|             1968703|          1968703|            1968703|           1968703|          1968703|\n",
      "|   mean|                null|  22.169298771831|               null|3.6480868216282665|93.11573304861119|\n",
      "| stddev|                null|76.74225931902373|               null|1.1725254942007215|1701.675754092096|\n",
      "|    min|---1lKK3aKOuomHnw...|                0|2004-10-12 08:40:43|               1.0|                0|\n",
      "|    max|zzzv9W8ShM4TkXZGM...|            14455|2019-12-13 15:46:07|               5.0|           678694|\n",
      "+-------+--------------------+-----------------+-------------------+------------------+-----------------+\n",
      "\n"
     ]
    }
   ],
   "source": [
    "df.describe().show()"
   ]
  },
  {
   "cell_type": "code",
   "execution_count": 59,
   "id": "20168c81",
   "metadata": {},
   "outputs": [
    {
     "name": "stdout",
     "output_type": "stream",
     "text": [
      "+-------+------------------+\n",
      "|summary|        popularity|\n",
      "+-------+------------------+\n",
      "|  count|           1968703|\n",
      "|   mean| 6.073808353647311|\n",
      "| stddev|20.579686644611897|\n",
      "|    min|               0.0|\n",
      "|    max| 4407.012195121952|\n",
      "+-------+------------------+\n",
      "\n"
     ]
    }
   ],
   "source": [
    "#df['popularity score'] = df['average stars'] / df['reviews']\n",
    "\n",
    "df = df.withColumn('popularity', df.reviews / df.ave_stars )\n",
    "df.describe('popularity').show()"
   ]
  },
  {
   "cell_type": "code",
   "execution_count": 60,
   "id": "766b9fc2",
   "metadata": {},
   "outputs": [
    {
     "name": "stdout",
     "output_type": "stream",
     "text": [
      "+--------------------+-------+-------------------+---------+------------+------------------+\n",
      "|                  id|reviews|             joined|ave_stars|interactions|        popularity|\n",
      "+--------------------+-------+-------------------+---------+------------+------------------+\n",
      "|8k3aO-mPeyhbR5HUu...|  14455|2007-12-08 14:56:45|     3.28|      261673| 4407.012195121952|\n",
      "|hWDybu_KvYLSdEFzG...|  12487|2009-03-08 21:47:44|     3.64|      286758|3430.4945054945056|\n",
      "|RtGqdDBvvBCjcu5dU...|  12772|2010-10-17 06:35:06|     3.87|       18078|3300.2583979328165|\n",
      "|Hi10sGSZNxQH3NLyW...|  11112|2009-05-26 11:33:58|      3.8|      451875|2924.2105263157896|\n",
      "|P5bUL3Engv-2z6kKo...|   9875|2006-05-31 21:27:42|      3.8|       63364| 2598.684210526316|\n",
      "|8RcEwGrFIgkt9WQ35...|   7745|2009-11-06 22:53:16|     3.49|       15891|2219.1977077363895|\n",
      "|nmdkHL2JKFx55T3nq...|   7626|2011-11-29 15:50:53|     3.71|      123834| 2055.525606469003|\n",
      "|Xwnf20FKuikiHcSpc...|   6762|2011-06-10 03:52:07|     3.32|       18448|2036.7469879518073|\n",
      "|CxDOIDnH8gp9KXzpB...|   6633|2009-11-09 20:44:45|     3.33|       57922|1991.8918918918919|\n",
      "|HFECrzYDpgbS5EmTB...|   5500|2007-03-28 19:08:35|     3.93|      108726|1399.4910941475825|\n",
      "|IucvvxdQXXhjQ4z6O...|   4784|2009-01-28 23:35:24|     3.46|       10467|1382.6589595375722|\n",
      "|bLbSNkLggFnqwNNzz...|   4627|2011-06-29 14:40:01|     3.39|      120936|1364.8967551622418|\n",
      "|kS1MQHYwIfD0462PE...|   5156|2007-08-25 01:33:28|     3.82|       28553| 1349.738219895288|\n",
      "|m07sy7eLtOjVdZ8oN...|   4913|2006-07-22 01:22:26|     3.66|      168952|1342.3497267759562|\n",
      "|syvwUKQJ4OYfmL_ix...|   4270|2008-06-30 12:39:30|     3.28|       41993| 1301.829268292683|\n",
      "|Xj0O2l0bp633ebmG4...|   4851|2005-07-18 06:22:37|     3.73|       13960|1300.5361930294907|\n",
      "|WG3w_73scm_JUWJ_3...|   5013|2011-06-29 22:41:05|     3.87|      171316|1295.3488372093022|\n",
      "|wZPizeBxMAyOSl0M0...|   4697|2008-08-27 20:20:07|     3.63|       36884| 1293.939393939394|\n",
      "|bQCHF5rn5lMI9c5kE...|   4845|2012-03-18 10:04:51|     3.77|       41355|1285.1458885941645|\n",
      "|FZTkBavnUWVQRK3UL...|   4624|2008-12-18 08:06:07|     3.64|       45035|1270.3296703296703|\n",
      "+--------------------+-------+-------------------+---------+------------+------------------+\n",
      "only showing top 20 rows\n",
      "\n"
     ]
    }
   ],
   "source": [
    "df.orderBy('popularity', ascending = False ).show()"
   ]
  },
  {
   "cell_type": "markdown",
   "id": "2d8e2192",
   "metadata": {},
   "source": [
    "# Open-Ended Section\n",
    "\n",
    "- Identify several (two or more) interesting user attributes and think of and carry out one interesting analysis. Interesting is relative, and you should use Markdown cell to describe why/how these are interesting!\n",
    "- Identify the top-ten most influential users from the Yelp dataset. Justify the attribute(s) that you pick to measure the level of influence!  "
   ]
  },
  {
   "cell_type": "markdown",
   "id": "fdb71894",
   "metadata": {},
   "source": [
    "### Frequently Active Users\n",
    "* The three new fields that I am adding to the dataframe calculated from the existing data are: \n",
    "    * `monthsDiff`: the total time (in months) that the user has had a registered account.\n",
    "    * `interactivity`: the average amount of interactions per month that a user accrues\n",
    "    * `activity`: the average reviews per month that a user posts\n"
   ]
  },
  {
   "cell_type": "code",
   "execution_count": 77,
   "id": "82c9e815",
   "metadata": {},
   "outputs": [
    {
     "name": "stdout",
     "output_type": "stream",
     "text": [
      "+-------+-------------------+-----------------+------------------+-----------------+------------------+\n",
      "|summary|           activity|     interactions|        popularity|       monthsDiff|     interactivity|\n",
      "+-------+-------------------+-----------------+------------------+-----------------+------------------+\n",
      "|  count|            1968703|          1968703|           1968703|          1968703|           1968703|\n",
      "|   mean|0.18532363858962572|93.11573304861119| 6.073808353647311|101.7583855787262|0.6872480320248533|\n",
      "| stddev| 0.5443923926279562|1701.675754092096|20.579686644611897|33.28375920426219|12.057380047310707|\n",
      "|    min|                0.0|                0|               0.0|      34.59170886|               0.0|\n",
      "|    max|  88.40282552551677|           678694| 4407.012195121952|     216.63349649|  5696.51172259726|\n",
      "+-------+-------------------+-----------------+------------------+-----------------+------------------+\n",
      "\n"
     ]
    }
   ],
   "source": [
    "\n",
    "from pyspark.sql.functions import *\n",
    "\n",
    "df = df.withColumn('monthsDiff', months_between(current_date(), col('joined')))\n",
    "df = df.withColumn('interactivity', df.interactions / df.monthsDiff )\n",
    "df = df.withColumn('activity', df.reviews / df.monthsDiff )\n",
    "\n",
    "df['activity','interactions','popularity','monthsDiff','interactivity'].describe().show()\n"
   ]
  },
  {
   "cell_type": "markdown",
   "id": "935d5963",
   "metadata": {},
   "source": [
    "## Top users by category:\n",
    "* Interactivity (interactions per month)\n",
    "* activity (posts per month)\n",
    "* popularity (reviews / ave stars)"
   ]
  },
  {
   "cell_type": "code",
   "execution_count": 80,
   "id": "84946b8d",
   "metadata": {},
   "outputs": [
    {
     "name": "stdout",
     "output_type": "stream",
     "text": [
      "+------------------+---------+------------------+------------------+\n",
      "|          activity|ave_stars|     interactivity|        popularity|\n",
      "+------------------+---------+------------------+------------------+\n",
      "|12.573228230175447|     4.17|  5696.51172259726| 359.2326139088729|\n",
      "| 7.626074803487403|     4.14|3903.1729304483833|291.54589371980677|\n",
      "| 6.292502730434553|     3.58| 3088.174232984465| 270.1117318435754|\n",
      "| 68.94241040890368|      3.8|2803.5773671277316|2924.2105263157896|\n",
      "|12.024096385542169|     4.27| 2304.385542168675|467.44730679156913|\n",
      "|13.699523953889086|     3.72|2252.9008083775066| 653.2258064516129|\n",
      "| 19.17854386786478|     3.64|2218.2825638529844| 787.6373626373626|\n",
      "|20.273878382930544|     3.53|2132.0529838364596| 575.0708215297451|\n",
      "| 10.30044707760467|     4.21| 2125.469979136571|152.49406175771972|\n",
      "|  19.1445588403082|     4.45|2121.9164325053785| 621.3483146067415|\n",
      "|17.502613690023875|     3.09|1939.0729092296183| 946.2783171521036|\n",
      "|2.6972566041244055|     4.21|1773.7459123900326| 38.47980997624703|\n",
      "| 76.25823840026285|     3.64| 1751.234077615326|3430.4945054945056|\n",
      "|14.861991923191733|     4.81|1607.2003147213113|196.67359667359668|\n",
      "|3.7151511044854972|     3.67|1606.8374268542325|161.03542234332426|\n",
      "|10.850599159992035|     4.22|1591.2529837885993| 285.3080568720379|\n",
      "| 80.86527576610385|     3.28|1463.8712767584707| 4407.012195121952|\n",
      "|12.655621815319343|     4.35|1456.3693121790006| 317.0114942528736|\n",
      "| 13.60715183769746|     3.63| 1417.439522883097| 493.1129476584022|\n",
      "| 4.796103825154713|     4.08| 1385.051205230342|170.09803921568627|\n",
      "+------------------+---------+------------------+------------------+\n",
      "only showing top 20 rows\n",
      "\n"
     ]
    }
   ],
   "source": [
    "df.orderBy('interactivity', ascending = False )['activity','ave_stars','interactivity','popularity'].show()"
   ]
  },
  {
   "cell_type": "code",
   "execution_count": 85,
   "id": "588b6185",
   "metadata": {},
   "outputs": [
    {
     "name": "stdout",
     "output_type": "stream",
     "text": [
      "+------------------+---------+------------------+------------------+\n",
      "|          activity|ave_stars|     interactivity|        popularity|\n",
      "+------------------+---------+------------------+------------------+\n",
      "| 88.40282552551677|     3.87|125.12889757675323|3300.2583979328165|\n",
      "| 80.86527576610385|     3.28|1463.8712767584707| 4407.012195121952|\n",
      "| 76.25823840026285|     3.64| 1751.234077615326|3430.4945054945056|\n",
      "| 68.94241040890368|      3.8|2803.5773671277316|2924.2105263157896|\n",
      "|  58.1802210828016|     3.71| 944.7534090699781| 2055.525606469003|\n",
      "|50.126035446699625|      3.8| 321.6390997513595| 2598.684210526316|\n",
      "|49.708632787940985|     3.49|101.99094688614205|2219.1977077363895|\n",
      "| 49.46436367887847|     3.32|134.94803033835404|2036.7469879518073|\n",
      "|44.447785855121694|     4.01|174.25611483785724| 852.8678304239402|\n",
      "|42.597311832962376|     3.33| 371.9767067675029|1991.8918918918919|\n",
      "|40.306235414990034|     3.59|  81.4044910682827|1034.8189415041784|\n",
      "| 38.01846850726704|     3.77|324.51058103571273|1285.1458885941645|\n",
      "| 37.44724813026432|     4.28|31.939642722084034| 783.1775700934579|\n",
      "|36.842337817771565|     3.87|1259.0628257708665|1295.3488372093022|\n",
      "| 34.00279210146395|     3.39| 888.7317193824605|1364.8967551622418|\n",
      "| 33.39104952260191|     3.72| 675.7926538419836|1097.8494623655913|\n",
      "|29.395526060814902|     3.93| 581.1014484523929|1399.4910941475825|\n",
      "|28.976847396989935|     3.46|63.398967747553016|1382.6589595375722|\n",
      "| 28.29489052075381|     3.82|156.69201106266166| 1349.738219895288|\n",
      "| 28.27206283476521|     3.67| 530.2218765387689|   941.41689373297|\n",
      "+------------------+---------+------------------+------------------+\n",
      "only showing top 20 rows\n",
      "\n"
     ]
    }
   ],
   "source": [
    "df.orderBy('activity', ascending = False )['activity','ave_stars','interactivity','popularity'].show()"
   ]
  },
  {
   "cell_type": "code",
   "execution_count": 81,
   "id": "b283d240",
   "metadata": {},
   "outputs": [
    {
     "name": "stdout",
     "output_type": "stream",
     "text": [
      "+------------------+---------+------------------+------------------+\n",
      "|          activity|ave_stars|     interactivity|        popularity|\n",
      "+------------------+---------+------------------+------------------+\n",
      "| 80.86527576610385|     3.28|1463.8712767584707| 4407.012195121952|\n",
      "| 76.25823840026285|     3.64| 1751.234077615326|3430.4945054945056|\n",
      "| 88.40282552551677|     3.87|125.12889757675323|3300.2583979328165|\n",
      "| 68.94241040890368|      3.8|2803.5773671277316|2924.2105263157896|\n",
      "|50.126035446699625|      3.8| 321.6390997513595| 2598.684210526316|\n",
      "|49.708632787940985|     3.49|101.99094688614205|2219.1977077363895|\n",
      "|  58.1802210828016|     3.71| 944.7534090699781| 2055.525606469003|\n",
      "| 49.46436367887847|     3.32|134.94803033835404|2036.7469879518073|\n",
      "|42.597311832962376|     3.33| 371.9767067675029|1991.8918918918919|\n",
      "|29.395526060814902|     3.93| 581.1014484523929|1399.4910941475825|\n",
      "|28.976847396989935|     3.46|63.398967747553016|1382.6589595375722|\n",
      "| 34.00279210146395|     3.39| 888.7317193824605|1364.8967551622418|\n",
      "| 28.29489052075381|     3.82|156.69201106266166| 1349.738219895288|\n",
      "| 25.15349957417695|     3.66|  864.997773266099|1342.3497267759562|\n",
      "|24.818727063200868|     3.28|244.07794041334756| 1301.829268292683|\n",
      "|23.384732306808488|     3.73| 67.29558091178035|1300.5361930294907|\n",
      "|36.842337817771565|     3.87|1259.0628257708665|1295.3488372093022|\n",
      "|27.607657262075254|     3.63|   216.79387491045| 1293.939393939394|\n",
      "| 38.01846850726704|     3.77|324.51058103571273|1285.1458885941645|\n",
      "|27.781662512493916|     3.64| 270.5768103914714|1270.3296703296703|\n",
      "+------------------+---------+------------------+------------------+\n",
      "only showing top 20 rows\n",
      "\n"
     ]
    }
   ],
   "source": [
    "df.orderBy('popularity', ascending = False)['activity','ave_stars','interactivity','popularity'].show()"
   ]
  },
  {
   "cell_type": "markdown",
   "id": "1f1e09f4",
   "metadata": {},
   "source": []
  },
  {
   "cell_type": "markdown",
   "id": "2c59a764",
   "metadata": {},
   "source": [
    "### Statistical Correlations\n",
    "\n",
    "* Columns:\n",
    "    * id\n",
    "    * reviews             \n",
    "    * joined         \n",
    "    * ave_stars      \n",
    "    * interactions        \n",
    "    * popularity        \n",
    "    * monthsDiff      \n",
    "    * interactivity"
   ]
  },
  {
   "cell_type": "markdown",
   "id": "e3796df5",
   "metadata": {},
   "source": [
    "## Does the frequency of user activity affect popularity?\n",
    "- If the most popular users are also the most frequently active users, then we should see a strong correlation between interactivity and popularity \n",
    "- However, as we see, the correlation is quite strong. This indicates that the most popular users are the ones that post the most frequently."
   ]
  },
  {
   "cell_type": "code",
   "execution_count": 82,
   "id": "ee9f5398",
   "metadata": {},
   "outputs": [
    {
     "data": {
      "text/plain": [
       "0.9567655162180551"
      ]
     },
     "execution_count": 82,
     "metadata": {},
     "output_type": "execute_result"
    }
   ],
   "source": [
    "df.stat.corr(\"popularity\",\"activity\")"
   ]
  },
  {
   "cell_type": "markdown",
   "id": "8ae354d4",
   "metadata": {},
   "source": [
    "## Does the most popular users get the most interactions on their posts?\n",
    "- One would expect that by the most popular users yield the most interaction from their followers, be they various compliments, upvotes, etc.\n",
    "- However, the statistics indicates that this is only a moderately-strong positive correlation."
   ]
  },
  {
   "cell_type": "code",
   "execution_count": 64,
   "id": "4f6bd455",
   "metadata": {},
   "outputs": [
    {
     "data": {
      "text/plain": [
       "0.4482313448590867"
      ]
     },
     "execution_count": 64,
     "metadata": {},
     "output_type": "execute_result"
    }
   ],
   "source": [
    "df.stat.corr(\"popularity\",\"interactivity\")"
   ]
  },
  {
   "cell_type": "markdown",
   "id": "b84f9869",
   "metadata": {},
   "source": [
    "## Does more activity yield more interactivity?\n",
    "- We can see that this is only a moderately-strong positive correlation between the activity and interactivity between the user's posts."
   ]
  },
  {
   "cell_type": "code",
   "execution_count": 84,
   "id": "ef842653",
   "metadata": {},
   "outputs": [
    {
     "data": {
      "text/plain": [
       "0.45131264456811226"
      ]
     },
     "execution_count": 84,
     "metadata": {},
     "output_type": "execute_result"
    }
   ],
   "source": [
    "df.stat.corr('activity','interactivity')"
   ]
  },
  {
   "cell_type": "markdown",
   "id": "74ec7dc1",
   "metadata": {},
   "source": [
    "\n",
    "## Does popularity correlate to the average stars on the user's posts?\n",
    "- As we saw before, there is virtually no correlation between the user's popularity and positive responses"
   ]
  },
  {
   "cell_type": "code",
   "execution_count": 66,
   "id": "87eb9508",
   "metadata": {},
   "outputs": [
    {
     "data": {
      "text/plain": [
       "0.0004773504646774203"
      ]
     },
     "execution_count": 66,
     "metadata": {},
     "output_type": "execute_result"
    }
   ],
   "source": [
    "df.stat.corr(\"popularity\",\"ave_stars\")"
   ]
  },
  {
   "cell_type": "markdown",
   "id": "32cca7da",
   "metadata": {},
   "source": [
    "## Are the most popular users also the oldest? \n",
    "* This is not strongly supported by the data. As we can see, there is only a weak positive correlation."
   ]
  },
  {
   "cell_type": "code",
   "execution_count": 67,
   "id": "3c65c955",
   "metadata": {},
   "outputs": [
    {
     "data": {
      "text/plain": [
       "0.24854270065644915"
      ]
     },
     "execution_count": 67,
     "metadata": {},
     "output_type": "execute_result"
    }
   ],
   "source": [
    "df.stat.corr(\"popularity\",\"monthsDiff\")"
   ]
  },
  {
   "cell_type": "markdown",
   "id": "489c2461",
   "metadata": {},
   "source": [
    "## Does interactivity correspond to \n",
    "* No, there is no statistically significant indication that 'better' posts get more interactions."
   ]
  },
  {
   "cell_type": "code",
   "execution_count": 86,
   "id": "988d956a",
   "metadata": {},
   "outputs": [
    {
     "data": {
      "text/plain": [
       "0.008622195410370851"
      ]
     },
     "execution_count": 86,
     "metadata": {},
     "output_type": "execute_result"
    }
   ],
   "source": [
    "df.stat.corr(\"ave_stars\",\"interactivity\")"
   ]
  }
 ],
 "metadata": {
  "kernelspec": {
   "display_name": "Python 3",
   "language": "python",
   "name": "python3"
  },
  "language_info": {
   "codemirror_mode": {
    "name": "ipython",
    "version": 3
   },
   "file_extension": ".py",
   "mimetype": "text/x-python",
   "name": "python",
   "nbconvert_exporter": "python",
   "pygments_lexer": "ipython3",
   "version": "3.6.13"
  }
 },
 "nbformat": 4,
 "nbformat_minor": 5
}
