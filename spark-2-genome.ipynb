{
 "cells": [
  {
   "cell_type": "code",
   "execution_count": 2,
   "id": "24f9b480",
   "metadata": {},
   "outputs": [],
   "source": [
    "import os\n",
    "import sys\n",
    "\n",
    "spark_path = os.environ['SPARK_HOME']\n",
    "sys.path.append(spark_path + \"/bin\")\n",
    "sys.path.append(spark_path + \"/python\")\n",
    "sys.path.append(spark_path + \"/python/pyspark/\")\n",
    "sys.path.append(spark_path + \"/python/lib\")\n",
    "sys.path.append(spark_path + \"/python/lib/pyspark.zip\")\n",
    "sys.path.append(spark_path + \"/python/lib/py4j-0.10.9-src.zip\")\n",
    "\n",
    "import findspark\n",
    "findspark.init()\n",
    "\n",
    "import pyspark\n",
    "\n",
    "number_cores = 4\n",
    "memory_gb = 8\n",
    "conf = (pyspark.SparkConf().\n",
    "        setMaster('local[{}]'.format(number_cores)).\n",
    "        set('spark.driver.memory', '{}g'.format(memory_gb)))\n",
    "sc = pyspark.SparkContext(conf=conf)"
   ]
  },
  {
   "cell_type": "markdown",
   "id": "bf5bdc39",
   "metadata": {},
   "source": [
    "### Challenge 2\n",
    "\n",
    "- Study the genome tags and answer the following question. How do user perceive and distinguish sub-genres? For example, what is the difference between action and action comedy?"
   ]
  },
  {
   "cell_type": "markdown",
   "id": "b6b4ab30",
   "metadata": {},
   "source": [
    "### Examine the following\n",
    "- genome-scores.csv\n",
    "- genome-tags.csv\n",
    "- tags.csv\n",
    "- README.txt"
   ]
  },
  {
   "cell_type": "code",
   "execution_count": 7,
   "id": "71e05d28",
   "metadata": {},
   "outputs": [
    {
     "name": "stdout",
     "output_type": "stream",
     "text": [
      "Summary\r\n",
      "=======\r\n",
      "\r\n",
      "This dataset (ml-latest) describes 5-star rating and free-text tagging activity from [MovieLens](http://movielens.org), a movie recommendation service. It contains 27753444 ratings and 1108997 tag applications across 58098 movies. These data were created by 283228 users between January 09, 1995 and September 26, 2018. This dataset was generated on September 26, 2018.\r\n",
      "\r\n",
      "Users were selected at random for inclusion. All selected users had rated at least 1 movies. No demographic information is included. Each user is represented by an id, and no other information is provided.\r\n",
      "\r\n",
      "The data are contained in the files `genome-scores.csv`, `genome-tags.csv`, `links.csv`, `movies.csv`, `ratings.csv` and `tags.csv`. More details about the contents and use of all these files follows.\r\n",
      "\r\n",
      "This is a *development* dataset. As such, it may change over time and is not an appropriate dataset for shared research results. See available *benchmark* datasets if that is your intent.\r\n",
      "\r\n",
      "This and other GroupLens data sets are publicly available for download at <http://grouplens.org/datasets/>.\r\n",
      "\r\n",
      "\r\n",
      "Usage License\r\n",
      "=============\r\n",
      "\r\n",
      "Neither the University of Minnesota nor any of the researchers involved can guarantee the correctness of the data, its suitability for any particular purpose, or the validity of results based on the use of the data set. The data set may be used for any research purposes under the following conditions:\r\n",
      "\r\n",
      "* The user may not state or imply any endorsement from the University of Minnesota or the GroupLens Research Group.\r\n",
      "* The user must acknowledge the use of the data set in publications resulting from the use of the data set (see below for citation information).\r\n",
      "* The user may not redistribute the data without separate permission.\r\n",
      "* The user may not use this information for any commercial or revenue-bearing purposes without first obtaining permission from a faculty member of the GroupLens Research Project at the University of Minnesota.\r\n",
      "* The executable software scripts are provided \"as is\" without warranty of any kind, either expressed or implied, including, but not limited to, the implied warranties of merchantability and fitness for a particular purpose. The entire risk as to the quality and performance of them is with you. Should the program prove defective, you assume the cost of all necessary servicing, repair or correction.\r\n",
      "\r\n",
      "In no event shall the University of Minnesota, its affiliates or employees be liable to you for any damages arising out of the use or inability to use these programs (including but not limited to loss of data or data being rendered inaccurate).\r\n",
      "\r\n",
      "If you have any further questions or comments, please email <grouplens-info@umn.edu>\r\n",
      "\r\n",
      "\r\n",
      "Citation\r\n",
      "========\r\n",
      "\r\n",
      "To acknowledge use of the dataset in publications, please cite the following paper:\r\n",
      "\r\n",
      "> F. Maxwell Harper and Joseph A. Konstan. 2015. The MovieLens Datasets: History and Context. ACM Transactions on Interactive Intelligent Systems (TiiS) 5, 4: 19:1–19:19. <https://doi.org/10.1145/2827872>\r\n",
      "\r\n",
      "\r\n",
      "Further Information About GroupLens\r\n",
      "===================================\r\n",
      "\r\n",
      "GroupLens is a research group in the Department of Computer Science and Engineering at the University of Minnesota. Since its inception in 1992, GroupLens's research projects have explored a variety of fields including:\r\n",
      "\r\n",
      "* recommender systems\r\n",
      "* online communities\r\n",
      "* mobile and ubiquitious technologies\r\n",
      "* digital libraries\r\n",
      "* local geographic information systems\r\n",
      "\r\n",
      "GroupLens Research operates a movie recommender based on collaborative filtering, MovieLens, which is the source of these data. We encourage you to visit <http://movielens.org> to try it out! If you have exciting ideas for experimental work to conduct on MovieLens, send us an email at <grouplens-info@cs.umn.edu> - we are always interested in working with external collaborators.\r\n",
      "\r\n",
      "\r\n",
      "Content and Use of Files\r\n",
      "========================\r\n",
      "\r\n",
      "Formatting and Encoding\r\n",
      "-----------------------\r\n",
      "\r\n",
      "The dataset files are written as [comma-separated values](http://en.wikipedia.org/wiki/Comma-separated_values) files with a single header row. Columns that contain commas (`,`) are escaped using double-quotes (`\"`). These files are encoded as UTF-8. If accented characters in movie titles or tag values (e.g. Misérables, Les (1995)) display incorrectly, make sure that any program reading the data, such as a text editor, terminal, or script, is configured for UTF-8.\r\n",
      "\r\n",
      "\r\n",
      "User Ids\r\n",
      "--------\r\n",
      "\r\n",
      "MovieLens users were selected at random for inclusion. Their ids have been anonymized. User ids are consistent between `ratings.csv` and `tags.csv` (i.e., the same id refers to the same user across the two files).\r\n",
      "\r\n",
      "\r\n",
      "Movie Ids\r\n",
      "---------\r\n",
      "\r\n",
      "Only movies with at least one rating or tag are included in the dataset. These movie ids are consistent with those used on the MovieLens web site (e.g., id `1` corresponds to the URL <https://movielens.org/movies/1>). Movie ids are consistent between `ratings.csv`, `tags.csv`, `movies.csv`, and `links.csv` (i.e., the same id refers to the same movie across these four data files).\r\n",
      "\r\n",
      "\r\n",
      "Ratings Data File Structure (ratings.csv)\r\n",
      "-----------------------------------------\r\n",
      "\r\n",
      "All ratings are contained in the file `ratings.csv`. Each line of this file after the header row represents one rating of one movie by one user, and has the following format:\r\n",
      "\r\n",
      "    userId,movieId,rating,timestamp\r\n",
      "\r\n",
      "The lines within this file are ordered first by userId, then, within user, by movieId.\r\n",
      "\r\n",
      "Ratings are made on a 5-star scale, with half-star increments (0.5 stars - 5.0 stars).\r\n",
      "\r\n",
      "Timestamps represent seconds since midnight Coordinated Universal Time (UTC) of January 1, 1970.\r\n",
      "\r\n",
      "\r\n",
      "Tags Data File Structure (tags.csv)\r\n",
      "-----------------------------------\r\n",
      "\r\n",
      "All tags are contained in the file `tags.csv`. Each line of this file after the header row represents one tag applied to one movie by one user, and has the following format:\r\n",
      "\r\n",
      "    userId,movieId,tag,timestamp\r\n",
      "\r\n",
      "The lines within this file are ordered first by userId, then, within user, by movieId.\r\n",
      "\r\n",
      "Tags are user-generated metadata about movies. Each tag is typically a single word or short phrase. The meaning, value, and purpose of a particular tag is determined by each user.\r\n",
      "\r\n",
      "Timestamps represent seconds since midnight Coordinated Universal Time (UTC) of January 1, 1970.\r\n",
      "\r\n",
      "\r\n",
      "Movies Data File Structure (movies.csv)\r\n",
      "---------------------------------------\r\n",
      "\r\n",
      "Movie information is contained in the file `movies.csv`. Each line of this file after the header row represents one movie, and has the following format:\r\n",
      "\r\n",
      "    movieId,title,genres\r\n",
      "\r\n",
      "Movie titles are entered manually or imported from <https://www.themoviedb.org/>, and include the year of release in parentheses. Errors and inconsistencies may exist in these titles.\r\n",
      "\r\n",
      "Genres are a pipe-separated list, and are selected from the following:\r\n",
      "\r\n",
      "* Action\r\n",
      "* Adventure\r\n",
      "* Animation\r\n",
      "* Children's\r\n",
      "* Comedy\r\n",
      "* Crime\r\n",
      "* Documentary\r\n",
      "* Drama\r\n",
      "* Fantasy\r\n",
      "* Film-Noir\r\n",
      "* Horror\r\n",
      "* Musical\r\n",
      "* Mystery\r\n",
      "* Romance\r\n",
      "* Sci-Fi\r\n",
      "* Thriller\r\n",
      "* War\r\n",
      "* Western\r\n",
      "* (no genres listed)\r\n",
      "\r\n",
      "\r\n",
      "Links Data File Structure (links.csv)\r\n",
      "---------------------------------------\r\n",
      "\r\n",
      "Identifiers that can be used to link to other sources of movie data are contained in the file `links.csv`. Each line of this file after the header row represents one movie, and has the following format:\r\n",
      "\r\n",
      "    movieId,imdbId,tmdbId\r\n",
      "\r\n",
      "movieId is an identifier for movies used by <https://movielens.org>. E.g., the movie Toy Story has the link <https://movielens.org/movies/1>.\r\n",
      "\r\n",
      "imdbId is an identifier for movies used by <http://www.imdb.com>. E.g., the movie Toy Story has the link <http://www.imdb.com/title/tt0114709/>.\r\n",
      "\r\n",
      "tmdbId is an identifier for movies used by <https://www.themoviedb.org>. E.g., the movie Toy Story has the link <https://www.themoviedb.org/movie/862>.\r\n",
      "\r\n",
      "Use of the resources listed above is subject to the terms of each provider.\r\n",
      "\r\n",
      "\r\n",
      "Tag Genome (genome-scores.csv and genome-tags.csv)\r\n",
      "-------------------------------------------------\r\n",
      "\r\n",
      "This data set includes a current copy of the Tag Genome.\r\n",
      "\r\n",
      "[genome-paper]: http://files.grouplens.org/papers/tag_genome.pdf\r\n",
      "\r\n",
      "The tag genome is a data structure that contains tag relevance scores for movies.  The structure is a dense matrix: each movie in the genome has a value for *every* tag in the genome.\r\n",
      "\r\n",
      "As described in [this article][genome-paper], the tag genome encodes how strongly movies exhibit particular properties represented by tags (atmospheric, thought-provoking, realistic, etc.). The tag genome was computed using a machine learning algorithm on user-contributed content including tags, ratings, and textual reviews.\r\n",
      "\r\n",
      "The genome is split into two files.  The file `genome-scores.csv` contains movie-tag relevance data in the following format:\r\n",
      "\r\n",
      "    movieId,tagId,relevance\r\n",
      "\r\n",
      "The second file, `genome-tags.csv`, provides the tag descriptions for the tag IDs in the genome file, in the following format:\r\n",
      "\r\n",
      "    tagId,tag\r\n",
      "\r\n",
      "The `tagId` values are generated when the data set is exported, so they may vary from version to version of the MovieLens data sets.\r\n",
      "\r\n",
      "Please include the following citation if referencing tag genome data:\r\n",
      "\r\n",
      "> Jesse Vig, Shilad Sen, and John Riedl. 2012. The Tag Genome: Encoding Community Knowledge to Support Novel Interaction. ACM Trans. Interact. Intell. Syst. 2, 3: 13:1–13:44. <https://doi.org/10.1145/2362394.2362395>\r\n",
      "\r\n",
      "\r\n",
      "Cross-Validation\r\n",
      "----------------\r\n",
      "\r\n",
      "Prior versions of the MovieLens dataset included either pre-computed cross-folds or scripts to perform this computation. We no longer bundle either of these features with the dataset, since most modern toolkits provide this as a built-in feature. If you wish to learn about standard approaches to cross-fold computation in the context of recommender systems evaluation, see [LensKit](http://lenskit.org) for tools, documentation, and open-source code examples.\r\n"
     ]
    }
   ],
   "source": [
    "#genome = sc.textFile(\"./ml-latest/genome-scores.csv\")\n",
    "!cat ./ml-latest/README.txt"
   ]
  },
  {
   "cell_type": "code",
   "execution_count": 8,
   "id": "76175f59",
   "metadata": {},
   "outputs": [
    {
     "name": "stdout",
     "output_type": "stream",
     "text": [
      "movieId,tagId,relevance\r",
      "\r\n",
      "1,1,0.029000000000000026\r",
      "\r\n",
      "1,2,0.023749999999999993\r",
      "\r\n",
      "1,3,0.05425000000000002\r",
      "\r\n",
      "1,4,0.06874999999999998\r",
      "\r\n",
      "1,5,0.15999999999999998\r",
      "\r\n",
      "1,6,0.19524999999999998\r",
      "\r\n",
      "1,7,0.07600000000000001\r",
      "\r\n",
      "1,8,0.252\r",
      "\r\n",
      "1,9,0.22749999999999998\r",
      "\r\n"
     ]
    }
   ],
   "source": [
    "!head ./ml-latest/genome-scores.csv"
   ]
  },
  {
   "cell_type": "code",
   "execution_count": 12,
   "id": "59eee017",
   "metadata": {},
   "outputs": [
    {
     "name": "stdout",
     "output_type": "stream",
     "text": [
      "tagId,tag\r",
      "\r\n",
      "1,007\r",
      "\r\n",
      "2,007 (series)\r",
      "\r\n",
      "3,18th century\r",
      "\r\n",
      "4,1920s\r",
      "\r\n",
      "5,1930s\r",
      "\r\n",
      "6,1950s\r",
      "\r\n",
      "7,1960s\r",
      "\r\n",
      "8,1970s\r",
      "\r\n",
      "9,1980s\r",
      "\r\n",
      "10,19th century\r",
      "\r\n",
      "11,3d\r",
      "\r\n",
      "12,70mm\r",
      "\r\n",
      "13,80s\r",
      "\r\n",
      "14,9/11\r",
      "\r\n",
      "15,aardman\r",
      "\r\n",
      "16,aardman studios\r",
      "\r\n",
      "17,abortion\r",
      "\r\n",
      "18,absurd\r",
      "\r\n",
      "19,action\r",
      "\r\n"
     ]
    }
   ],
   "source": [
    "!head -20 ./ml-latest/genome-tags.csv"
   ]
  },
  {
   "cell_type": "code",
   "execution_count": 30,
   "id": "53af5e45",
   "metadata": {},
   "outputs": [
    {
     "data": {
      "text/plain": [
       "[('1', ['Adventure', 'Animation', 'Children', 'Comedy', 'Fantasy']),\n",
       " ('2', ['Adventure', 'Children', 'Fantasy']),\n",
       " ('3', ['Comedy', 'Romance']),\n",
       " ('4', ['Comedy', 'Drama', 'Romance']),\n",
       " ('5', ['Comedy']),\n",
       " ('6', ['Action', 'Crime', 'Thriller']),\n",
       " ('7', ['Comedy', 'Romance']),\n",
       " ('8', ['Adventure', 'Children']),\n",
       " ('9', ['Action']),\n",
       " ('10', ['Action', 'Adventure', 'Thriller'])]"
      ]
     },
     "execution_count": 30,
     "metadata": {},
     "output_type": "execute_result"
    }
   ],
   "source": [
    "movies = sc.textFile('./ml-latest/movies.csv')\n",
    "movies_header = movies.first()\n",
    "\n",
    "indexed = movies.filter( lambda x: x != movies_header ).map( lambda x: (x.split(',')[0], x.split(',')[2].split('|')))\n",
    "indexed.take(10)"
   ]
  },
  {
   "cell_type": "code",
   "execution_count": 31,
   "id": "f6943762",
   "metadata": {},
   "outputs": [
    {
     "data": {
      "text/plain": [
       "[('20', ['Action', 'Comedy', 'Crime', 'Drama', 'Thriller']),\n",
       " ('70', ['Action', 'Comedy', 'Horror', 'Thriller']),\n",
       " ('112', ['Action', 'Adventure', 'Comedy', 'Crime'])]"
      ]
     },
     "execution_count": 31,
     "metadata": {},
     "output_type": "execute_result"
    }
   ],
   "source": [
    "action_comedies = indexed.filter( lambda x: ('Action' in x[1]) and ('Comedy' in x[1]) )\n",
    "action_comedies.take(3)"
   ]
  },
  {
   "cell_type": "markdown",
   "id": "4af2c8b0",
   "metadata": {},
   "source": [
    "We want to:\n",
    "- Build subgenre combination (just 2 for now)\n",
    "- Associate these subgenres with the tags and tag scores"
   ]
  },
  {
   "cell_type": "code",
   "execution_count": 29,
   "id": "71385486",
   "metadata": {},
   "outputs": [
    {
     "data": {
      "text/plain": [
       "('2', ['Adventure-Children', 'Adventure-Fantasy', 'Children-Fantasy'])"
      ]
     },
     "execution_count": 29,
     "metadata": {},
     "output_type": "execute_result"
    }
   ],
   "source": [
    "('2', 'Adventure-Children')\n",
    "('2', 'Adventure-Fantasy')\n",
    "('2', 'Children-Fantasy')\n",
    "\n",
    "('2', ['Adventure-Children','Adventure-Fantasy','Children-Fantasy'])"
   ]
  },
  {
   "cell_type": "code",
   "execution_count": 40,
   "id": "4a7fa4b4",
   "metadata": {},
   "outputs": [
    {
     "ename": "SyntaxError",
     "evalue": "'continue' not properly in loop (<ipython-input-40-6a03a1aaf8b3>, line 11)",
     "output_type": "error",
     "traceback": [
      "\u001b[0;36m  File \u001b[0;32m\"<ipython-input-40-6a03a1aaf8b3>\"\u001b[0;36m, line \u001b[0;32m11\u001b[0m\n\u001b[0;31m    return (entry[0],entry[2])\u001b[0m\n\u001b[0m               ^\u001b[0m\n\u001b[0;31mSyntaxError\u001b[0m\u001b[0;31m:\u001b[0m 'continue' not properly in loop\n"
     ]
    }
   ],
   "source": [
    "import itertools\n",
    "\n",
    "def parse_subgenre( line ):\n",
    "    # (x.split(',')[0], x.split(',')[2].split('|'))\n",
    "    entry = line.split(',')\n",
    "    entry[2] = entry[2].split('|')\n",
    "    if len(entry[2]) < 2:\n",
    "        continue\n",
    "    else:\n",
    "        entry[2] = list(itertools.combinations( entry[2], 2 ))\n",
    "    return (entry[0],entry[2])"
   ]
  },
  {
   "cell_type": "code",
   "execution_count": 38,
   "id": "0e8648ef",
   "metadata": {},
   "outputs": [
    {
     "data": {
      "text/plain": [
       "[('1',\n",
       "  [('Adventure', 'Animation'),\n",
       "   ('Adventure', 'Children'),\n",
       "   ('Adventure', 'Comedy'),\n",
       "   ('Adventure', 'Fantasy'),\n",
       "   ('Animation', 'Children'),\n",
       "   ('Animation', 'Comedy'),\n",
       "   ('Animation', 'Fantasy'),\n",
       "   ('Children', 'Comedy'),\n",
       "   ('Children', 'Fantasy'),\n",
       "   ('Comedy', 'Fantasy')]),\n",
       " ('2',\n",
       "  [('Adventure', 'Children'),\n",
       "   ('Adventure', 'Fantasy'),\n",
       "   ('Children', 'Fantasy')]),\n",
       " ('3', [('Comedy', 'Romance')]),\n",
       " ('4', [('Comedy', 'Drama'), ('Comedy', 'Romance'), ('Drama', 'Romance')]),\n",
       " ('5', [])]"
      ]
     },
     "execution_count": 38,
     "metadata": {},
     "output_type": "execute_result"
    }
   ],
   "source": [
    "movie_subgenres = movies.filter( lambda x: x != movies_header ).map( parse_subgenre )\n",
    "movie_subgenres.take(5)"
   ]
  },
  {
   "cell_type": "code",
   "execution_count": null,
   "id": "e2177d19",
   "metadata": {},
   "outputs": [],
   "source": []
  }
 ],
 "metadata": {
  "kernelspec": {
   "display_name": "Python 3",
   "language": "python",
   "name": "python3"
  },
  "language_info": {
   "codemirror_mode": {
    "name": "ipython",
    "version": 3
   },
   "file_extension": ".py",
   "mimetype": "text/x-python",
   "name": "python",
   "nbconvert_exporter": "python",
   "pygments_lexer": "ipython3",
   "version": "3.6.13"
  }
 },
 "nbformat": 4,
 "nbformat_minor": 5
}
