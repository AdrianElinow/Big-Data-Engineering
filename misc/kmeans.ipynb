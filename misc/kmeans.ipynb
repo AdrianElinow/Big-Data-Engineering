{
 "cells": [
  {
   "cell_type": "code",
   "execution_count": 5,
   "id": "aaa54a81",
   "metadata": {},
   "outputs": [],
   "source": [
    "import os\n",
    "import sys\n",
    "\n",
    "spark_path = os.environ['SPARK_HOME']\n",
    "sys.path.append(spark_path + \"/bin\")\n",
    "sys.path.append(spark_path + \"/python\")\n",
    "sys.path.append(spark_path + \"/python/pyspark/\")\n",
    "sys.path.append(spark_path + \"/python/lib\")\n",
    "sys.path.append(spark_path + \"/python/lib/pyspark.zip\")\n",
    "sys.path.append(spark_path + \"/python/lib/py4j-0.10.9-src.zip\")\n",
    "\n",
    "import findspark\n",
    "findspark.init()\n",
    "\n",
    "import pyspark"
   ]
  },
  {
   "cell_type": "code",
   "execution_count": 6,
   "id": "f4488261",
   "metadata": {},
   "outputs": [],
   "source": [
    "number_cores = 8\n",
    "memory_gb = 8\n",
    "conf = (pyspark.SparkConf().setMaster('local[{}]'.format(number_cores)).set('spark.driver.memory', '{}g'.format(memory_gb)))\n",
    "sc = pyspark.SparkContext(conf=conf)"
   ]
  },
  {
   "cell_type": "code",
   "execution_count": 7,
   "id": "a9dbecda",
   "metadata": {},
   "outputs": [],
   "source": [
    "from pyspark.ml.linalg import Vectors\n",
    "data = [(Vectors.dense([0.0, 0.0]), 2.0),\n",
    "        (Vectors.dense([1.0, 1.0]), 2.0),\n",
    "        (Vectors.dense([9.0, 8.0]), 2.0),\n",
    "        (Vectors.dense([8.0, 9.0]), 2.0)]"
   ]
  },
  {
   "cell_type": "code",
   "execution_count": 8,
   "id": "73e26148",
   "metadata": {},
   "outputs": [],
   "source": [
    "from pyspark.sql import SQLContext\n",
    "sqlContext= SQLContext(sc)\n",
    "df = sqlContext.createDataFrame(data, [\"features\", \"weighCol\"])"
   ]
  },
  {
   "cell_type": "code",
   "execution_count": 9,
   "id": "20e985cd",
   "metadata": {},
   "outputs": [
    {
     "data": {
      "text/plain": [
       "10"
      ]
     },
     "execution_count": 9,
     "metadata": {},
     "output_type": "execute_result"
    }
   ],
   "source": [
    "from pyspark.ml.clustering import KMeans\n",
    "kmeans = KMeans(k=2)\n",
    "kmeans.setSeed(1)\n",
    "kmeans.setWeightCol(\"weighCol\")\n",
    "kmeans.setMaxIter(10)\n",
    "kmeans.getMaxIter()\n",
    "# 10"
   ]
  },
  {
   "cell_type": "code",
   "execution_count": 10,
   "id": "af079de1",
   "metadata": {},
   "outputs": [
    {
     "data": {
      "text/plain": [
       "'euclidean'"
      ]
     },
     "execution_count": 10,
     "metadata": {},
     "output_type": "execute_result"
    }
   ],
   "source": [
    "kmeans.clear(kmeans.maxIter)\n",
    "model = kmeans.fit(df)\n",
    "model.getDistanceMeasure()"
   ]
  },
  {
   "cell_type": "code",
   "execution_count": 11,
   "id": "400d5007",
   "metadata": {},
   "outputs": [
    {
     "data": {
      "text/plain": [
       "0"
      ]
     },
     "execution_count": 11,
     "metadata": {},
     "output_type": "execute_result"
    }
   ],
   "source": [
    "model.setPredictionCol(\"newPrediction\")\n",
    "model.predict(df.head().features)"
   ]
  },
  {
   "cell_type": "code",
   "execution_count": 12,
   "id": "6b45b773",
   "metadata": {},
   "outputs": [
    {
     "data": {
      "text/plain": [
       "2"
      ]
     },
     "execution_count": 12,
     "metadata": {},
     "output_type": "execute_result"
    }
   ],
   "source": [
    "centers = model.clusterCenters()\n",
    "len(centers)"
   ]
  },
  {
   "cell_type": "code",
   "execution_count": 13,
   "id": "5ded7def",
   "metadata": {},
   "outputs": [
    {
     "data": {
      "text/plain": [
       "[Row(features=DenseVector([0.0, 0.0]), newPrediction=0),\n",
       " Row(features=DenseVector([1.0, 1.0]), newPrediction=0),\n",
       " Row(features=DenseVector([9.0, 8.0]), newPrediction=1),\n",
       " Row(features=DenseVector([8.0, 9.0]), newPrediction=1)]"
      ]
     },
     "execution_count": 13,
     "metadata": {},
     "output_type": "execute_result"
    }
   ],
   "source": [
    "transformed = model.transform(df).select(\"features\", \"newPrediction\")\n",
    "rows = transformed.collect()\n",
    "rows"
   ]
  },
  {
   "cell_type": "markdown",
   "id": "96b6684e",
   "metadata": {},
   "source": [
    "## Run the model for Bisecting KMeans based on the API"
   ]
  },
  {
   "cell_type": "code",
   "execution_count": 14,
   "id": "51801fd1",
   "metadata": {},
   "outputs": [],
   "source": [
    "# dataset: [ ([value1, value2, ...], weight), ( [...], weight2 ), ... ]\n",
    "\n",
    "data = [(Vectors.dense([0.0, 0.0]), 2.0), \n",
    "        (Vectors.dense([1.0, 1.0]), 2.0),\n",
    "        (Vectors.dense([9.0, 8.0]), 2.0), \n",
    "        (Vectors.dense([8.0, 9.0]), 2.0)]"
   ]
  },
  {
   "cell_type": "code",
   "execution_count": 15,
   "id": "8eba88fe",
   "metadata": {},
   "outputs": [],
   "source": [
    "df = sqlContext.createDataFrame(data, [\"features\", \"weighCol\"])"
   ]
  },
  {
   "cell_type": "code",
   "execution_count": 16,
   "id": "d9adde79",
   "metadata": {},
   "outputs": [],
   "source": [
    "from pyspark.ml.clustering import BisectingKMeans\n",
    "\n",
    "# k is the number of clusters\n",
    "bkm = BisectingKMeans(k=2, minDivisibleClusterSize=1.0)"
   ]
  },
  {
   "cell_type": "code",
   "execution_count": 17,
   "id": "a1f19796",
   "metadata": {},
   "outputs": [
    {
     "data": {
      "text/plain": [
       "10"
      ]
     },
     "execution_count": 17,
     "metadata": {},
     "output_type": "execute_result"
    }
   ],
   "source": [
    "bkm.setMaxIter(10)\n",
    "bkm.getMaxIter()"
   ]
  },
  {
   "cell_type": "code",
   "execution_count": 18,
   "id": "4a21440a",
   "metadata": {},
   "outputs": [],
   "source": [
    "bkm.clear(bkm.maxIter)"
   ]
  },
  {
   "cell_type": "code",
   "execution_count": 19,
   "id": "ad84288d",
   "metadata": {},
   "outputs": [
    {
     "data": {
      "text/plain": [
       "BisectingKMeans_9ae7028a23dd"
      ]
     },
     "execution_count": 19,
     "metadata": {},
     "output_type": "execute_result"
    }
   ],
   "source": [
    "bkm.setSeed(1)"
   ]
  },
  {
   "cell_type": "code",
   "execution_count": 20,
   "id": "4b2b9af2",
   "metadata": {},
   "outputs": [
    {
     "data": {
      "text/plain": [
       "BisectingKMeans_9ae7028a23dd"
      ]
     },
     "execution_count": 20,
     "metadata": {},
     "output_type": "execute_result"
    }
   ],
   "source": [
    "bkm.setWeightCol(\"weighCol\")"
   ]
  },
  {
   "cell_type": "code",
   "execution_count": 21,
   "id": "73c44475",
   "metadata": {},
   "outputs": [
    {
     "data": {
      "text/plain": [
       "1"
      ]
     },
     "execution_count": 21,
     "metadata": {},
     "output_type": "execute_result"
    }
   ],
   "source": [
    "bkm.getSeed()"
   ]
  },
  {
   "cell_type": "code",
   "execution_count": 22,
   "id": "e07d3933",
   "metadata": {},
   "outputs": [],
   "source": [
    "bkm.clear(bkm.seed)"
   ]
  },
  {
   "cell_type": "code",
   "execution_count": 23,
   "id": "cf810954",
   "metadata": {},
   "outputs": [],
   "source": [
    "model = bkm.fit(df)"
   ]
  },
  {
   "cell_type": "code",
   "execution_count": 24,
   "id": "d2fbf165",
   "metadata": {},
   "outputs": [
    {
     "data": {
      "text/plain": [
       "20"
      ]
     },
     "execution_count": 24,
     "metadata": {},
     "output_type": "execute_result"
    }
   ],
   "source": [
    "model.getMaxIter()"
   ]
  },
  {
   "cell_type": "code",
   "execution_count": 25,
   "id": "94bb8601",
   "metadata": {},
   "outputs": [
    {
     "data": {
      "text/plain": [
       "0"
      ]
     },
     "execution_count": 25,
     "metadata": {},
     "output_type": "execute_result"
    }
   ],
   "source": [
    "model.setPredictionCol(\"newPrediction\")\n",
    "model.predict(df.head().features)"
   ]
  },
  {
   "cell_type": "code",
   "execution_count": 26,
   "id": "7c29d8ea",
   "metadata": {},
   "outputs": [],
   "source": [
    "centers = model.clusterCenters()"
   ]
  },
  {
   "cell_type": "code",
   "execution_count": 27,
   "id": "2133028d",
   "metadata": {},
   "outputs": [
    {
     "data": {
      "text/plain": [
       "2"
      ]
     },
     "execution_count": 27,
     "metadata": {},
     "output_type": "execute_result"
    }
   ],
   "source": [
    "len(centers)"
   ]
  },
  {
   "cell_type": "markdown",
   "id": "e178f7dc",
   "metadata": {},
   "source": [
    "### Reading and interpreting output"
   ]
  },
  {
   "cell_type": "code",
   "execution_count": 28,
   "id": "4c7a9f4d",
   "metadata": {},
   "outputs": [
    {
     "data": {
      "text/plain": [
       "2.0"
      ]
     },
     "execution_count": 28,
     "metadata": {},
     "output_type": "execute_result"
    }
   ],
   "source": [
    "model.computeCost(df)"
   ]
  },
  {
   "cell_type": "code",
   "execution_count": 29,
   "id": "aba0a2e6",
   "metadata": {},
   "outputs": [
    {
     "data": {
      "text/plain": [
       "True"
      ]
     },
     "execution_count": 29,
     "metadata": {},
     "output_type": "execute_result"
    }
   ],
   "source": [
    "model.hasSummary"
   ]
  },
  {
   "cell_type": "code",
   "execution_count": 30,
   "id": "788e1546",
   "metadata": {},
   "outputs": [],
   "source": [
    "summary = model.summary"
   ]
  },
  {
   "cell_type": "code",
   "execution_count": 31,
   "id": "b1ffaaea",
   "metadata": {},
   "outputs": [
    {
     "data": {
      "text/plain": [
       "2"
      ]
     },
     "execution_count": 31,
     "metadata": {},
     "output_type": "execute_result"
    }
   ],
   "source": [
    "summary.k"
   ]
  },
  {
   "cell_type": "code",
   "execution_count": 32,
   "id": "fee7b36c",
   "metadata": {},
   "outputs": [
    {
     "data": {
      "text/plain": [
       "[2, 2]"
      ]
     },
     "execution_count": 32,
     "metadata": {},
     "output_type": "execute_result"
    }
   ],
   "source": [
    "summary.clusterSizes"
   ]
  },
  {
   "cell_type": "code",
   "execution_count": 33,
   "id": "e54e9806",
   "metadata": {},
   "outputs": [
    {
     "data": {
      "text/plain": [
       "4.000000000000114"
      ]
     },
     "execution_count": 33,
     "metadata": {},
     "output_type": "execute_result"
    }
   ],
   "source": [
    "summary.trainingCost"
   ]
  },
  {
   "cell_type": "code",
   "execution_count": 34,
   "id": "b38cdbc6",
   "metadata": {},
   "outputs": [],
   "source": [
    "transformed = model.transform(df).select(\"features\", \"newPrediction\")"
   ]
  },
  {
   "cell_type": "code",
   "execution_count": 35,
   "id": "351c3cee",
   "metadata": {},
   "outputs": [],
   "source": [
    "rows = transformed.collect()"
   ]
  },
  {
   "cell_type": "code",
   "execution_count": 36,
   "id": "c72e46ca",
   "metadata": {},
   "outputs": [
    {
     "data": {
      "text/plain": [
       "True"
      ]
     },
     "execution_count": 36,
     "metadata": {},
     "output_type": "execute_result"
    }
   ],
   "source": [
    "rows[0].newPrediction == rows[1].newPrediction"
   ]
  },
  {
   "cell_type": "code",
   "execution_count": 37,
   "id": "aa2b09fd",
   "metadata": {},
   "outputs": [
    {
     "data": {
      "text/plain": [
       "True"
      ]
     },
     "execution_count": 37,
     "metadata": {},
     "output_type": "execute_result"
    }
   ],
   "source": [
    "rows[2].newPrediction == rows[3].newPrediction"
   ]
  },
  {
   "cell_type": "markdown",
   "id": "873ae399",
   "metadata": {},
   "source": [
    "### Saving Data:"
   ]
  },
  {
   "cell_type": "code",
   "execution_count": 38,
   "id": "aed9faeb",
   "metadata": {},
   "outputs": [],
   "source": [
    "temp_path = './data/clustering'"
   ]
  },
  {
   "cell_type": "code",
   "execution_count": 39,
   "id": "647e7344",
   "metadata": {},
   "outputs": [],
   "source": [
    "bkm_path = temp_path + \"/bkm\""
   ]
  },
  {
   "cell_type": "code",
   "execution_count": 40,
   "id": "3d6cec96",
   "metadata": {},
   "outputs": [
    {
     "ename": "Py4JJavaError",
     "evalue": "An error occurred while calling o257.save.\n: java.io.IOException: Path ./data/clustering/bkm already exists. To overwrite it, please use write.overwrite().save(path) for Scala and use write().overwrite().save(path) for Java and Python.\n\tat org.apache.spark.ml.util.FileSystemOverwrite.handleOverwrite(ReadWrite.scala:683)\n\tat org.apache.spark.ml.util.MLWriter.save(ReadWrite.scala:167)\n\tat sun.reflect.NativeMethodAccessorImpl.invoke0(Native Method)\n\tat sun.reflect.NativeMethodAccessorImpl.invoke(NativeMethodAccessorImpl.java:62)\n\tat sun.reflect.DelegatingMethodAccessorImpl.invoke(DelegatingMethodAccessorImpl.java:43)\n\tat java.lang.reflect.Method.invoke(Method.java:498)\n\tat py4j.reflection.MethodInvoker.invoke(MethodInvoker.java:244)\n\tat py4j.reflection.ReflectionEngine.invoke(ReflectionEngine.java:357)\n\tat py4j.Gateway.invoke(Gateway.java:282)\n\tat py4j.commands.AbstractCommand.invokeMethod(AbstractCommand.java:132)\n\tat py4j.commands.CallCommand.execute(CallCommand.java:79)\n\tat py4j.GatewayConnection.run(GatewayConnection.java:238)\n\tat java.lang.Thread.run(Thread.java:748)\n",
     "output_type": "error",
     "traceback": [
      "\u001b[0;31m---------------------------------------------------------------------------\u001b[0m",
      "\u001b[0;31mPy4JJavaError\u001b[0m                             Traceback (most recent call last)",
      "\u001b[0;32m<ipython-input-40-ce96bbc15b64>\u001b[0m in \u001b[0;36m<module>\u001b[0;34m\u001b[0m\n\u001b[0;32m----> 1\u001b[0;31m \u001b[0mbkm\u001b[0m\u001b[0;34m.\u001b[0m\u001b[0msave\u001b[0m\u001b[0;34m(\u001b[0m\u001b[0mbkm_path\u001b[0m\u001b[0;34m)\u001b[0m\u001b[0;34m\u001b[0m\u001b[0;34m\u001b[0m\u001b[0m\n\u001b[0m",
      "\u001b[0;32m/users/adrian/spark-3.0.1-bin-hadoop3.2/python/pyspark/ml/util.py\u001b[0m in \u001b[0;36msave\u001b[0;34m(self, path)\u001b[0m\n\u001b[1;32m    222\u001b[0m     \u001b[0;32mdef\u001b[0m \u001b[0msave\u001b[0m\u001b[0;34m(\u001b[0m\u001b[0mself\u001b[0m\u001b[0;34m,\u001b[0m \u001b[0mpath\u001b[0m\u001b[0;34m)\u001b[0m\u001b[0;34m:\u001b[0m\u001b[0;34m\u001b[0m\u001b[0;34m\u001b[0m\u001b[0m\n\u001b[1;32m    223\u001b[0m         \u001b[0;34m\"\"\"Save this ML instance to the given path, a shortcut of 'write().save(path)'.\"\"\"\u001b[0m\u001b[0;34m\u001b[0m\u001b[0;34m\u001b[0m\u001b[0m\n\u001b[0;32m--> 224\u001b[0;31m         \u001b[0mself\u001b[0m\u001b[0;34m.\u001b[0m\u001b[0mwrite\u001b[0m\u001b[0;34m(\u001b[0m\u001b[0;34m)\u001b[0m\u001b[0;34m.\u001b[0m\u001b[0msave\u001b[0m\u001b[0;34m(\u001b[0m\u001b[0mpath\u001b[0m\u001b[0;34m)\u001b[0m\u001b[0;34m\u001b[0m\u001b[0;34m\u001b[0m\u001b[0m\n\u001b[0m\u001b[1;32m    225\u001b[0m \u001b[0;34m\u001b[0m\u001b[0m\n\u001b[1;32m    226\u001b[0m \u001b[0;34m\u001b[0m\u001b[0m\n",
      "\u001b[0;32m/users/adrian/spark-3.0.1-bin-hadoop3.2/python/pyspark/ml/util.py\u001b[0m in \u001b[0;36msave\u001b[0;34m(self, path)\u001b[0m\n\u001b[1;32m    173\u001b[0m         \u001b[0;32mif\u001b[0m \u001b[0;32mnot\u001b[0m \u001b[0misinstance\u001b[0m\u001b[0;34m(\u001b[0m\u001b[0mpath\u001b[0m\u001b[0;34m,\u001b[0m \u001b[0mbasestring\u001b[0m\u001b[0;34m)\u001b[0m\u001b[0;34m:\u001b[0m\u001b[0;34m\u001b[0m\u001b[0;34m\u001b[0m\u001b[0m\n\u001b[1;32m    174\u001b[0m             \u001b[0;32mraise\u001b[0m \u001b[0mTypeError\u001b[0m\u001b[0;34m(\u001b[0m\u001b[0;34m\"path should be a basestring, got type %s\"\u001b[0m \u001b[0;34m%\u001b[0m \u001b[0mtype\u001b[0m\u001b[0;34m(\u001b[0m\u001b[0mpath\u001b[0m\u001b[0;34m)\u001b[0m\u001b[0;34m)\u001b[0m\u001b[0;34m\u001b[0m\u001b[0;34m\u001b[0m\u001b[0m\n\u001b[0;32m--> 175\u001b[0;31m         \u001b[0mself\u001b[0m\u001b[0;34m.\u001b[0m\u001b[0m_jwrite\u001b[0m\u001b[0;34m.\u001b[0m\u001b[0msave\u001b[0m\u001b[0;34m(\u001b[0m\u001b[0mpath\u001b[0m\u001b[0;34m)\u001b[0m\u001b[0;34m\u001b[0m\u001b[0;34m\u001b[0m\u001b[0m\n\u001b[0m\u001b[1;32m    176\u001b[0m \u001b[0;34m\u001b[0m\u001b[0m\n\u001b[1;32m    177\u001b[0m     \u001b[0;32mdef\u001b[0m \u001b[0moverwrite\u001b[0m\u001b[0;34m(\u001b[0m\u001b[0mself\u001b[0m\u001b[0;34m)\u001b[0m\u001b[0;34m:\u001b[0m\u001b[0;34m\u001b[0m\u001b[0;34m\u001b[0m\u001b[0m\n",
      "\u001b[0;32m/users/adrian/spark-3.0.1-bin-hadoop3.2/python/lib/py4j-0.10.9-src.zip/py4j/java_gateway.py\u001b[0m in \u001b[0;36m__call__\u001b[0;34m(self, *args)\u001b[0m\n\u001b[1;32m   1303\u001b[0m         \u001b[0manswer\u001b[0m \u001b[0;34m=\u001b[0m \u001b[0mself\u001b[0m\u001b[0;34m.\u001b[0m\u001b[0mgateway_client\u001b[0m\u001b[0;34m.\u001b[0m\u001b[0msend_command\u001b[0m\u001b[0;34m(\u001b[0m\u001b[0mcommand\u001b[0m\u001b[0;34m)\u001b[0m\u001b[0;34m\u001b[0m\u001b[0;34m\u001b[0m\u001b[0m\n\u001b[1;32m   1304\u001b[0m         return_value = get_return_value(\n\u001b[0;32m-> 1305\u001b[0;31m             answer, self.gateway_client, self.target_id, self.name)\n\u001b[0m\u001b[1;32m   1306\u001b[0m \u001b[0;34m\u001b[0m\u001b[0m\n\u001b[1;32m   1307\u001b[0m         \u001b[0;32mfor\u001b[0m \u001b[0mtemp_arg\u001b[0m \u001b[0;32min\u001b[0m \u001b[0mtemp_args\u001b[0m\u001b[0;34m:\u001b[0m\u001b[0;34m\u001b[0m\u001b[0;34m\u001b[0m\u001b[0m\n",
      "\u001b[0;32m/users/adrian/spark-3.0.1-bin-hadoop3.2/python/pyspark/sql/utils.py\u001b[0m in \u001b[0;36mdeco\u001b[0;34m(*a, **kw)\u001b[0m\n\u001b[1;32m    126\u001b[0m     \u001b[0;32mdef\u001b[0m \u001b[0mdeco\u001b[0m\u001b[0;34m(\u001b[0m\u001b[0;34m*\u001b[0m\u001b[0ma\u001b[0m\u001b[0;34m,\u001b[0m \u001b[0;34m**\u001b[0m\u001b[0mkw\u001b[0m\u001b[0;34m)\u001b[0m\u001b[0;34m:\u001b[0m\u001b[0;34m\u001b[0m\u001b[0;34m\u001b[0m\u001b[0m\n\u001b[1;32m    127\u001b[0m         \u001b[0;32mtry\u001b[0m\u001b[0;34m:\u001b[0m\u001b[0;34m\u001b[0m\u001b[0;34m\u001b[0m\u001b[0m\n\u001b[0;32m--> 128\u001b[0;31m             \u001b[0;32mreturn\u001b[0m \u001b[0mf\u001b[0m\u001b[0;34m(\u001b[0m\u001b[0;34m*\u001b[0m\u001b[0ma\u001b[0m\u001b[0;34m,\u001b[0m \u001b[0;34m**\u001b[0m\u001b[0mkw\u001b[0m\u001b[0;34m)\u001b[0m\u001b[0;34m\u001b[0m\u001b[0;34m\u001b[0m\u001b[0m\n\u001b[0m\u001b[1;32m    129\u001b[0m         \u001b[0;32mexcept\u001b[0m \u001b[0mpy4j\u001b[0m\u001b[0;34m.\u001b[0m\u001b[0mprotocol\u001b[0m\u001b[0;34m.\u001b[0m\u001b[0mPy4JJavaError\u001b[0m \u001b[0;32mas\u001b[0m \u001b[0me\u001b[0m\u001b[0;34m:\u001b[0m\u001b[0;34m\u001b[0m\u001b[0;34m\u001b[0m\u001b[0m\n\u001b[1;32m    130\u001b[0m             \u001b[0mconverted\u001b[0m \u001b[0;34m=\u001b[0m \u001b[0mconvert_exception\u001b[0m\u001b[0;34m(\u001b[0m\u001b[0me\u001b[0m\u001b[0;34m.\u001b[0m\u001b[0mjava_exception\u001b[0m\u001b[0;34m)\u001b[0m\u001b[0;34m\u001b[0m\u001b[0;34m\u001b[0m\u001b[0m\n",
      "\u001b[0;32m/users/adrian/spark-3.0.1-bin-hadoop3.2/python/lib/py4j-0.10.9-src.zip/py4j/protocol.py\u001b[0m in \u001b[0;36mget_return_value\u001b[0;34m(answer, gateway_client, target_id, name)\u001b[0m\n\u001b[1;32m    326\u001b[0m                 raise Py4JJavaError(\n\u001b[1;32m    327\u001b[0m                     \u001b[0;34m\"An error occurred while calling {0}{1}{2}.\\n\"\u001b[0m\u001b[0;34m.\u001b[0m\u001b[0;34m\u001b[0m\u001b[0;34m\u001b[0m\u001b[0m\n\u001b[0;32m--> 328\u001b[0;31m                     format(target_id, \".\", name), value)\n\u001b[0m\u001b[1;32m    329\u001b[0m             \u001b[0;32melse\u001b[0m\u001b[0;34m:\u001b[0m\u001b[0;34m\u001b[0m\u001b[0;34m\u001b[0m\u001b[0m\n\u001b[1;32m    330\u001b[0m                 raise Py4JError(\n",
      "\u001b[0;31mPy4JJavaError\u001b[0m: An error occurred while calling o257.save.\n: java.io.IOException: Path ./data/clustering/bkm already exists. To overwrite it, please use write.overwrite().save(path) for Scala and use write().overwrite().save(path) for Java and Python.\n\tat org.apache.spark.ml.util.FileSystemOverwrite.handleOverwrite(ReadWrite.scala:683)\n\tat org.apache.spark.ml.util.MLWriter.save(ReadWrite.scala:167)\n\tat sun.reflect.NativeMethodAccessorImpl.invoke0(Native Method)\n\tat sun.reflect.NativeMethodAccessorImpl.invoke(NativeMethodAccessorImpl.java:62)\n\tat sun.reflect.DelegatingMethodAccessorImpl.invoke(DelegatingMethodAccessorImpl.java:43)\n\tat java.lang.reflect.Method.invoke(Method.java:498)\n\tat py4j.reflection.MethodInvoker.invoke(MethodInvoker.java:244)\n\tat py4j.reflection.ReflectionEngine.invoke(ReflectionEngine.java:357)\n\tat py4j.Gateway.invoke(Gateway.java:282)\n\tat py4j.commands.AbstractCommand.invokeMethod(AbstractCommand.java:132)\n\tat py4j.commands.CallCommand.execute(CallCommand.java:79)\n\tat py4j.GatewayConnection.run(GatewayConnection.java:238)\n\tat java.lang.Thread.run(Thread.java:748)\n"
     ]
    }
   ],
   "source": [
    "bkm.save(bkm_path)"
   ]
  },
  {
   "cell_type": "code",
   "execution_count": null,
   "id": "c911e8db",
   "metadata": {},
   "outputs": [],
   "source": [
    "bkm2 = BisectingKMeans.load(bkm_path)"
   ]
  },
  {
   "cell_type": "code",
   "execution_count": null,
   "id": "82fa949c",
   "metadata": {},
   "outputs": [],
   "source": [
    "bkm2.getK()"
   ]
  },
  {
   "cell_type": "code",
   "execution_count": null,
   "id": "b4f2b9b3",
   "metadata": {},
   "outputs": [],
   "source": [
    "bkm2.getDistanceMeasure()"
   ]
  },
  {
   "cell_type": "code",
   "execution_count": null,
   "id": "3f094138",
   "metadata": {},
   "outputs": [],
   "source": [
    "model_path = temp_path + \"/bkm_model\""
   ]
  },
  {
   "cell_type": "code",
   "execution_count": null,
   "id": "f0f51d5a",
   "metadata": {},
   "outputs": [],
   "source": [
    "model.save(model_path)"
   ]
  },
  {
   "cell_type": "code",
   "execution_count": null,
   "id": "bf12ffb8",
   "metadata": {},
   "outputs": [],
   "source": [
    "model2 = BisectingKMeansModel.load(model_path)"
   ]
  },
  {
   "cell_type": "code",
   "execution_count": null,
   "id": "92e97e16",
   "metadata": {},
   "outputs": [],
   "source": [
    "#model2.hasSummary"
   ]
  },
  {
   "cell_type": "code",
   "execution_count": null,
   "id": "d6c74292",
   "metadata": {},
   "outputs": [],
   "source": [
    "#model.clusterCenters()[0] == model2.clusterCenters()[0]"
   ]
  },
  {
   "cell_type": "code",
   "execution_count": null,
   "id": "e03563c0",
   "metadata": {},
   "outputs": [],
   "source": [
    "#model.clusterCenters()[1] == model2.clusterCenters()[1]"
   ]
  },
  {
   "cell_type": "code",
   "execution_count": null,
   "id": "9f3e2329",
   "metadata": {},
   "outputs": [],
   "source": [
    "#model.transform(df).take(1) == model2.transform(df).take(1)"
   ]
  },
  {
   "cell_type": "markdown",
   "id": "d741e8b8",
   "metadata": {},
   "source": [
    "## Reddit Crypto Data\n",
    "\n",
    "- Download the [Reddit Crypto data](https://www.cs.wcupa.edu/lngo/data2/reddit_crypto.zip)\n",
    "- Unzip the crypto data.\n",
    "- Review [the metadata](https://www.kaggle.com/pavellexyr/reddit-cryptocurrency-data-for-august-2021)\n",
    "- Perform a K-mean clustering on the text of posts and comments. Address the followings:\n",
    "  - What data point to remove, what not to remove?\n",
    "  - How to clean up text data?\n",
    "  - How to make the resulting cluster data more meaningful?"
   ]
  },
  {
   "cell_type": "code",
   "execution_count": 41,
   "id": "f28ce72b",
   "metadata": {},
   "outputs": [],
   "source": [
    "spark = pyspark.sql.SparkSession(sc)\n",
    "df_posts = spark.read.csv(\"./data/reddit_crypto/crypto-aug-2021-posts.csv\", \n",
    "                          header=True, \n",
    "                          inferSchema=True, \n",
    "                          multiLine=True, \n",
    "                          escape='\"').cache()"
   ]
  },
  {
   "cell_type": "code",
   "execution_count": 42,
   "id": "1ee8c41e",
   "metadata": {},
   "outputs": [
    {
     "data": {
      "text/plain": [
       "250569"
      ]
     },
     "execution_count": 42,
     "metadata": {},
     "output_type": "execute_result"
    }
   ],
   "source": [
    "df_posts.count()"
   ]
  },
  {
   "cell_type": "code",
   "execution_count": 43,
   "id": "4eed7a9b",
   "metadata": {},
   "outputs": [
    {
     "data": {
      "text/plain": [
       "[Row(type='post', id='pfi1nw', subreddit.id='9e4pv', subreddit.name='cryptomoonshots', subreddit.nsfw=False, created_utc=1630454394, permalink='https://old.reddit.com/r/CryptoMoonShots/comments/pfi1nw/next_generation_safe_token_with_cake_rewards_meth/', domain='self.cryptomoonshots', url=None, selftext=\"⚜️ 𝓟𝓻𝓸𝓶𝓮𝓽𝓱𝓮𝓾𝓼 ⚜️\\n\\n&amp;#x200B;\\n\\n&amp;#x200B;\\n\\nThursday 8pm UTC #Prometheus will launch. The NFT titans will be combined to the most (in)famous people in the world. The first one who will be Zeus in the battle against others is Elon Musk - otherwise called: Elon Zuskus.\\n\\n&amp;#x200B;\\n\\nLet's see what he brings to the battlefield!\\n\\n&amp;#x200B;\\n\\n&amp;#x200B;\\n\\n⚡️ [https://t.me/Prometheus\\\\_BSC](https://t.me/Prometheus_BSC)\\n\\n&amp;#x200B;\\n\\n&amp;#x200B;\\n\\n&amp;#x200B;\\n\\n&amp;#x200B;\\n\\n&amp;#x200B;\\n\\n——— 🔥: 𝐈𝐧𝐟𝐨 :🔥 ———\\n\\n&amp;#x200B;\\n\\n🍰 Never been done before Cross-Chain NFT project with $CAKE rewards!\\n\\n🖼 NFT Giveaways to the community! (Custom and existing)\\n\\n♠️ NFT Game with custom Prometheus NFT's in development\\n\\n🖥 Real tech development (SPXcharts and Cross-Chain Technology)\\n\\n🔮 Devs and marketing of previous/existing HUGE projects!\\n\\n🎥Doxxed Devs!\\n\\n&amp;#x200B;\\n\\n‼️The community has a voice in bascially ever move the team makes=\\n\\n&amp;#x200B;\\n\\n&amp;#x200B;\\n\\n&amp;#x200B;\\n\\n——— 🔥: 𝐓𝐨𝐤𝐞𝐧𝐨𝐦𝐢𝐜𝐬 :🔥 ———\\n\\n&amp;#x200B;\\n\\n🍰 𝟗% 𝐂𝐚𝐤𝐞 𝐑𝐞𝐟𝐥𝐞𝐜𝐭𝐢𝐨𝐧𝐬\\n\\n🌊 𝟏% 𝐋𝐢𝐪𝐮𝐢𝐝𝐢𝐭𝐲\\n\\n🔮𝟓% 𝐌𝐚𝐫𝐤𝐞𝐭𝐢𝐧𝐠 &amp; 𝐃𝐞𝐯𝐞𝐥𝐨𝐩𝐦𝐞𝐧𝐭\\n\\n💐𝟒% 𝐂𝐡𝐚𝐫𝐢𝐭𝐲 &amp; 𝐁𝐮𝐲𝐛𝐚𝐜𝐤\\n\\n🔥𝟑𝟎% 𝐈𝐧𝐢𝐭𝐢𝐚𝐥 𝐁𝐮𝐫𝐧 𝐨𝐟 𝐓𝐨𝐭𝐚𝐥 𝐒𝐮𝐩𝐩𝐥𝐲\\n\\n&amp;#x200B;\\n\\n&amp;#x200B;\\n\\n&amp;#x200B;\\n\\n——— 🔥: 𝐏𝐫𝐨𝐦𝐨𝐭𝐢𝐨𝐧 :🔥 ———\\n\\n&amp;#x200B;\\n\\n⚡️𝐇𝐮𝐠𝐞 𝐢𝐧𝐟𝐥𝐮𝐞𝐧𝐜𝐞𝐫𝐬 𝐛𝐚𝐜𝐤𝐢𝐧𝐠 𝐮𝐩 𝐭𝐡𝐞 𝐩𝐫𝐨𝐣𝐞𝐜𝐭!\\n\\n⚡️𝐕𝐢𝐫𝐚𝐥 𝐌𝐚𝐫𝐤𝐞𝐭𝐢𝐧𝐠 𝐒𝐭𝐫𝐚𝐭𝐞𝐠𝐢𝐞𝐬!\\n\\n⚡️Big funds available prior to launch!\\n\\n&amp;#x200B;\\n\\n&amp;#x200B;\\n\\n&amp;#x200B;\\n\\n——— 🔥: TECHNOLOGY: 🔥 ———\\n\\n&amp;#x200B;\\n\\n🌀𝐒𝐏𝐗𝐜𝐡𝐚𝐫𝐭𝐬 𝐚𝐫𝐞 𝐢𝐧 𝐀𝐥𝐩𝐡𝐚 (𝐩𝐫𝐞𝐯𝐢𝐞𝐰 on twitter) 𝐚𝐧𝐝 𝐨𝐭𝐡𝐞𝐫\\n\\n𝐫𝐞𝐯𝐨𝐥𝐮𝐭𝐢𝐨𝐧𝐚𝐫𝐲 𝐭𝐞𝐜𝐡 𝐢𝐬 𝐛𝐞𝐢𝐧𝐠 𝐝𝐞𝐯𝐞𝐥𝐨𝐩𝐞𝐝 𝟐𝟒/𝟕!\\n\\n🌀 Custom NFT Game in development!\\n\\n🌀 Cross-Chain Technology development starting soon\\n\\n&amp;#x200B;\\n\\n&amp;#x200B;\\n\\n&amp;#x200B;\\n\\n——— ♥️ : 𝐂𝐡𝐚𝐫𝐢𝐭𝐲 : ♥️ ———\\n\\n&amp;#x200B;\\n\\n🎈𝐖𝐞 𝐚𝐫𝐞 𝐝𝐞𝐝𝐢𝐜𝐚𝐭𝐞𝐝 𝐭𝐨 𝐝𝐨𝐢𝐧𝐠 𝐠𝐨𝐨𝐝 𝐢𝐧 𝐭𝐡𝐞 𝐰𝐨𝐫𝐥𝐝,\\n\\n𝐰𝐡𝐢𝐜𝐡 𝐢𝐬 𝐰𝐡𝐲 𝐰𝐞 𝐡𝐚𝐯𝐞 𝐜𝐡𝐨𝐬𝐞𝐧\\n\\n𝐭𝐨 𝐦𝐚𝐤𝐞 𝐨𝐮𝐫 𝐦𝐚𝐢𝐧 𝐜𝐡𝐚𝐫𝐢𝐭𝐲 𝐟𝐨𝐫 𝐝𝐨𝐧𝐚𝐭𝐢𝐨𝐧𝐬\\n\\n𝐀𝐥𝐞𝐱’𝐬 𝐋𝐞𝐦𝐨𝐧𝐚𝐝𝐞 𝐒𝐭𝐚𝐧𝐝.\\n\\nBe𝐜𝐚𝐮𝐬𝐞 𝐂𝐀𝐊𝐄 𝐚𝐥𝐰𝐚𝐲𝐬 𝐠𝐨𝐞𝐬 𝐰𝐞𝐥𝐥 𝐰𝐢𝐭𝐡 𝐋𝐞𝐦𝐨𝐧𝐚𝐝𝐞!\\n\\n&amp;#x200B;\\n\\n&amp;#x200B;\\n\\n&amp;#x200B;\\n\\n♥️ 𝐅𝐢𝐠𝐡𝐭𝐢𝐧𝐠 𝐜𝐡𝐢𝐥𝐝𝐡𝐨𝐨𝐝 𝐜𝐚𝐧𝐜𝐞𝐫, 𝐨𝐧𝐞 𝐜𝐮𝐩 𝐚𝐭 𝐚 𝐭𝐢𝐦𝐞 ♥️\\n\\n&amp;#x200B;\\n\\n&amp;#x200B;\\n\\n&amp;#x200B;\\n\\n——— 🔥: 𝐒𝐨𝐜𝐢𝐚𝐥𝐬 :🔥 ———\\n\\n&amp;#x200B;\\n\\nℹ️𝐅𝐨𝐫 𝐦𝐨𝐫𝐞 𝐢𝐧𝐟𝐨𝐫𝐦𝐚𝐭𝐢𝐨𝐧 𝐚𝐛𝐨𝐮𝐭 𝐭𝐡𝐞 𝐩𝐫𝐨𝐣𝐞𝐜𝐭 𝐢𝐧𝐜𝐥𝐮𝐝𝐢𝐧𝐠 𝐑𝐨𝐚𝐝𝐌𝐚𝐩 𝐩𝐥𝐞𝐚𝐬𝐞 𝐯𝐢𝐞𝐰 𝐜𝐨𝐧𝐭𝐚𝐜𝐭 𝐢𝐧𝐟𝐨𝐫𝐦𝐚𝐭𝐢𝐨𝐧 𝐛𝐞𝐥𝐨𝐰:\\n\\n&amp;#x200B;\\n\\n🌍 𝐖𝐞𝐛𝐬𝐢𝐭𝐞 : [https://prometheusbsc.com/](https://prometheusbsc.com/)\\n\\n🐦 𝐓𝐰𝐢𝐭𝐭𝐞𝐫: [https://twitter.com/Prometheus\\\\_BSC](https://twitter.com/Prometheus_BSC)\\n\\n🔖 𝐓𝐞𝐥𝐞𝐠𝐫𝐚𝐦: [https://t.me/Prometheus\\\\_BSC](https://t.me/Prometheus_BSC)\\n\\n🌐 𝐅𝐚𝐜𝐞𝐛𝐨𝐨𝐤: [facebook.com/groups/prometheus](https://facebook.com/groups/prometheus)\\n\\n🌐 𝐈𝐧𝐬𝐭𝐚𝐠𝐫𝐚𝐦: [https://www.instagram.com/prometheusbsc/](https://www.instagram.com/prometheusbsc/)\\n\\n🌐 𝐒𝐮𝐛𝐫𝐞𝐝𝐝𝐢𝐭: [reddit.com/r/prometheus](https://reddit.com/r/prometheus)\\n\\n&amp;#x200B;\\n\\n&amp;#x200B;\\n\\n&amp;#x200B;\\n\\n🔥𝐋𝐢𝐠𝐡𝐭𝐢𝐧𝐠 𝐭𝐡𝐞 𝐅𝐢𝐫𝐞𝐬 𝐨𝐟 𝐈𝐧𝐧𝐨𝐯𝐚𝐭𝐢𝐨𝐧🔥\", title='🌍Next Generation Safe Token with $Cake Rewards - 🎈$Meth Fair Launch Thursday 8pm UTC - NFT Gaming - Join Us !!!🐦', score=3),\n",
       " Row(type='post', id='pfi0ci', subreddit.id='9e4pv', subreddit.name='cryptomoonshots', subreddit.nsfw=False, created_utc=1630454262, permalink='https://old.reddit.com/r/CryptoMoonShots/comments/pfi0ci/cryptoblast_just_stealth_launched_insane/', domain='self.cryptomoonshots', url=None, selftext='[removed]', title='CryptoBlast | Just stealth launched! 🚀| Insane automatic ADA rewards💲| Lot of hype | Low MC gem!💎', score=1),\n",
       " Row(type='post', id='pfhztt', subreddit.id='9e4pv', subreddit.name='cryptomoonshots', subreddit.nsfw=False, created_utc=1630454211, permalink='https://old.reddit.com/r/CryptoMoonShots/comments/pfhztt/getadahere_8_ada_rewards_900iq_name_fair_launch/', domain='self.cryptomoonshots', url=None, selftext=\"1️. WHAT IS GETADAHERE?\\n\\nWe are a meme token that rewards all holders with ADA. Marketing has already begun.\\n\\n&amp;#x200B;\\n\\n2️ WILL THIS GOTO LUNA 🌑\\n\\nWe have max wallets to equal to only 2% and max transaction is 1% permanently. This is to prevent whales.\\n\\n&amp;#x200B;\\n\\n3️ WHAT ARE THE REWARDS 🥇 🥈 🥉\\n\\nThe rewards are 8% CARDANO rewards. They are redistributed to holders every 30 minutes, automatically.\\n\\n&amp;#x200B;\\n\\n4️ WHAT ARE getADAhere's STATS ➕\\n\\nTotal Supply - 1,000,000,000/ 175,000,000 Burnt Post Launch\\n\\nStarting Liquidity - 2 BNB and 950 Million Tokens / 960$ Marketcap\\n\\nTax - Buy+Sell tax is 14%  \\n\\nRewards - 8% / Marketing 2% / Liquidity 4%\\n\\n&amp;#x200B;\\n\\n5️ WEN DOX 📷\\n\\nThe developers have no problem with doxxing if the project is succesful. We have been in voice chat and spoken to anybody with concerns. \\n\\n&amp;#x200B;\\n\\n6️ GIVEAWAYS 🎁\\n\\nWe have allocated 5% of the supply to be strictly for giveaways or promotions. Any shiller or loyal investor will be rewarded as per our twitter. \\n\\n&amp;#x200B;\\n\\nPanic sellers get out of here, hodlers get ada here.\\n\\n&amp;#x200B;\\n\\n🔗LINKS🔗\\n\\n✉️Telegram: [https://t.me/getADAhere](https://t.me/getADAhere)\\n\\n\\U0001f9eeContract: 0x30982366e66929c4fb6659646dec3d9b6c267670\\n\\n📊Chart:\\n\\n[https://charts.bogged.finance/0x30982366e66929c4fb6659646dec3d9b6c267670](https://charts.bogged.finance/0x30982366e66929c4fb6659646dec3d9b6c267670)\\n\\n🐦Twitter: [https://twitter.com/getADAhereBSC](https://twitter.com/getADAhereBSC)\\n\\n📷Website - [https://getADAhere.com](https://getADAhere.com)\", title='🔹 getADAhere | 8% ADA Rewards | 900IQ Name | Fair Launch Today | Dox at 15k MCAP | Transparent Canadian Devs', score=3),\n",
       " Row(type='post', id='pfhztr', subreddit.id='9e4pv', subreddit.name='cryptomoonshots', subreddit.nsfw=False, created_utc=1630454211, permalink='https://old.reddit.com/r/CryptoMoonShots/comments/pfhztr/deezcash_dzc_fair_launched_powerful_zcash_rewards/', domain='self.cryptomoonshots', url=None, selftext='Privacy is at odds and world governments are trying to tread on our crypto, DEEZcash is launching a Zcash rewards token to spread the word on privacy-centric crypto.\\n\\n🤔 What is $ZCash 🤔\\n\\nZcash was launched by one of the most respected technical teams in the world. Zcash is the \\'https of blockchains,\\' protecting your freedom to save and spend as you like.\\n\\n🔍 \"Sir, we see you paid Mr. Deez, who is this person?\" 🔍\\n\\nDEEZcash is paying out 12% $Zcash rewards - here\\'s a breakdown of the tokenomics:\\n\\n12% Zcash Rewards   |   4% LP   |   4% Marketing \\n\\n100B SUPPLY  |  2% MAX TX AND MAX WALLET\\n\\n----------\\n\\nTokenonomics:\\nTotal Supply: 100,000,000,000,000\\nMax wallet: 2,000,000,000,000\\nMax buy/sell: 2,000,000,000,000\\n\\n12% Zcash (Zcash) rewards\\n4% Liquidity Pool\\n4% Marketing\\n\\nFeatures:\\n\\nLiquidity locked \\nSell cooldown to prevent pump &amp; dumps\\nVolume-based rewards system\\n\\nInitial Marketing Plans:\\n\\nTrending CMS\\nCoin listings with trending votes on coinsniper, coinhunters, coinscope, coinlisting, and coinfair \\nBSC Telegram group pins\\nTwitter influencers\\n\\nNo team tokens. 100% to liquidity pool.\\n\\nDEEZcash taxes every sell and redistributes the tax to holders and the liquidity pool\\n\\nContract: \\n\\n0xabfa5fbba49eb305229ca4719cf0a09d3a23dfeb\\n\\nTelegram: \\n\\nhttps://t.me/DEEZcash\\n\\nWebsite: \\n\\nhttps://www.deezcash.com\\n\\nDev is in the Telegram open to answer any questions! \\nDON’T BE LATE!', title='💴 DEEZcash 💴 | $DZC | Fair Launched | Powerful ZCash Rewards Token | Dev Doxed in Voice Chat', score=11),\n",
       " Row(type='post', id='pfhz1z', subreddit.id='9e4pv', subreddit.name='cryptomoonshots', subreddit.nsfw=False, created_utc=1630454139, permalink='https://old.reddit.com/r/CryptoMoonShots/comments/pfhz1z/getadahere_8_ada_rewards_900iq_name_fair_launch/', domain='self.cryptomoonshots', url=None, selftext='[removed]', title='🔹 getADAhere 🔹 | 😱 8% ADA Rewards 😱 | 🔥 900IQ Name 🔥 | 🚀 Fair Launch Today 🚀| 🕵️ Dox at 15k MCAP 🕵️ | 🇨🇦 Transparent Canadian Devs 🇨🇦', score=1),\n",
       " Row(type='post', id='pfhym2', subreddit.id='9e4pv', subreddit.name='cryptomoonshots', subreddit.nsfw=False, created_utc=1630454097, permalink='https://old.reddit.com/r/CryptoMoonShots/comments/pfhym2/getadahere_8_ada_rewards_900iq_name_fair_launch/', domain='self.cryptomoonshots', url=None, selftext='[removed]', title='🔹 getADAhere | 8% ADA Rewards | 900IQ Name | 🚀 Fair Launch Today | Dox at 15k MCAP | 🇨🇦 Transparent Canadian Devs', score=1),\n",
       " Row(type='post', id='pfhxvq', subreddit.id='9e4pv', subreddit.name='cryptomoonshots', subreddit.nsfw=False, created_utc=1630454018, permalink='https://old.reddit.com/r/CryptoMoonShots/comments/pfhxvq/getadahere_8_ada_rewards_900iq_name_fair_launch/', domain='self.cryptomoonshots', url=None, selftext='[removed]', title='getADAhere 🔹 | 8% ADA Rewards | 900IQ Name | Fair Launch Today 🚀| Dox at 15k MCAP 🕵️ | Transparent Canadian Devs 🇨🇦', score=1),\n",
       " Row(type='post', id='pfhxjp', subreddit.id='9e4pv', subreddit.name='cryptomoonshots', subreddit.nsfw=False, created_utc=1630453983, permalink='https://old.reddit.com/r/CryptoMoonShots/comments/pfhxjp/getadahere_8_ada_rewards_900iq_name_fair_launch/', domain='self.cryptomoonshots', url=None, selftext='[removed]', title='getADAhere 🔹 | 8% ADA Rewards 😱 | 900IQ Name 🔥 | Fair Launch Today 🚀| Dox at 15k MCAP 🕵️ | Transparent Canadian Devs 🇨🇦', score=1),\n",
       " Row(type='post', id='pfhxhz', subreddit.id='9e4pv', subreddit.name='cryptomoonshots', subreddit.nsfw=False, created_utc=1630453978, permalink='https://old.reddit.com/r/CryptoMoonShots/comments/pfhxhz/titan_token/', domain='self.cryptomoonshots', url=None, selftext='[removed]', title='Titan Token', score=1),\n",
       " Row(type='post', id='pfhwqg', subreddit.id='9e4pv', subreddit.name='cryptomoonshots', subreddit.nsfw=False, created_utc=1630453903, permalink='https://old.reddit.com/r/CryptoMoonShots/comments/pfhwqg/getadahere_8_ada_rewards_900iq_name_fair_launch/', domain='self.cryptomoonshots', url=None, selftext='[removed]', title='🔹 getADAhere 🔹 | 8% ADA Rewards 😱 | 900IQ Name 🔥 | Fair Launch Today 🚀| Dox at 15k MCAP 🕵️ | Transparent Canadian Devs 🇨🇦', score=1)]"
      ]
     },
     "execution_count": 43,
     "metadata": {},
     "output_type": "execute_result"
    }
   ],
   "source": [
    "df_posts.take(10)"
   ]
  },
  {
   "cell_type": "code",
   "execution_count": 56,
   "id": "708d2ecd",
   "metadata": {},
   "outputs": [
    {
     "data": {
      "text/plain": [
       "73691"
      ]
     },
     "execution_count": 56,
     "metadata": {},
     "output_type": "execute_result"
    }
   ],
   "source": [
    "filter_list = ['[removed]']\n",
    "df_clean = df_posts.filter( (df_posts.selftext != '[removed]') & (df_posts.selftext != '[deleted]'))\n",
    "df_clean.count()"
   ]
  },
  {
   "cell_type": "code",
   "execution_count": 64,
   "id": "b9948043",
   "metadata": {},
   "outputs": [
    {
     "name": "stdout",
     "output_type": "stream",
     "text": [
      "Collecting nltk\n",
      "  Downloading nltk-3.6.7-py3-none-any.whl (1.5 MB)\n",
      "\u001b[K     |████████████████████████████████| 1.5 MB 6.7 MB/s eta 0:00:01\n",
      "\u001b[?25hCollecting tqdm\n",
      "  Downloading tqdm-4.64.1-py2.py3-none-any.whl (78 kB)\n",
      "\u001b[K     |████████████████████████████████| 78 kB 10.7 MB/s eta 0:00:01\n",
      "\u001b[?25hCollecting regex>=2021.8.3\n",
      "  Downloading regex-2022.10.31-cp36-cp36m-macosx_10_9_x86_64.whl (294 kB)\n",
      "\u001b[K     |████████████████████████████████| 294 kB 19.8 MB/s eta 0:00:01\n",
      "\u001b[?25hCollecting joblib\n",
      "  Downloading joblib-1.1.1-py2.py3-none-any.whl (309 kB)\n",
      "\u001b[K     |████████████████████████████████| 309 kB 22.2 MB/s eta 0:00:01\n",
      "\u001b[?25hCollecting click\n",
      "  Downloading click-8.0.4-py3-none-any.whl (97 kB)\n",
      "\u001b[K     |██�███████████████████████████▎ | 92 kB 37.8 MB/s eta 0:00:01�█████████████████████████████| 97 kB 13.4 MB/s \n",
      "\u001b[?25hCollecting importlib-metadata\n",
      "  Using cached importlib_metadata-4.8.3-py3-none-any.whl (17 kB)\n",
      "Collecting zipp>=0.5\n",
      "  Using cached zipp-3.6.0-py3-none-any.whl (5.3 kB)\n",
      "Requirement already satisfied: typing-extensions>=3.6.4 in /Users/adrian/opt/anaconda3/envs/pyspark/lib/python3.6/site-packages (from importlib-metadata->click->nltk) (4.1.1)\n",
      "Collecting importlib-resources\n",
      "  Downloading importlib_resources-5.4.0-py3-none-any.whl (28 kB)\n",
      "Installing collected packages: zipp, importlib-resources, importlib-metadata, tqdm, regex, joblib, click, nltk\n",
      "Successfully installed click-8.0.4 importlib-metadata-4.8.3 importlib-resources-5.4.0 joblib-1.1.1 nltk-3.6.7 regex-2022.10.31 tqdm-4.64.1 zipp-3.6.0\n"
     ]
    }
   ],
   "source": [
    "!pip install nltk"
   ]
  },
  {
   "cell_type": "code",
   "execution_count": 69,
   "id": "2de2b270",
   "metadata": {},
   "outputs": [
    {
     "data": {
      "text/plain": [
       "[('pfi1nw',\n",
       "  '    ampx200b  ampx200b  thursday 8pm utc prometheus will launch the nft titans will be combined to the most infamous people in the world the first one who will be zeus in the battle against others is elon musk  otherwise called elon zuskus  ampx200b  lets see what he brings to the battlefield  ampx200b  ampx200b   httpstmeprometheusbschttpstmeprometheusbsc  ampx200b  ampx200b  ampx200b  ampx200b  ampx200b        ampx200b   never been done before crosschain nft project with cake rewards   nft giveaways to the community custom and existing   nft game with custom prometheus nfts in development   real tech development spxcharts and crosschain technology   devs and marketing of previousexisting huge projects  doxxed devs  ampx200b  the community has a voice in bascially ever move the team makes  ampx200b  ampx200b  ampx200b        ampx200b             amp     amp          ampx200b  ampx200b  ampx200b        ampx200b             big funds available prior to launch  ampx200b  ampx200b  ampx200b    technology    ampx200b       on twitter            custom nft game in development   crosschain technology development starting soon  ampx200b  ampx200b  ampx200b          ampx200b                               be        ampx200b  ampx200b  ampx200b             ampx200b  ampx200b  ampx200b        ampx200b                ampx200b     httpsprometheusbsccomhttpsprometheusbsccom    httpstwittercomprometheusbschttpstwittercomprometheusbsc    httpstmeprometheusbschttpstmeprometheusbsc    facebookcomgroupsprometheushttpsfacebookcomgroupsprometheus    httpswwwinstagramcomprometheusbschttpswwwinstagramcomprometheusbsc    redditcomrprometheushttpsredditcomrprometheus  ampx200b  ampx200b  ampx200b      '),\n",
       " ('pfhztt',\n",
       "  '1 what is getadahere  we are a meme token that rewards all holders with ada marketing has already begun  ampx200b  2 will this goto luna   we have max wallets to equal to only 2 and max transaction is 1 permanently this is to prevent whales  ampx200b  3 what are the rewards     the rewards are 8 cardano rewards they are redistributed to holders every 30 minutes automatically  ampx200b  4 what are getadaheres stats   total supply  1000000000 175000000 burnt post launch  starting liquidity  2 bnb and 950 million tokens  960 marketcap  tax  buysell tax is 14    rewards  8  marketing 2  liquidity 4  ampx200b  5 wen dox   the developers have no problem with doxxing if the project is succesful we have been in voice chat and spoken to anybody with concerns   ampx200b  6 giveaways   we have allocated 5 of the supply to be strictly for giveaways or promotions any shiller or loyal investor will be rewarded as per our twitter   ampx200b  panic sellers get out of here hodlers get ada here  ampx200b  links  telegram httpstmegetadaherehttpstmegetadahere  contract 0x30982366e66929c4fb6659646dec3d9b6c267670  chart  httpschartsboggedfinance0x30982366e66929c4fb6659646dec3d9b6c267670httpschartsboggedfinance0x30982366e66929c4fb6659646dec3d9b6c267670  twitter httpstwittercomgetadaherebschttpstwittercomgetadaherebsc  website  httpsgetadaherecomhttpsgetadaherecom'),\n",
       " ('pfhztr',\n",
       "  'privacy is at odds and world governments are trying to tread on our crypto deezcash is launching a zcash rewards token to spread the word on privacycentric crypto   what is zcash   zcash was launched by one of the most respected technical teams in the world zcash is the https of blockchains protecting your freedom to save and spend as you like   sir we see you paid mr deez who is this person   deezcash is paying out 12 zcash rewards  heres a breakdown of the tokenomics  12 zcash rewards      4 lp      4 marketing   100b supply    2 max tx and max wallet    tokenonomics total supply 100000000000000 max wallet 2000000000000 max buysell 2000000000000  12 zcash zcash rewards 4 liquidity pool 4 marketing  features  liquidity locked  sell cooldown to prevent pump amp dumps volumebased rewards system  initial marketing plans  trending cms coin listings with trending votes on coinsniper coinhunters coinscope coinlisting and coinfair  bsc telegram group pins twitter influencers  no team tokens 100 to liquidity pool  deezcash taxes every sell and redistributes the tax to holders and the liquidity pool  contract   0xabfa5fbba49eb305229ca4719cf0a09d3a23dfeb  telegram   httpstmedeezcash  website   httpswwwdeezcashcom  dev is in the telegram open to answer any questions  dont be late'),\n",
       " ('pfhvc5',\n",
       "  'val car rental valrentalcomhttpsvalrentalcom is a car rental familyowned company in cancun and puerto vallarta recently launched our very own token called valrentalclub val on the binance smart chain bep20 with the plan of making it the backend of our rewards system  how will it work  by launching val we are giving real value to our rewards system val car rental will be adding to the liquidity 1 of its earnings this will represent a constant increase in the tokens value  what other advantage do i have by holding val  valrentalclub is a lottery token 9 of all purchases go into our lottery wallet for a prize of drums    2way flights for 2 to cancun   6 nights at a 5 star allinclusive hotel in the riviera maya   car rental for 7 days   2 day passes to xcaretcenotes   spending money  when will val car rental start adding to liquidity  val car rental will be adding to the liquidity as soon as the rewards system starts working or as soon as the valrentalclub liquidity wallet starts entering the lottery giving our clients the chance to win the trip to the riviera maya  what are the tokenomics for val   1000000000 total supply   9 lottery   3 marketing   3 is lp lockedhttpsdxsaleappappv29dxlockviewid1ampadd0x56d0ce3d1c32d4be796f9f494ab61a6741aa321famptypelplockampchainbsc   2 to holders   15 development   15 vr investments  why that tax distribution  9 lottery tax consider a purchase of the token as a lottery ticket the difference is that as long as you have it in your possession you will enter all lotteries and when you want to sell it you can still get money back not like every other lottery ticket that only works once  3 marketing tax everyone knows that every company needs marketing and so do tokens especially with all those fake tokens out there we need people to know that theres a real and legit token in the market  3 liquidity pool tax the more money goes into our liquidity pool the more our ground level price increases ensuring holders will be benefited  2 reflection tax we really wanted to benefit all our holders not only by entering all lotteries but giving back to them  15 development tax we are working very hard to get this project rolling this includes the creation of our rewards system telegram and chat supports servers upgrades and much more which means hundreds of manhours  15 val rental investment tax being a real company we have created our token not only to benefit our customers and investors but to grow we will be using this tax to expand the more we expandgrow the more money will go back into our token  is there an antiwhale program  yes there is we want to prevent big dumps in our token and thats why we implemented the following anti whale program   anti whale only 10000000 val tokens considered for the lotteries per wallet and no reflection for whale wallets with over 15  what this means is that if they have a wallet with over 10000000 val tokens only 10000000 of those tokens will be considered for the lottery and if they have over 15000000 val tokens they will not receive reflection tokens  join our community   httpstmevaltokenhttpstmevaltoken    httpstwittercomvaltokenhttpstwittercomvaltoken    valrentalclubhttpsvalrentalclub    valrentalcomhttpsvalrentalcom'),\n",
       " ('pfhu3f',\n",
       "  'hi everyone i wanted to introduce you to mrshillz fullblown one stop marketing agency already working with utility   the devv is doxxed and on video calls in the main telegram channel videos of him doxxing himself also fully transparant  so i see you wonder  what is mr shillz   we are a fullblown onestopshop for crypto marketing for both existing and launching projects we have the utmost priority of connecting secure legit influencers with prevetted projects so at the end of the day both parties can feel secure at what they do   we are not a project that promises utility x months from now our utility has been live working and making revenue for months now having great contracts with various influencers across all platforms to be able to provide our clients safe and their moneys worth of marketing   also our native token will be highly represented in all transactions and provides a constant boost to the chart and buy pressure   on top of that we are hosting a private kyc service for projects that either want added trust or are slightly hesitant of public doxxing   mrshillz is providing job opportunities look at the information below  as an very added specialty our project allows us to have plenty of work opportunity for those who want to change the course of their fortune by doing work rather than relying on luck   tokenomics   buy  2 liquidity 2 burn 2 redistributed to the holders 2 developer wallet   sell  4 liquidity 4burn 4 redistributed to holders  4 dev wallet   socials    whitepaper  httpswwwmrshillznetwhitepaper  website  httpmrshillznet  telegram mainchat  httpstmemrshillzofficial  discord channel httpsdiscordgg4x6smqkfkz  twitter  httpstwittercommrshillzs09  shillarmy whitelists vetted projects httpstmejoinchato5x6yzvdx8niytm0  instagram  httpsinstagramcommrshillzutmmediumcopylink')]"
      ]
     },
     "execution_count": 69,
     "metadata": {},
     "output_type": "execute_result"
    }
   ],
   "source": [
    "import string\n",
    "\n",
    "import nltk\n",
    "from nltk.stem import SnowballStemmer\n",
    "\n",
    "translator = str.maketrans('', '', string.punctuation)\n",
    "\n",
    "def filter_txt(s):\n",
    "    translator = str.maketrans('','',string.punctuation)\n",
    "    decode_s = s.encode('ascii','ignore').decode('ascii').replace('\\n',' ').translate(translator).lower()\n",
    "    word_list = decode_s.split(' ')\n",
    "    sn = SnowballStemmer('english')\n",
    "    for w in word_list:\n",
    "        if (w.isalpha()) or ('http' not in w):\n",
    "            stem_w = sn.stem(w)\n",
    "            if stem_w not in res:\n",
    "                res[stem_w] = 1\n",
    "            else:\n",
    "                res[stem_w] += 1\n",
    "    return list\n",
    "\n",
    "\n",
    "printable = set(string.printable)\n",
    "tokenized_data = df_clean.select('id','selftext').rdd.map(lambda p: \n",
    "                                                          (p[0], \n",
    "                                                           p[1].encode('ascii','ignore').decode('ascii').replace('\\n', ' ').translate(translator).lower()))\n",
    "\n",
    "tokenized_data.take(5)"
   ]
  },
  {
   "cell_type": "code",
   "execution_count": 70,
   "id": "12db7946",
   "metadata": {},
   "outputs": [
    {
     "ename": "NameError",
     "evalue": "name 'res' is not defined",
     "output_type": "error",
     "traceback": [
      "\u001b[0;31m---------------------------------------------------------------------------\u001b[0m",
      "\u001b[0;31mNameError\u001b[0m                                 Traceback (most recent call last)",
      "\u001b[0;32m<ipython-input-70-97c738c50ae2>\u001b[0m in \u001b[0;36m<module>\u001b[0;34m\u001b[0m\n\u001b[1;32m      1\u001b[0m \u001b[0me\u001b[0m \u001b[0;34m=\u001b[0m \u001b[0;34m\"val car rental valrentalcomhttpsvalrentalcom is a car rental familyowned company in cancun and puerto vallarta recently launched our very own token called valrentalclub val on the binance smart chain bep20 with the plan of making it the backend of our rewards system  how will it work  by launching val we are giving real value to our rewards system val car rental will be adding to the liquidity 1 of its earnings this will represent a constant increase in the tokens value  what other advantage do i have by holding val  valrentalclub is a lottery token 9 of all purchases go into our lottery wallet for a prize of drums    2way flights for 2 to cancun   6 nights at a 5 star allinclusive hotel in the riviera maya   car rental for 7 days   2 day passes to xcaretcenotes   spending money  when will val car rental start adding to liquidity  val car rental will be adding to the liquidity as soon as the rewards system starts working or as soon as the valrentalclub liquidity wallet starts entering the lottery giving our clients the chance to win the trip to the riviera maya  what are the tokenomics for val   1000000000 total supply   9 lottery   3 marketing   3 is lp lockedhttpsdxsaleappappv29dxlockviewid1ampadd0x56d0ce3d1c32d4be796f9f494ab61a6741aa321famptypelplockampchainbsc   2 to holders   15 development   15 vr investments  why that tax distribution  9 lottery tax consider a purchase of the token as a lottery ticket the difference is that as long as you have it in your possession you will enter all lotteries and when you want to sell it you can still get money back not like every other lottery ticket that only works once  3 marketing tax everyone knows that every company needs marketing and so do tokens especially with all those fake tokens out there we need people to know that theres a real and legit token in the market  3 liquidity pool tax the more money goes into our liquidity pool the more our ground level price increases ensuring holders will be benefited  2 reflection tax we really wanted to benefit all our holders not only by entering all lotteries but giving back to them  15 development tax we are working very hard to get this project rolling this includes the creation of our rewards system telegram and chat supports servers upgrades and much more which means hundreds of manhours  15 val rental investment tax being a real company we have created our token not only to benefit our customers and investors but to grow we will be using this tax to expand the more we expandgrow the more money will go back into our token  is there an antiwhale program  yes there is we want to prevent big dumps in our token and thats why we implemented the following anti whale program   anti whale only 10000000 val tokens considered for the lotteries per wallet and no reflection for whale wallets with over 15  what this means is that if they have a wallet with over 10000000 val tokens only 10000000 of those tokens will be considered for the lottery and if they have over 15000000 val tokens they will not receive reflection tokens  join our community   httpstmevaltokenhttpstmevaltoken    httpstwittercomvaltokenhttpstwittercomvaltoken    valrentalclubhttpsvalrentalclub    valrentalcomhttpsvalrentalcom\"\u001b[0m\u001b[0;34m\u001b[0m\u001b[0;34m\u001b[0m\u001b[0m\n\u001b[0;32m----> 2\u001b[0;31m \u001b[0mfilter_txt\u001b[0m\u001b[0;34m(\u001b[0m\u001b[0me\u001b[0m\u001b[0;34m)\u001b[0m\u001b[0;34m\u001b[0m\u001b[0;34m\u001b[0m\u001b[0m\n\u001b[0m",
      "\u001b[0;32m<ipython-input-69-6072327019db>\u001b[0m in \u001b[0;36mfilter_txt\u001b[0;34m(s)\u001b[0m\n\u001b[1;32m     14\u001b[0m         \u001b[0;32mif\u001b[0m \u001b[0;34m(\u001b[0m\u001b[0mw\u001b[0m\u001b[0;34m.\u001b[0m\u001b[0misalpha\u001b[0m\u001b[0;34m(\u001b[0m\u001b[0;34m)\u001b[0m\u001b[0;34m)\u001b[0m \u001b[0;32mor\u001b[0m \u001b[0;34m(\u001b[0m\u001b[0;34m'http'\u001b[0m \u001b[0;32mnot\u001b[0m \u001b[0;32min\u001b[0m \u001b[0mw\u001b[0m\u001b[0;34m)\u001b[0m\u001b[0;34m:\u001b[0m\u001b[0;34m\u001b[0m\u001b[0;34m\u001b[0m\u001b[0m\n\u001b[1;32m     15\u001b[0m             \u001b[0mstem_w\u001b[0m \u001b[0;34m=\u001b[0m \u001b[0msn\u001b[0m\u001b[0;34m.\u001b[0m\u001b[0mstem\u001b[0m\u001b[0;34m(\u001b[0m\u001b[0mw\u001b[0m\u001b[0;34m)\u001b[0m\u001b[0;34m\u001b[0m\u001b[0;34m\u001b[0m\u001b[0m\n\u001b[0;32m---> 16\u001b[0;31m             \u001b[0;32mif\u001b[0m \u001b[0mstem_w\u001b[0m \u001b[0;32mnot\u001b[0m \u001b[0;32min\u001b[0m \u001b[0mres\u001b[0m\u001b[0;34m:\u001b[0m\u001b[0;34m\u001b[0m\u001b[0;34m\u001b[0m\u001b[0m\n\u001b[0m\u001b[1;32m     17\u001b[0m                 \u001b[0mres\u001b[0m\u001b[0;34m[\u001b[0m\u001b[0mstem_w\u001b[0m\u001b[0;34m]\u001b[0m \u001b[0;34m=\u001b[0m \u001b[0;36m1\u001b[0m\u001b[0;34m\u001b[0m\u001b[0;34m\u001b[0m\u001b[0m\n\u001b[1;32m     18\u001b[0m             \u001b[0;32melse\u001b[0m\u001b[0;34m:\u001b[0m\u001b[0;34m\u001b[0m\u001b[0;34m\u001b[0m\u001b[0m\n",
      "\u001b[0;31mNameError\u001b[0m: name 'res' is not defined"
     ]
    }
   ],
   "source": [
    "e = \"val car rental valrentalcomhttpsvalrentalcom is a car rental familyowned company in cancun and puerto vallarta recently launched our very own token called valrentalclub val on the binance smart chain bep20 with the plan of making it the backend of our rewards system  how will it work  by launching val we are giving real value to our rewards system val car rental will be adding to the liquidity 1 of its earnings this will represent a constant increase in the tokens value  what other advantage do i have by holding val  valrentalclub is a lottery token 9 of all purchases go into our lottery wallet for a prize of drums    2way flights for 2 to cancun   6 nights at a 5 star allinclusive hotel in the riviera maya   car rental for 7 days   2 day passes to xcaretcenotes   spending money  when will val car rental start adding to liquidity  val car rental will be adding to the liquidity as soon as the rewards system starts working or as soon as the valrentalclub liquidity wallet starts entering the lottery giving our clients the chance to win the trip to the riviera maya  what are the tokenomics for val   1000000000 total supply   9 lottery   3 marketing   3 is lp lockedhttpsdxsaleappappv29dxlockviewid1ampadd0x56d0ce3d1c32d4be796f9f494ab61a6741aa321famptypelplockampchainbsc   2 to holders   15 development   15 vr investments  why that tax distribution  9 lottery tax consider a purchase of the token as a lottery ticket the difference is that as long as you have it in your possession you will enter all lotteries and when you want to sell it you can still get money back not like every other lottery ticket that only works once  3 marketing tax everyone knows that every company needs marketing and so do tokens especially with all those fake tokens out there we need people to know that theres a real and legit token in the market  3 liquidity pool tax the more money goes into our liquidity pool the more our ground level price increases ensuring holders will be benefited  2 reflection tax we really wanted to benefit all our holders not only by entering all lotteries but giving back to them  15 development tax we are working very hard to get this project rolling this includes the creation of our rewards system telegram and chat supports servers upgrades and much more which means hundreds of manhours  15 val rental investment tax being a real company we have created our token not only to benefit our customers and investors but to grow we will be using this tax to expand the more we expandgrow the more money will go back into our token  is there an antiwhale program  yes there is we want to prevent big dumps in our token and thats why we implemented the following anti whale program   anti whale only 10000000 val tokens considered for the lotteries per wallet and no reflection for whale wallets with over 15  what this means is that if they have a wallet with over 10000000 val tokens only 10000000 of those tokens will be considered for the lottery and if they have over 15000000 val tokens they will not receive reflection tokens  join our community   httpstmevaltokenhttpstmevaltoken    httpstwittercomvaltokenhttpstwittercomvaltoken    valrentalclubhttpsvalrentalclub    valrentalcomhttpsvalrentalcom\"\n",
    "filter_txt(e)"
   ]
  },
  {
   "cell_type": "code",
   "execution_count": 71,
   "id": "8970339b",
   "metadata": {},
   "outputs": [],
   "source": [
    "all_words = tokenized_data.flatMap(lambda p: p[1].split(' ')) \\\n",
    "                        .map(lambda w: (w, 1)) \\\n",
    "                        .reduceByKey(lambda x, y: x + y) \\\n",
    "                        .map(lambda p: p[0]).collect()\n",
    "all_words = sorted(all_words)"
   ]
  },
  {
   "cell_type": "code",
   "execution_count": 72,
   "id": "5e7ebe5b",
   "metadata": {},
   "outputs": [
    {
     "data": {
      "text/plain": [
       "['',\n",
       " '\\t',\n",
       " '\\t\\t',\n",
       " '\\t\\t\\t\\t\\t',\n",
       " '\\t\\t\\t\\t\\t\\t',\n",
       " '\\t\\t10000',\n",
       " '\\t\\t100m',\n",
       " '\\t\\t1m',\n",
       " '\\t\\t25000',\n",
       " '\\t\\t50000',\n",
       " '\\t\\tapplication',\n",
       " '\\t\\tastromouse',\n",
       " '\\t\\tbeta',\n",
       " '\\t\\tcex',\n",
       " '\\t\\tcheese',\n",
       " '\\t\\tcoding',\n",
       " '\\t\\tcontract',\n",
       " '\\t\\tcrosschain',\n",
       " '\\t\\tdesign',\n",
       " '\\t\\tdeveloper',\n",
       " '\\t\\tdex',\n",
       " '\\t\\tfarming',\n",
       " '\\t\\tfurther',\n",
       " '\\t\\tgrant',\n",
       " '\\t\\thuge',\n",
       " '\\t\\tinfluencer',\n",
       " '\\t\\tinitial',\n",
       " '\\t\\tlaunch',\n",
       " '\\t\\tlaunching',\n",
       " '\\t\\tmarketing',\n",
       " '\\t\\tmarketplace',\n",
       " '\\t\\tnft',\n",
       " '\\t\\tpaid',\n",
       " '\\t\\tpayment',\n",
       " '\\t\\tplanning',\n",
       " '\\t\\tpublic',\n",
       " '\\t\\tsoft',\n",
       " '\\t\\tsubmission',\n",
       " '\\t\\ttopsecret',\n",
       " '\\t\\twebsite',\n",
       " '\\t\\tweekly',\n",
       " '\\t\\twill',\n",
       " '\\t\\twoof',\n",
       " '\\t\\twoofkwoof',\n",
       " '\\t1',\n",
       " '\\t10',\n",
       " '\\t100',\n",
       " '\\t10000',\n",
       " '\\t15',\n",
       " '\\t15k',\n",
       " '\\t17',\n",
       " '\\t2',\n",
       " '\\t20',\n",
       " '\\t3',\n",
       " '\\t320',\n",
       " '\\t4',\n",
       " '\\t40',\n",
       " '\\t45',\n",
       " '\\t5',\n",
       " '\\t5655',\n",
       " '\\t6',\n",
       " '\\t65',\n",
       " '\\t7',\n",
       " '\\t8',\n",
       " '\\t9',\n",
       " '\\tamonggoat',\n",
       " '\\tannoucement',\n",
       " '\\tanother',\n",
       " '\\tapple',\n",
       " '\\tapply',\n",
       " '\\taustraliahttpswwwatogovaugeneralgentaxtreatmentofcryptocurrenciesinaustraliaspecificallybitcoinpage2',\n",
       " '\\tbabysgo',\n",
       " '\\tbabysportemongo',\n",
       " '\\tbe',\n",
       " '\\tburned',\n",
       " '\\tcanadahttpswwwcanadacaenrevenueagencyprogramsaboutcanadarevenueagencycracompliancedigitalcurrencycryptocurrencyguidehtml',\n",
       " '\\tcap',\n",
       " '\\tcash',\n",
       " '\\tchange',\n",
       " '\\tcms',\n",
       " '\\tcoinhunters',\n",
       " '\\tcoinmooner',\n",
       " '\\tcoinsniper',\n",
       " '\\tcoinvote',\n",
       " '\\tcomments',\n",
       " '\\tdid',\n",
       " '\\tdo',\n",
       " '\\tdownvotes',\n",
       " '\\tdue',\n",
       " '\\tfinally',\n",
       " '\\tfind',\n",
       " '\\tfirstofitskind',\n",
       " '\\tflacon',\n",
       " '\\tfuture',\n",
       " '\\tholding',\n",
       " '\\thttpkpitrackerio',\n",
       " '\\thttpsalternativemecryptodailyhashf1cd761e6ac5df0db18bd629d8d64b6d3a440bd9',\n",
       " '\\thttpsgithubcombitcoinbipsblobmasterbip0039englishtxthttpsgithubcombitcoinbipsblobmasterbip0039englishtxt',\n",
       " '\\thttpsthecoinperspectivecomcomparecardanofxusdampampampvsbitcoin',\n",
       " '\\thttpswwwblockchaincenternetaltcoinseasonindex',\n",
       " '\\thttpswwwcoinfairvaluecom',\n",
       " '\\tif',\n",
       " '\\tinfluencer',\n",
       " '\\tinitial',\n",
       " '\\tinvestment',\n",
       " '\\tits',\n",
       " '\\tlack',\n",
       " '\\tlearn',\n",
       " '\\tliquidity',\n",
       " '\\tmany',\n",
       " '\\tmax',\n",
       " '\\tonly',\n",
       " '\\tothers',\n",
       " '\\tpalladin',\n",
       " '\\tpcs',\n",
       " '\\tphrase',\n",
       " '\\tpositive\\t',\n",
       " '\\tpositive\\t\\tdedicated',\n",
       " '\\tpositive\\tdedicated',\n",
       " '\\tposts',\n",
       " '\\tpractice',\n",
       " '\\tpreparing',\n",
       " '\\tpresale',\n",
       " '\\tprivate',\n",
       " '\\treal',\n",
       " '\\tsocially',\n",
       " '\\tspend',\n",
       " '\\tswass',\n",
       " '\\ttethermoon',\n",
       " '\\tthe',\n",
       " '\\tubereats',\n",
       " '\\tunited',\n",
       " '\\tuniting',\n",
       " '\\tvoting',\n",
       " '\\twallet',\n",
       " '\\twatcherguru',\n",
       " '\\twelcum',\n",
       " '\\tworldwide',\n",
       " '\\tyou',\n",
       " '0',\n",
       " '00',\n",
       " '000',\n",
       " '0000',\n",
       " '000000',\n",
       " '0000000',\n",
       " '00000000',\n",
       " '000000000',\n",
       " '000000000000',\n",
       " '000000000000000000000000000000000000000000000000000000000000000000000000000000000000000000000000000000000001',\n",
       " '000000000000000000total',\n",
       " '000000000000000002',\n",
       " '00000000000000001',\n",
       " '000000000000000032452',\n",
       " '00000000000000027e7ba6fe7bad39faf3b5a83daed765f05f7d1b71a1632249',\n",
       " '000000000000001',\n",
       " '0000000000001',\n",
       " '00000000000067',\n",
       " '000000000001',\n",
       " '00000000000111',\n",
       " '00000000000183',\n",
       " '000000000003',\n",
       " '00000000000301934',\n",
       " '000000000005',\n",
       " '0000000000084',\n",
       " '00000000001',\n",
       " '0000000000281',\n",
       " '0000000000291',\n",
       " '000000000049',\n",
       " '0000000001',\n",
       " '00000000011',\n",
       " '00000000018',\n",
       " '00000000019',\n",
       " '0000000001btc',\n",
       " '00000000020',\n",
       " '00000000025',\n",
       " '0000000002502',\n",
       " '00000000033bnb',\n",
       " '00000000035',\n",
       " '0000000004bnb',\n",
       " '000000000644',\n",
       " '000000000801912',\n",
       " '000000001',\n",
       " '00000000101',\n",
       " '0000000015',\n",
       " '0000000015usd',\n",
       " '00000000228058',\n",
       " '00000000255',\n",
       " '0000000027024',\n",
       " '00000000588',\n",
       " '00000001',\n",
       " '00000001111',\n",
       " '00000001300',\n",
       " '00000002',\n",
       " '000000095',\n",
       " '0000001',\n",
       " '00000011',\n",
       " '00000011110',\n",
       " '000000125',\n",
       " '000000145',\n",
       " '0000001eth',\n",
       " '0000002',\n",
       " '000000203',\n",
       " '000000220',\n",
       " '0000002304',\n",
       " '00000023564',\n",
       " '00000025',\n",
       " '000000250',\n",
       " '0000002560',\n",
       " '0000002642',\n",
       " '00000027',\n",
       " '0000003',\n",
       " '0000003017',\n",
       " '00000031',\n",
       " '0000004',\n",
       " '00000047619',\n",
       " '0000005',\n",
       " '000000532',\n",
       " '000000617',\n",
       " '0000007',\n",
       " '000000721',\n",
       " '0000008',\n",
       " '0000008006',\n",
       " '000000819',\n",
       " '0000008302',\n",
       " '000000x',\n",
       " '000001',\n",
       " '0000010006',\n",
       " '00000111100',\n",
       " '0000012',\n",
       " '00000128851',\n",
       " '000001456',\n",
       " '0000015',\n",
       " '0000016',\n",
       " '0000018',\n",
       " '0000021',\n",
       " '000002118',\n",
       " '00000222',\n",
       " '0000023',\n",
       " '00000234',\n",
       " '0000025',\n",
       " '0000026',\n",
       " '000003',\n",
       " '0000031',\n",
       " '0000036',\n",
       " '000004',\n",
       " '000005',\n",
       " '0000054',\n",
       " '0000057',\n",
       " '0000067',\n",
       " '00000698',\n",
       " '000007',\n",
       " '000007900',\n",
       " '0000082',\n",
       " '000008547',\n",
       " '000009',\n",
       " '00000xxxx',\n",
       " '00001',\n",
       " '00001000100',\n",
       " '0000105',\n",
       " '000011',\n",
       " '00001110011',\n",
       " '000012',\n",
       " '000012000',\n",
       " '00001274',\n",
       " '000015',\n",
       " '000016',\n",
       " '000018265',\n",
       " '00002',\n",
       " '000022',\n",
       " '000022275btc',\n",
       " '000024',\n",
       " '000025',\n",
       " '0000259',\n",
       " '000026',\n",
       " '00003',\n",
       " '000033',\n",
       " '0000336',\n",
       " '0000365689744349',\n",
       " '000039',\n",
       " '00004',\n",
       " '000040000',\n",
       " '0000422',\n",
       " '000045',\n",
       " '00004600375',\n",
       " '0000496',\n",
       " '00004something',\n",
       " '00005',\n",
       " '000053394',\n",
       " '000055000',\n",
       " '000057',\n",
       " '000059509',\n",
       " '00005btc',\n",
       " '00006',\n",
       " '00007',\n",
       " '000070',\n",
       " '000070411',\n",
       " '000071',\n",
       " '00008',\n",
       " '0000855',\n",
       " '0000878',\n",
       " '000092',\n",
       " '000093276',\n",
       " '000094',\n",
       " '000099btc',\n",
       " '0001',\n",
       " '000100',\n",
       " '00010010110',\n",
       " '00010010111',\n",
       " '0001001011111111100100110100111010000001111010100001010100010011000110001101011000001001100110100110111010100000101000101000100101100101000100011111101101011011010101000100101010100110100101100101100110011110100001110011100000001000101000000111001101000010',\n",
       " '00010101110',\n",
       " '00011000101',\n",
       " '0001190476',\n",
       " '000136',\n",
       " '00015',\n",
       " '00016',\n",
       " '00019',\n",
       " '000192',\n",
       " '0001bnb',\n",
       " '0002',\n",
       " '000207',\n",
       " '00021eth',\n",
       " '00022',\n",
       " '000224',\n",
       " '000238254btc',\n",
       " '00023eth',\n",
       " '000245xxx',\n",
       " '00025',\n",
       " '00026',\n",
       " '00028',\n",
       " '0002802',\n",
       " '0002808',\n",
       " '00028usd',\n",
       " '0002979',\n",
       " '0003',\n",
       " '0003157',\n",
       " '000333',\n",
       " '0003393',\n",
       " '00035',\n",
       " '0003510',\n",
       " '0003524',\n",
       " '00037',\n",
       " '0003745',\n",
       " '00037btc',\n",
       " '000381',\n",
       " '0004',\n",
       " '00042',\n",
       " '00044',\n",
       " '0004513',\n",
       " '000476',\n",
       " '0004am',\n",
       " '0005',\n",
       " '0005075',\n",
       " '00053',\n",
       " '000538036',\n",
       " '00054',\n",
       " '0005445',\n",
       " '00055373',\n",
       " '0005649',\n",
       " '00057',\n",
       " '0005btc',\n",
       " '0006',\n",
       " '00065',\n",
       " '00069eth',\n",
       " '0007',\n",
       " '00075',\n",
       " '00077',\n",
       " '00079',\n",
       " '0008',\n",
       " '00086',\n",
       " '0008833',\n",
       " '0009',\n",
       " '000btc',\n",
       " '000httpsyoutubewdncohlftsm',\n",
       " '000mc',\n",
       " '000us',\n",
       " '000usd',\n",
       " '001',\n",
       " '0010',\n",
       " '00101',\n",
       " '00101000101',\n",
       " '00101100100',\n",
       " '0010134335',\n",
       " '001019056',\n",
       " '00102',\n",
       " '00108',\n",
       " '0011',\n",
       " '00110111011',\n",
       " '00111100000',\n",
       " '00111111110',\n",
       " '00119',\n",
       " '0012',\n",
       " '00125',\n",
       " '00125busd',\n",
       " '00127',\n",
       " '0012737',\n",
       " '00128',\n",
       " '0013',\n",
       " '00133',\n",
       " '0013859',\n",
       " '0013usd',\n",
       " '0014',\n",
       " '00141',\n",
       " '00144',\n",
       " '00145',\n",
       " '0015',\n",
       " '001528',\n",
       " '00153',\n",
       " '0015376',\n",
       " '00157',\n",
       " '00165',\n",
       " '0017',\n",
       " '0017325',\n",
       " '001735',\n",
       " '0017httpsftmscancomchartgasprice',\n",
       " '0018',\n",
       " '001808',\n",
       " '001882',\n",
       " '0019',\n",
       " '00195',\n",
       " '00198',\n",
       " '0019999',\n",
       " '001bnb',\n",
       " '001brick',\n",
       " '001but',\n",
       " '001dollar',\n",
       " '002',\n",
       " '0020',\n",
       " '002214684',\n",
       " '00222',\n",
       " '0023',\n",
       " '002385',\n",
       " '0024',\n",
       " '0024573487',\n",
       " '0025',\n",
       " '0025775',\n",
       " '002583btc',\n",
       " '0025c',\n",
       " '00267',\n",
       " '00269',\n",
       " '002766113',\n",
       " '00277',\n",
       " '00281061',\n",
       " '0029',\n",
       " '0029\\t112',\n",
       " '002bnb',\n",
       " '002btc',\n",
       " '002c',\n",
       " '002eth',\n",
       " '003',\n",
       " '0030',\n",
       " '00300606',\n",
       " '003016',\n",
       " '003078254',\n",
       " '00311',\n",
       " '00318798',\n",
       " '0032',\n",
       " '00328',\n",
       " '003499btc',\n",
       " '00353',\n",
       " '0035bnb',\n",
       " '0036',\n",
       " '0037',\n",
       " '00377',\n",
       " '0038',\n",
       " '00381',\n",
       " '0039',\n",
       " '003982',\n",
       " '003pkt',\n",
       " '003token',\n",
       " '004',\n",
       " '0040usd',\n",
       " '0043',\n",
       " '0048',\n",
       " '004882812',\n",
       " '0049a',\n",
       " '004btc',\n",
       " '004c',\n",
       " '004minute',\n",
       " '005',\n",
       " '005007',\n",
       " '00501',\n",
       " '005025',\n",
       " '00503',\n",
       " '0052',\n",
       " '00524',\n",
       " '0054',\n",
       " '0055',\n",
       " '0057',\n",
       " '00584',\n",
       " '005bnb',\n",
       " '005btc',\n",
       " '005eth',\n",
       " '006',\n",
       " '0060',\n",
       " '0061',\n",
       " '00625',\n",
       " '0065',\n",
       " '0065931',\n",
       " '0066',\n",
       " '00660',\n",
       " '006639925',\n",
       " '0067',\n",
       " '0067312',\n",
       " '0068',\n",
       " '006btc',\n",
       " '007',\n",
       " '00736',\n",
       " '0075',\n",
       " '0075bnb2',\n",
       " '00769231',\n",
       " '0078125',\n",
       " '0078brickhttpsinfohoneyswaporgpair0x7feb0ddd7bdc11589f6919a51ac5536bcfd854bf',\n",
       " '007bnb',\n",
       " '008',\n",
       " '00800924664262378006539286807',\n",
       " '008231',\n",
       " '008555btc',\n",
       " '00890btc',\n",
       " '008993',\n",
       " '009',\n",
       " '0092830',\n",
       " '0092964183',\n",
       " '009537btc',\n",
       " '0096',\n",
       " '0096106',\n",
       " '009611',\n",
       " '0096539286807',\n",
       " '009745245',\n",
       " '009765625',\n",
       " '0098',\n",
       " '00987',\n",
       " '009936',\n",
       " '009936btc',\n",
       " '00s',\n",
       " '00x',\n",
       " '01',\n",
       " '010',\n",
       " '0100',\n",
       " '01000',\n",
       " '01001010111',\n",
       " '01001111010',\n",
       " '0100est',\n",
       " '0101',\n",
       " '01010000001',\n",
       " '01010001000',\n",
       " '01011000100',\n",
       " '01012022',\n",
       " '0102bnb',\n",
       " '01031',\n",
       " '01031bnb',\n",
       " '0105',\n",
       " '0105275422',\n",
       " '01052bnb',\n",
       " '01062014',\n",
       " '010821',\n",
       " '01092021',\n",
       " '010921',\n",
       " '01098',\n",
       " '010bnb',\n",
       " '010btc',\n",
       " '011',\n",
       " '0110',\n",
       " '01100011010',\n",
       " '01100111101',\n",
       " '01101101010',\n",
       " '01102021',\n",
       " '0111',\n",
       " '01110000000',\n",
       " '01110101000',\n",
       " '01122020',\n",
       " '0113',\n",
       " '0114309',\n",
       " '01146',\n",
       " '0117',\n",
       " '0119',\n",
       " '011kwh',\n",
       " '012',\n",
       " '01201324778964007488498776524',\n",
       " '01219',\n",
       " '012270w',\n",
       " '0123456789',\n",
       " '01238',\n",
       " '012712',\n",
       " '0128405574644',\n",
       " '01286',\n",
       " '0129',\n",
       " '0129224',\n",
       " '012bnb',\n",
       " '012c',\n",
       " '013',\n",
       " '01301227584987765248405574644',\n",
       " '0135',\n",
       " '01385',\n",
       " '013kwh',\n",
       " '013s',\n",
       " '014',\n",
       " '0141',\n",
       " '0143',\n",
       " '0143121',\n",
       " '0143468',\n",
       " '0144558',\n",
       " '0145785714',\n",
       " '0146',\n",
       " '014kwh',\n",
       " '015',\n",
       " '01502',\n",
       " '015020',\n",
       " '0150669617',\n",
       " '01509',\n",
       " '01516',\n",
       " '015171btc',\n",
       " '01545',\n",
       " '0156',\n",
       " '015625',\n",
       " '01583',\n",
       " '0159',\n",
       " '015947',\n",
       " '0159910457',\n",
       " '015bnb',\n",
       " '015x',\n",
       " '016',\n",
       " '0160',\n",
       " '016017',\n",
       " '0160httpspreviewredditb5c3ynbdgqh71pngwidth764ampformatpngampautowebpamps32704f83d81e01d2fd761102dcf4572cc5016fd9',\n",
       " '01654g',\n",
       " '0167779',\n",
       " '0169',\n",
       " '016revenues',\n",
       " '017',\n",
       " '017048',\n",
       " '0175',\n",
       " '01762',\n",
       " '0179',\n",
       " '017x254',\n",
       " '018',\n",
       " '018200',\n",
       " '0184639564',\n",
       " '0187',\n",
       " '0187984767',\n",
       " '019',\n",
       " '0192777686',\n",
       " '019664937',\n",
       " '0197297653',\n",
       " '0199',\n",
       " '01and',\n",
       " '01august1859',\n",
       " '01bnb',\n",
       " '01bnb2bnb',\n",
       " '01bnbs',\n",
       " '01btc',\n",
       " '01jan15',\n",
       " '01jan16',\n",
       " '01jan17',\n",
       " '01jan18',\n",
       " '01jan19',\n",
       " '01jan20',\n",
       " '01jan21',\n",
       " '01mrex',\n",
       " '02',\n",
       " '020',\n",
       " '0200',\n",
       " '020030',\n",
       " '0201',\n",
       " '02014',\n",
       " '02047',\n",
       " '0206',\n",
       " '02062021',\n",
       " '0207',\n",
       " '02072021',\n",
       " '0208',\n",
       " '02082021',\n",
       " '02092021',\n",
       " '020c',\n",
       " '020usd',\n",
       " '021',\n",
       " '0210024',\n",
       " '02112021',\n",
       " '0212895019',\n",
       " '0214',\n",
       " '0215am',\n",
       " '0216516879',\n",
       " '0219626184',\n",
       " '021bnb',\n",
       " '022',\n",
       " '022238',\n",
       " '0224',\n",
       " '0225',\n",
       " '0225014',\n",
       " '022usd',\n",
       " '023',\n",
       " '0233',\n",
       " '023514',\n",
       " '0237',\n",
       " '0238',\n",
       " '024',\n",
       " '02492',\n",
       " '0249650062',\n",
       " '024xmr',\n",
       " '025',\n",
       " '0250',\n",
       " '02505',\n",
       " '0252',\n",
       " '0254',\n",
       " '0255',\n",
       " '0257',\n",
       " '025917695369198918209808791',\n",
       " '025bnb',\n",
       " '025eth',\n",
       " '025ethaddress',\n",
       " '025usd',\n",
       " '025x',\n",
       " '026',\n",
       " '0260388',\n",
       " '0264',\n",
       " '0267',\n",
       " '026703',\n",
       " '026715',\n",
       " '02678',\n",
       " '0268',\n",
       " '027',\n",
       " '0272023055',\n",
       " '02729',\n",
       " '02747',\n",
       " '0275739',\n",
       " '02766',\n",
       " '02782',\n",
       " '028',\n",
       " '0280329383703295098042584537127',\n",
       " '02807',\n",
       " '02845',\n",
       " '0284508',\n",
       " '0286274',\n",
       " '029',\n",
       " '02900000',\n",
       " '0294149033',\n",
       " '0294752',\n",
       " '0299',\n",
       " '029939349016578',\n",
       " '02bnb',\n",
       " '02h',\n",
       " '02s',\n",
       " '02years',\n",
       " '03',\n",
       " '030',\n",
       " '0300',\n",
       " '0300pm',\n",
       " '03034',\n",
       " '03035',\n",
       " '0304',\n",
       " '03045',\n",
       " '03059\\t8',\n",
       " '0308',\n",
       " '03089',\n",
       " '0309',\n",
       " '03092021',\n",
       " '030921',\n",
       " '031',\n",
       " '03100326',\n",
       " '0310415809',\n",
       " '03116',\n",
       " '03125',\n",
       " '0314',\n",
       " '0314324207',\n",
       " '03182',\n",
       " '032',\n",
       " '03200',\n",
       " '03202910144258453712739349016578',\n",
       " '032113',\n",
       " '032332',\n",
       " '032439',\n",
       " '032520',\n",
       " '032557',\n",
       " '032720',\n",
       " '032722',\n",
       " '03274',\n",
       " '032788',\n",
       " '032866',\n",
       " '033',\n",
       " '0330',\n",
       " '03350',\n",
       " '0337',\n",
       " '033httpscoinmarketcapcomcurrenciesmoon',\n",
       " '034',\n",
       " '03403750182093381628886327751',\n",
       " '0341',\n",
       " '034286',\n",
       " '03438',\n",
       " '0344',\n",
       " '034429',\n",
       " '034459',\n",
       " '034722',\n",
       " '034751',\n",
       " '035',\n",
       " '0352',\n",
       " '035314',\n",
       " '03537',\n",
       " '0354',\n",
       " '03572',\n",
       " '03579',\n",
       " '035bnb',\n",
       " '035btc',\n",
       " '036',\n",
       " '0364617538',\n",
       " '037',\n",
       " '03703809888863277519020084182',\n",
       " '0375',\n",
       " '03751',\n",
       " '0377',\n",
       " '03787',\n",
       " '037wh',\n",
       " '038',\n",
       " '0384',\n",
       " '0389020084182',\n",
       " '039',\n",
       " '03961',\n",
       " '03997',\n",
       " '03b',\n",
       " '03bnb',\n",
       " '03btc',\n",
       " '03jan2009',\n",
       " '03sept2021',\n",
       " '04',\n",
       " '040',\n",
       " '0400',\n",
       " '04012021',\n",
       " '04082021',\n",
       " '040821',\n",
       " '040923734',\n",
       " '040x',\n",
       " '041',\n",
       " '04114',\n",
       " '0412784891',\n",
       " '04162021',\n",
       " '0417',\n",
       " '042',\n",
       " '0420',\n",
       " '04202022',\n",
       " '04202069',\n",
       " '042031',\n",
       " '04209',\n",
       " '0420anon',\n",
       " '0422',\n",
       " '04235',\n",
       " '0424936394',\n",
       " '043',\n",
       " '0430',\n",
       " '04300530',\n",
       " '0430286744',\n",
       " '0430886167',\n",
       " '0435',\n",
       " '044',\n",
       " '044341is',\n",
       " '044c',\n",
       " '044coin',\n",
       " '045',\n",
       " '0454875669',\n",
       " '0455606628',\n",
       " '0459',\n",
       " '046',\n",
       " '046270',\n",
       " '047',\n",
       " '048',\n",
       " '04803',\n",
       " '048041',\n",
       " '0482648003',\n",
       " '0484161383',\n",
       " '049',\n",
       " '0490',\n",
       " '04917',\n",
       " '04934',\n",
       " '0493528407',\n",
       " '0499',\n",
       " '04998',\n",
       " '04bnb',\n",
       " '04november',\n",
       " '04th',\n",
       " '05',\n",
       " '050',\n",
       " '050\\t2000000',\n",
       " '0500',\n",
       " '050075',\n",
       " '0501',\n",
       " '0505',\n",
       " '0508',\n",
       " '05082021',\n",
       " '050821',\n",
       " '0509092021',\n",
       " '05092021',\n",
       " '050921',\n",
       " '050unit',\n",
       " '051',\n",
       " '05100',\n",
       " '0514',\n",
       " '0517156686207763992',\n",
       " '05198',\n",
       " '052',\n",
       " '053',\n",
       " '0530',\n",
       " '053761',\n",
       " '054',\n",
       " '0541',\n",
       " '0545',\n",
       " '05479',\n",
       " '055',\n",
       " '055060',\n",
       " '056',\n",
       " '057',\n",
       " '058',\n",
       " '0588800124',\n",
       " '058month',\n",
       " '059',\n",
       " '05bnb',\n",
       " '05t',\n",
       " '05th',\n",
       " '06',\n",
       " '060',\n",
       " '0600',\n",
       " '0600pm',\n",
       " '06027',\n",
       " '0607',\n",
       " '06082021',\n",
       " '060821',\n",
       " '06089\\t3',\n",
       " '0609',\n",
       " '06092021',\n",
       " '06094',\n",
       " '061',\n",
       " '0614',\n",
       " '0616239',\n",
       " '062',\n",
       " '0625',\n",
       " '06256',\n",
       " '063',\n",
       " '06302021',\n",
       " '0631',\n",
       " '064',\n",
       " '0647',\n",
       " '065',\n",
       " '065c',\n",
       " '066',\n",
       " '067',\n",
       " '067148150',\n",
       " '067btc',\n",
       " '068',\n",
       " '0687',\n",
       " '069',\n",
       " '06bnb',\n",
       " '06coin',\n",
       " '06x',\n",
       " '07',\n",
       " '070',\n",
       " '07012021',\n",
       " '07042021',\n",
       " '07072021',\n",
       " '0708',\n",
       " '07082015httpspreviewredditpzua6gr5kxf71pngwidth750ampformatpngampautowebpamps0ac89ccabd0e47b083e7cf16bb9cbfc08fb086e3',\n",
       " '07082021',\n",
       " '070s',\n",
       " '071',\n",
       " '07162021',\n",
       " '072',\n",
       " '07242021',\n",
       " '073',\n",
       " '0730am',\n",
       " '0731',\n",
       " '0736',\n",
       " '07376',\n",
       " '074',\n",
       " '0745',\n",
       " '075',\n",
       " '0751x',\n",
       " '0759641',\n",
       " '076',\n",
       " '077',\n",
       " '078',\n",
       " '079',\n",
       " '07eth',\n",
       " '07v',\n",
       " '07x',\n",
       " '08',\n",
       " '080',\n",
       " '0800',\n",
       " '0800pmgmt',\n",
       " '0801',\n",
       " '08012021',\n",
       " '0802',\n",
       " '08022021',\n",
       " '0803',\n",
       " '0805',\n",
       " '0806',\n",
       " '080721',\n",
       " '0808',\n",
       " '08082021',\n",
       " '08082021supply',\n",
       " '080821',\n",
       " '0809',\n",
       " '081',\n",
       " '0810',\n",
       " '08102021',\n",
       " '0811',\n",
       " ...]"
      ]
     },
     "execution_count": 72,
     "metadata": {},
     "output_type": "execute_result"
    }
   ],
   "source": [
    "all_words"
   ]
  },
  {
   "cell_type": "code",
   "execution_count": 44,
   "id": "0c2b8ef7",
   "metadata": {},
   "outputs": [],
   "source": [
    "from pyspark.ml.linalg import Vectors\n",
    "\n",
    "df_data = df_posts.rdd.map(lambda x: (Vectors.dense([x[\"score\"]]), 1.0))"
   ]
  },
  {
   "cell_type": "code",
   "execution_count": 45,
   "id": "e1e693ea",
   "metadata": {},
   "outputs": [
    {
     "data": {
      "text/plain": [
       "[(DenseVector([3.0]), 1.0),\n",
       " (DenseVector([1.0]), 1.0),\n",
       " (DenseVector([3.0]), 1.0),\n",
       " (DenseVector([11.0]), 1.0),\n",
       " (DenseVector([1.0]), 1.0),\n",
       " (DenseVector([1.0]), 1.0),\n",
       " (DenseVector([1.0]), 1.0),\n",
       " (DenseVector([1.0]), 1.0),\n",
       " (DenseVector([1.0]), 1.0),\n",
       " (DenseVector([1.0]), 1.0)]"
      ]
     },
     "execution_count": 45,
     "metadata": {},
     "output_type": "execute_result"
    }
   ],
   "source": [
    "df_data.take(10)"
   ]
  },
  {
   "cell_type": "code",
   "execution_count": 46,
   "id": "01c46a09",
   "metadata": {},
   "outputs": [],
   "source": [
    "df_kdata = spark.createDataFrame(df_data, [\"features\", \"weighCol\"])"
   ]
  },
  {
   "cell_type": "code",
   "execution_count": 47,
   "id": "45181b38",
   "metadata": {},
   "outputs": [
    {
     "data": {
      "text/plain": [
       "[Row(features=DenseVector([3.0]), newPrediction=0),\n",
       " Row(features=DenseVector([1.0]), newPrediction=0),\n",
       " Row(features=DenseVector([3.0]), newPrediction=0),\n",
       " Row(features=DenseVector([11.0]), newPrediction=0),\n",
       " Row(features=DenseVector([1.0]), newPrediction=0),\n",
       " Row(features=DenseVector([1.0]), newPrediction=0),\n",
       " Row(features=DenseVector([1.0]), newPrediction=0),\n",
       " Row(features=DenseVector([1.0]), newPrediction=0),\n",
       " Row(features=DenseVector([1.0]), newPrediction=0),\n",
       " Row(features=DenseVector([1.0]), newPrediction=0),\n",
       " Row(features=DenseVector([1.0]), newPrediction=0),\n",
       " Row(features=DenseVector([1.0]), newPrediction=0),\n",
       " Row(features=DenseVector([1.0]), newPrediction=0),\n",
       " Row(features=DenseVector([30.0]), newPrediction=0),\n",
       " Row(features=DenseVector([5.0]), newPrediction=0),\n",
       " Row(features=DenseVector([1.0]), newPrediction=0),\n",
       " Row(features=DenseVector([864.0]), newPrediction=5),\n",
       " Row(features=DenseVector([1.0]), newPrediction=0),\n",
       " Row(features=DenseVector([9.0]), newPrediction=0),\n",
       " Row(features=DenseVector([3.0]), newPrediction=0),\n",
       " Row(features=DenseVector([1.0]), newPrediction=0),\n",
       " Row(features=DenseVector([727.0]), newPrediction=5),\n",
       " Row(features=DenseVector([1.0]), newPrediction=0),\n",
       " Row(features=DenseVector([710.0]), newPrediction=5),\n",
       " Row(features=DenseVector([1.0]), newPrediction=0),\n",
       " Row(features=DenseVector([3026.0]), newPrediction=1),\n",
       " Row(features=DenseVector([10.0]), newPrediction=0),\n",
       " Row(features=DenseVector([835.0]), newPrediction=5),\n",
       " Row(features=DenseVector([1.0]), newPrediction=0),\n",
       " Row(features=DenseVector([0.0]), newPrediction=0),\n",
       " Row(features=DenseVector([1.0]), newPrediction=0),\n",
       " Row(features=DenseVector([1.0]), newPrediction=0),\n",
       " Row(features=DenseVector([1.0]), newPrediction=0),\n",
       " Row(features=DenseVector([1.0]), newPrediction=0),\n",
       " Row(features=DenseVector([1.0]), newPrediction=0),\n",
       " Row(features=DenseVector([1.0]), newPrediction=0),\n",
       " Row(features=DenseVector([1.0]), newPrediction=0),\n",
       " Row(features=DenseVector([1.0]), newPrediction=0),\n",
       " Row(features=DenseVector([1.0]), newPrediction=0),\n",
       " Row(features=DenseVector([1.0]), newPrediction=0),\n",
       " Row(features=DenseVector([1.0]), newPrediction=0),\n",
       " Row(features=DenseVector([1.0]), newPrediction=0),\n",
       " Row(features=DenseVector([1.0]), newPrediction=0),\n",
       " Row(features=DenseVector([1.0]), newPrediction=0),\n",
       " Row(features=DenseVector([2.0]), newPrediction=0),\n",
       " Row(features=DenseVector([1.0]), newPrediction=0),\n",
       " Row(features=DenseVector([1.0]), newPrediction=0),\n",
       " Row(features=DenseVector([2.0]), newPrediction=0),\n",
       " Row(features=DenseVector([7.0]), newPrediction=0),\n",
       " Row(features=DenseVector([1176.0]), newPrediction=5),\n",
       " Row(features=DenseVector([217.0]), newPrediction=0),\n",
       " Row(features=DenseVector([1.0]), newPrediction=0),\n",
       " Row(features=DenseVector([603.0]), newPrediction=5),\n",
       " Row(features=DenseVector([1.0]), newPrediction=0),\n",
       " Row(features=DenseVector([360.0]), newPrediction=0),\n",
       " Row(features=DenseVector([2.0]), newPrediction=0),\n",
       " Row(features=DenseVector([3.0]), newPrediction=0),\n",
       " Row(features=DenseVector([11.0]), newPrediction=0),\n",
       " Row(features=DenseVector([1018.0]), newPrediction=5),\n",
       " Row(features=DenseVector([1.0]), newPrediction=0),\n",
       " Row(features=DenseVector([1.0]), newPrediction=0),\n",
       " Row(features=DenseVector([8.0]), newPrediction=0),\n",
       " Row(features=DenseVector([1.0]), newPrediction=0),\n",
       " Row(features=DenseVector([2.0]), newPrediction=0),\n",
       " Row(features=DenseVector([1.0]), newPrediction=0),\n",
       " Row(features=DenseVector([1.0]), newPrediction=0),\n",
       " Row(features=DenseVector([1.0]), newPrediction=0),\n",
       " Row(features=DenseVector([1000.0]), newPrediction=5),\n",
       " Row(features=DenseVector([2.0]), newPrediction=0),\n",
       " Row(features=DenseVector([1.0]), newPrediction=0),\n",
       " Row(features=DenseVector([1.0]), newPrediction=0),\n",
       " Row(features=DenseVector([1.0]), newPrediction=0),\n",
       " Row(features=DenseVector([6.0]), newPrediction=0),\n",
       " Row(features=DenseVector([6.0]), newPrediction=0),\n",
       " Row(features=DenseVector([28.0]), newPrediction=0),\n",
       " Row(features=DenseVector([1.0]), newPrediction=0),\n",
       " Row(features=DenseVector([1.0]), newPrediction=0),\n",
       " Row(features=DenseVector([3.0]), newPrediction=0),\n",
       " Row(features=DenseVector([1.0]), newPrediction=0),\n",
       " Row(features=DenseVector([1.0]), newPrediction=0),\n",
       " Row(features=DenseVector([1.0]), newPrediction=0),\n",
       " Row(features=DenseVector([1.0]), newPrediction=0),\n",
       " Row(features=DenseVector([1.0]), newPrediction=0),\n",
       " Row(features=DenseVector([4.0]), newPrediction=0),\n",
       " Row(features=DenseVector([7.0]), newPrediction=0),\n",
       " Row(features=DenseVector([975.0]), newPrediction=5),\n",
       " Row(features=DenseVector([1.0]), newPrediction=0),\n",
       " Row(features=DenseVector([1.0]), newPrediction=0),\n",
       " Row(features=DenseVector([5.0]), newPrediction=0),\n",
       " Row(features=DenseVector([1.0]), newPrediction=0),\n",
       " Row(features=DenseVector([1.0]), newPrediction=0),\n",
       " Row(features=DenseVector([3597.0]), newPrediction=1),\n",
       " Row(features=DenseVector([1.0]), newPrediction=0),\n",
       " Row(features=DenseVector([1.0]), newPrediction=0),\n",
       " Row(features=DenseVector([351.0]), newPrediction=0),\n",
       " Row(features=DenseVector([3.0]), newPrediction=0),\n",
       " Row(features=DenseVector([1.0]), newPrediction=0),\n",
       " Row(features=DenseVector([418.0]), newPrediction=0),\n",
       " Row(features=DenseVector([9.0]), newPrediction=0),\n",
       " Row(features=DenseVector([1.0]), newPrediction=0)]"
      ]
     },
     "execution_count": 47,
     "metadata": {},
     "output_type": "execute_result"
    }
   ],
   "source": [
    "from pyspark.ml.clustering import KMeans\n",
    "\n",
    "kmeans = KMeans(k=7)\n",
    "kmeans.setSeed(1)\n",
    "kmeans.setWeightCol(\"weighCol\")\n",
    "kmeans.setMaxIter(50)\n",
    "\n",
    "model = kmeans.fit(df_kdata)\n",
    "model.setPredictionCol(\"newPrediction\")\n",
    "model.predict(df_kdata.head().features)\n",
    "transformed = model.transform(df_kdata).select(\"features\", \"newPrediction\").cache()\n",
    "transformed.take(100)"
   ]
  },
  {
   "cell_type": "code",
   "execution_count": 48,
   "id": "d96b54df",
   "metadata": {},
   "outputs": [
    {
     "data": {
      "text/plain": [
       "[('cryptomoonshots', 3),\n",
       " ('cryptomoonshots', 1),\n",
       " ('cryptomoonshots', 3),\n",
       " ('cryptomoonshots', 11),\n",
       " ('cryptomoonshots', 1),\n",
       " ('cryptomoonshots', 1),\n",
       " ('cryptomoonshots', 1),\n",
       " ('cryptomoonshots', 1),\n",
       " ('cryptomoonshots', 1),\n",
       " ('cryptomoonshots', 1),\n",
       " ('cryptomoonshots', 1),\n",
       " ('cryptomoonshots', 1),\n",
       " ('cryptomoonshots', 1),\n",
       " ('cryptomoonshots', 30),\n",
       " ('cryptomoonshots', 5),\n",
       " ('cryptomoonshots', 1),\n",
       " ('cryptomoonshots', 864),\n",
       " ('cryptomoonshots', 1),\n",
       " ('cryptomoonshots', 9),\n",
       " ('cryptomoonshots', 3),\n",
       " ('cryptomoonshots', 1),\n",
       " ('cryptomoonshots', 727),\n",
       " ('cryptomoonshots', 1),\n",
       " ('cryptomoonshots', 710),\n",
       " ('cryptomoonshots', 1),\n",
       " ('cryptomoonshots', 3026),\n",
       " ('cryptomoonshots', 10),\n",
       " ('cryptomoonshots', 835),\n",
       " ('cryptomoonshots', 1),\n",
       " ('cryptomoonshots', 0),\n",
       " ('cryptomoonshots', 1),\n",
       " ('cryptomoonshots', 1),\n",
       " ('cryptomoonshots', 1),\n",
       " ('cryptomoonshots', 1),\n",
       " ('cryptomoonshots', 1),\n",
       " ('cryptomoonshots', 1),\n",
       " ('cryptomoonshots', 1),\n",
       " ('cryptomoonshots', 1),\n",
       " ('cryptomoonshots', 1),\n",
       " ('cryptomoonshots', 1),\n",
       " ('cryptomoonshots', 1),\n",
       " ('cryptomoonshots', 1),\n",
       " ('cryptomoonshots', 1),\n",
       " ('cryptomoonshots', 1),\n",
       " ('cryptomoonshots', 2),\n",
       " ('cryptomoonshots', 1),\n",
       " ('cryptomoonshots', 1),\n",
       " ('cryptomoonshots', 2),\n",
       " ('cryptomoonshots', 7),\n",
       " ('cryptomoonshots', 1176),\n",
       " ('cryptomoonshots', 217),\n",
       " ('cryptomoonshots', 1),\n",
       " ('cryptomoonshots', 603),\n",
       " ('cryptomoonshots', 1),\n",
       " ('cryptomoonshots', 360),\n",
       " ('cryptomoonshots', 2),\n",
       " ('cryptomoonshots', 3),\n",
       " ('cryptomoonshots', 11),\n",
       " ('cryptomoonshots', 1018),\n",
       " ('cryptomoonshots', 1),\n",
       " ('cryptomoonshots', 1),\n",
       " ('cryptomoonshots', 8),\n",
       " ('cryptomoonshots', 1),\n",
       " ('cryptomoonshots', 2),\n",
       " ('cryptomoonshots', 1),\n",
       " ('cryptomoonshots', 1),\n",
       " ('cryptomoonshots', 1),\n",
       " ('cryptomoonshots', 1000),\n",
       " ('cryptomoonshots', 2),\n",
       " ('cryptomoonshots', 1),\n",
       " ('cryptomoonshots', 1),\n",
       " ('cryptomoonshots', 1),\n",
       " ('cryptomoonshots', 6),\n",
       " ('cryptomoonshots', 6),\n",
       " ('cryptomoonshots', 28),\n",
       " ('cryptomoonshots', 1),\n",
       " ('cryptomoonshots', 1),\n",
       " ('cryptomoonshots', 3),\n",
       " ('cryptomoonshots', 1),\n",
       " ('cryptomoonshots', 1),\n",
       " ('cryptomoonshots', 1),\n",
       " ('cryptomoonshots', 1),\n",
       " ('cryptomoonshots', 1),\n",
       " ('cryptomoonshots', 4),\n",
       " ('cryptomoonshots', 7),\n",
       " ('cryptomoonshots', 975),\n",
       " ('cryptomoonshots', 1),\n",
       " ('cryptomoonshots', 1),\n",
       " ('cryptomoonshots', 5),\n",
       " ('cryptomoonshots', 1),\n",
       " ('cryptomoonshots', 1),\n",
       " ('cryptomoonshots', 3597),\n",
       " ('cryptomoonshots', 1),\n",
       " ('cryptomoonshots', 1),\n",
       " ('cryptomoonshots', 351),\n",
       " ('cryptomoonshots', 3),\n",
       " ('cryptomoonshots', 1),\n",
       " ('cryptomoonshots', 418),\n",
       " ('cryptomoonshots', 9),\n",
       " ('cryptomoonshots', 1)]"
      ]
     },
     "execution_count": 48,
     "metadata": {},
     "output_type": "execute_result"
    }
   ],
   "source": [
    "df_tmp = df_posts.rdd.map(lambda x: (x[\"subreddit.name\"],x[\"score\"]))\n",
    "df_tmp.take(100)"
   ]
  },
  {
   "cell_type": "code",
   "execution_count": 49,
   "id": "27b33b3b",
   "metadata": {},
   "outputs": [],
   "source": [
    "from pyspark.ml.linalg import Vectors\n",
    "\n",
    "df_data = df_posts.rdd.map( lambda x: (Vectors.dense(x['score']),1.0 ) )"
   ]
  },
  {
   "cell_type": "code",
   "execution_count": 50,
   "id": "a47993af",
   "metadata": {},
   "outputs": [
    {
     "data": {
      "text/plain": [
       "[(DenseVector([3.0]), 1.0),\n",
       " (DenseVector([1.0]), 1.0),\n",
       " (DenseVector([3.0]), 1.0),\n",
       " (DenseVector([11.0]), 1.0),\n",
       " (DenseVector([1.0]), 1.0),\n",
       " (DenseVector([1.0]), 1.0),\n",
       " (DenseVector([1.0]), 1.0),\n",
       " (DenseVector([1.0]), 1.0),\n",
       " (DenseVector([1.0]), 1.0),\n",
       " (DenseVector([1.0]), 1.0)]"
      ]
     },
     "execution_count": 50,
     "metadata": {},
     "output_type": "execute_result"
    }
   ],
   "source": [
    "df_data.take(10)"
   ]
  }
 ],
 "metadata": {
  "kernelspec": {
   "display_name": "Python 3",
   "language": "python",
   "name": "python3"
  },
  "language_info": {
   "codemirror_mode": {
    "name": "ipython",
    "version": 3
   },
   "file_extension": ".py",
   "mimetype": "text/x-python",
   "name": "python",
   "nbconvert_exporter": "python",
   "pygments_lexer": "ipython3",
   "version": "3.6.13"
  }
 },
 "nbformat": 4,
 "nbformat_minor": 5
}
