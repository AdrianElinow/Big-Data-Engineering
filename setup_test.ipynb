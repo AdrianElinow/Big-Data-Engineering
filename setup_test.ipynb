{
 "cells": [
  {
   "cell_type": "code",
   "execution_count": 1,
   "id": "df56c54f",
   "metadata": {},
   "outputs": [],
   "source": [
    "import os\n",
    "import sys\n",
    "\n",
    "spark_path = os.environ['SPARK_HOME']\n",
    "sys.path.append(spark_path + \"/bin\")\n",
    "sys.path.append(spark_path + \"/python\")\n",
    "sys.path.append(spark_path + \"/python/pyspark/\")\n",
    "sys.path.append(spark_path + \"/python/lib\")\n",
    "sys.path.append(spark_path + \"/python/lib/pyspark.zip\")\n",
    "sys.path.append(spark_path + \"/python/lib/py4j-0.10.9-src.zip\")\n",
    "\n",
    "import findspark\n",
    "findspark.init()\n",
    "\n",
    "import pyspark\n",
    "\n",
    "number_cores = 4\n",
    "memory_gb = 8\n",
    "\n",
    "conf = (pyspark.SparkConf().setMaster('local[{}]'.format(number_cores)).set('spark.driver.memory', '{}g'.format(memory_gb)))\n",
    "\n",
    "conf\n",
    "\n",
    "sc = pyspark.SparkContext(conf=conf)"
   ]
  },
  {
   "cell_type": "code",
   "execution_count": 65,
   "id": "82110e49",
   "metadata": {},
   "outputs": [],
   "source": [
    "textFile = sc.textFile(\"/Users/adrian/Development/python/CSC-467/shakespeare.txt\")\n",
    "wordcount = textFile.flatMap(lambda line: line.split(\" \")) \\\n",
    "            .map(lambda word: ((word.lower()), 1)) \\\n",
    "            .reduceByKey(lambda a, b: a + b) \\\n",
    "            .filter(lambda k: ( k[0] != '' and k[0] not in '.,:;?!' ) )\n",
    "\n",
    "wordcount.saveAsTextFile(\"output-wordcount_filtered\")"
   ]
  },
  {
   "cell_type": "code",
   "execution_count": 66,
   "id": "1d58ba51",
   "metadata": {},
   "outputs": [
    {
     "data": {
      "text/plain": [
       "[('project', 92),\n",
       " ('gutenberg', 25),\n",
       " ('ebook', 8),\n",
       " ('of', 18645),\n",
       " ('shakespeare', 7),\n",
       " ('this', 6377),\n",
       " ('is', 9234),\n",
       " ('use', 309),\n",
       " ('anyone', 8),\n",
       " ('anywhere', 5)]"
      ]
     },
     "execution_count": 66,
     "metadata": {},
     "output_type": "execute_result"
    }
   ],
   "source": [
    "wordcount.take(10)"
   ]
  },
  {
   "cell_type": "code",
   "execution_count": 70,
   "id": "559e9e3d",
   "metadata": {},
   "outputs": [
    {
     "name": "stdout",
     "output_type": "stream",
     "text": [
      "[('project', 92), ('gutenberg', 25), ('ebook', 8), ('of', 18645), ('shakespeare', 7), ('this', 6377), ('is', 9234), ('use', 309), ('anyone', 8), ('anywhere', 5)]\n",
      "[('author:', 1), ('authorizing', 1), ('authority.', 10), ('authority', 32), ('authorities.', 2), ('authorities', 3), ('author,', 1), ('authoris’d', 1), ('unauthoriz’d', 1), ('authoriz’d', 1), ('authority,', 12), ('author', 14), ('authors', 5), ('authors.', 1), ('authority:', 3), ('authorities,', 1), ('author’s', 2), ('authority!', 1), ('authors,', 1)]\n"
     ]
    }
   ],
   "source": [
    "local_words = wordcount.collect()\n",
    "print(local_words[:10])\n",
    "print( [ e for e in local_words if 'author' in e[0] ] )"
   ]
  },
  {
   "cell_type": "code",
   "execution_count": 68,
   "id": "e877b989",
   "metadata": {},
   "outputs": [
    {
     "data": {
      "text/plain": [
       "2"
      ]
     },
     "execution_count": 68,
     "metadata": {},
     "output_type": "execute_result"
    }
   ],
   "source": [
    "textFile.getNumPartitions()"
   ]
  },
  {
   "cell_type": "code",
   "execution_count": null,
   "id": "65965ad7",
   "metadata": {},
   "outputs": [],
   "source": []
  }
 ],
 "metadata": {
  "kernelspec": {
   "display_name": "Python 3",
   "language": "python",
   "name": "python3"
  },
  "language_info": {
   "codemirror_mode": {
    "name": "ipython",
    "version": 3
   },
   "file_extension": ".py",
   "mimetype": "text/x-python",
   "name": "python",
   "nbconvert_exporter": "python",
   "pygments_lexer": "ipython3",
   "version": "3.6.13"
  }
 },
 "nbformat": 4,
 "nbformat_minor": 5
}
